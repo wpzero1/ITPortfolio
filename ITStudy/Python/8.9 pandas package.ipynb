{
 "cells": [
  {
   "cell_type": "code",
   "execution_count": 3,
   "metadata": {},
   "outputs": [
    {
     "data": {
      "text/plain": [
       "0    1.0\n",
       "1    3.0\n",
       "2    5.0\n",
       "3    NaN\n",
       "4    6.0\n",
       "5    8.0\n",
       "dtype: float64"
      ]
     },
     "execution_count": 3,
     "metadata": {},
     "output_type": "execute_result"
    }
   ],
   "source": [
    "import pandas as pd\n",
    "import numpy as np\n",
    "\n",
    "s = pd.Series([1,3,5,np.nan,6,8])\n",
    "s"
   ]
  },
  {
   "cell_type": "code",
   "execution_count": 4,
   "metadata": {},
   "outputs": [
    {
     "data": {
      "text/plain": [
       "DatetimeIndex(['2018-08-09', '2018-08-10', '2018-08-11', '2018-08-12',\n",
       "               '2018-08-13', '2018-08-14'],\n",
       "              dtype='datetime64[ns]', freq='D')"
      ]
     },
     "execution_count": 4,
     "metadata": {},
     "output_type": "execute_result"
    }
   ],
   "source": [
    "dates = pd.date_range('2018-08-09', periods=6)\n",
    "dates"
   ]
  },
  {
   "cell_type": "code",
   "execution_count": 5,
   "metadata": {},
   "outputs": [
    {
     "data": {
      "text/html": [
       "<div>\n",
       "<style scoped>\n",
       "    .dataframe tbody tr th:only-of-type {\n",
       "        vertical-align: middle;\n",
       "    }\n",
       "\n",
       "    .dataframe tbody tr th {\n",
       "        vertical-align: top;\n",
       "    }\n",
       "\n",
       "    .dataframe thead th {\n",
       "        text-align: right;\n",
       "    }\n",
       "</style>\n",
       "<table border=\"1\" class=\"dataframe\">\n",
       "  <thead>\n",
       "    <tr style=\"text-align: right;\">\n",
       "      <th></th>\n",
       "      <th>A</th>\n",
       "      <th>B</th>\n",
       "      <th>C</th>\n",
       "      <th>D</th>\n",
       "    </tr>\n",
       "  </thead>\n",
       "  <tbody>\n",
       "    <tr>\n",
       "      <th>2018-08-09</th>\n",
       "      <td>-0.074075</td>\n",
       "      <td>-0.602277</td>\n",
       "      <td>-0.417632</td>\n",
       "      <td>0.188624</td>\n",
       "    </tr>\n",
       "    <tr>\n",
       "      <th>2018-08-10</th>\n",
       "      <td>-0.133621</td>\n",
       "      <td>-0.793120</td>\n",
       "      <td>0.361261</td>\n",
       "      <td>1.042137</td>\n",
       "    </tr>\n",
       "    <tr>\n",
       "      <th>2018-08-11</th>\n",
       "      <td>-0.668471</td>\n",
       "      <td>1.863384</td>\n",
       "      <td>0.301795</td>\n",
       "      <td>-0.625388</td>\n",
       "    </tr>\n",
       "    <tr>\n",
       "      <th>2018-08-12</th>\n",
       "      <td>-0.579724</td>\n",
       "      <td>-1.108877</td>\n",
       "      <td>0.064670</td>\n",
       "      <td>0.946376</td>\n",
       "    </tr>\n",
       "    <tr>\n",
       "      <th>2018-08-13</th>\n",
       "      <td>0.626739</td>\n",
       "      <td>-1.288566</td>\n",
       "      <td>1.449273</td>\n",
       "      <td>-0.219656</td>\n",
       "    </tr>\n",
       "    <tr>\n",
       "      <th>2018-08-14</th>\n",
       "      <td>1.499141</td>\n",
       "      <td>-1.128690</td>\n",
       "      <td>0.440736</td>\n",
       "      <td>-0.609130</td>\n",
       "    </tr>\n",
       "  </tbody>\n",
       "</table>\n",
       "</div>"
      ],
      "text/plain": [
       "                   A         B         C         D\n",
       "2018-08-09 -0.074075 -0.602277 -0.417632  0.188624\n",
       "2018-08-10 -0.133621 -0.793120  0.361261  1.042137\n",
       "2018-08-11 -0.668471  1.863384  0.301795 -0.625388\n",
       "2018-08-12 -0.579724 -1.108877  0.064670  0.946376\n",
       "2018-08-13  0.626739 -1.288566  1.449273 -0.219656\n",
       "2018-08-14  1.499141 -1.128690  0.440736 -0.609130"
      ]
     },
     "execution_count": 5,
     "metadata": {},
     "output_type": "execute_result"
    }
   ],
   "source": [
    "df = pd.DataFrame(np.random.randn(6,4), index=dates, columns=['A','B','C','D'])\n",
    "df"
   ]
  },
  {
   "cell_type": "code",
   "execution_count": 8,
   "metadata": {},
   "outputs": [
    {
     "data": {
      "text/html": [
       "<div>\n",
       "<style scoped>\n",
       "    .dataframe tbody tr th:only-of-type {\n",
       "        vertical-align: middle;\n",
       "    }\n",
       "\n",
       "    .dataframe tbody tr th {\n",
       "        vertical-align: top;\n",
       "    }\n",
       "\n",
       "    .dataframe thead th {\n",
       "        text-align: right;\n",
       "    }\n",
       "</style>\n",
       "<table border=\"1\" class=\"dataframe\">\n",
       "  <thead>\n",
       "    <tr style=\"text-align: right;\">\n",
       "      <th></th>\n",
       "      <th>A</th>\n",
       "      <th>B</th>\n",
       "      <th>C</th>\n",
       "      <th>D</th>\n",
       "    </tr>\n",
       "  </thead>\n",
       "  <tbody>\n",
       "    <tr>\n",
       "      <th>2018-08-09</th>\n",
       "      <td>-0.074075</td>\n",
       "      <td>-0.602277</td>\n",
       "      <td>-0.417632</td>\n",
       "      <td>0.188624</td>\n",
       "    </tr>\n",
       "    <tr>\n",
       "      <th>2018-08-10</th>\n",
       "      <td>-0.133621</td>\n",
       "      <td>-0.793120</td>\n",
       "      <td>0.361261</td>\n",
       "      <td>1.042137</td>\n",
       "    </tr>\n",
       "    <tr>\n",
       "      <th>2018-08-11</th>\n",
       "      <td>-0.668471</td>\n",
       "      <td>1.863384</td>\n",
       "      <td>0.301795</td>\n",
       "      <td>-0.625388</td>\n",
       "    </tr>\n",
       "    <tr>\n",
       "      <th>2018-08-12</th>\n",
       "      <td>-0.579724</td>\n",
       "      <td>-1.108877</td>\n",
       "      <td>0.064670</td>\n",
       "      <td>0.946376</td>\n",
       "    </tr>\n",
       "    <tr>\n",
       "      <th>2018-08-13</th>\n",
       "      <td>0.626739</td>\n",
       "      <td>-1.288566</td>\n",
       "      <td>1.449273</td>\n",
       "      <td>-0.219656</td>\n",
       "    </tr>\n",
       "  </tbody>\n",
       "</table>\n",
       "</div>"
      ],
      "text/plain": [
       "                   A         B         C         D\n",
       "2018-08-09 -0.074075 -0.602277 -0.417632  0.188624\n",
       "2018-08-10 -0.133621 -0.793120  0.361261  1.042137\n",
       "2018-08-11 -0.668471  1.863384  0.301795 -0.625388\n",
       "2018-08-12 -0.579724 -1.108877  0.064670  0.946376\n",
       "2018-08-13  0.626739 -1.288566  1.449273 -0.219656"
      ]
     },
     "execution_count": 8,
     "metadata": {},
     "output_type": "execute_result"
    }
   ],
   "source": [
    "df.head() #첫 5행을 보여줌. 괄호 안에 숫자를 넣으면 그 숫자만큼의 행."
   ]
  },
  {
   "cell_type": "code",
   "execution_count": 9,
   "metadata": {},
   "outputs": [
    {
     "data": {
      "text/html": [
       "<div>\n",
       "<style scoped>\n",
       "    .dataframe tbody tr th:only-of-type {\n",
       "        vertical-align: middle;\n",
       "    }\n",
       "\n",
       "    .dataframe tbody tr th {\n",
       "        vertical-align: top;\n",
       "    }\n",
       "\n",
       "    .dataframe thead th {\n",
       "        text-align: right;\n",
       "    }\n",
       "</style>\n",
       "<table border=\"1\" class=\"dataframe\">\n",
       "  <thead>\n",
       "    <tr style=\"text-align: right;\">\n",
       "      <th></th>\n",
       "      <th>A</th>\n",
       "      <th>B</th>\n",
       "      <th>C</th>\n",
       "      <th>D</th>\n",
       "    </tr>\n",
       "  </thead>\n",
       "  <tbody>\n",
       "    <tr>\n",
       "      <th>2018-08-09</th>\n",
       "      <td>-0.074075</td>\n",
       "      <td>-0.602277</td>\n",
       "      <td>-0.417632</td>\n",
       "      <td>0.188624</td>\n",
       "    </tr>\n",
       "    <tr>\n",
       "      <th>2018-08-10</th>\n",
       "      <td>-0.133621</td>\n",
       "      <td>-0.793120</td>\n",
       "      <td>0.361261</td>\n",
       "      <td>1.042137</td>\n",
       "    </tr>\n",
       "    <tr>\n",
       "      <th>2018-08-11</th>\n",
       "      <td>-0.668471</td>\n",
       "      <td>1.863384</td>\n",
       "      <td>0.301795</td>\n",
       "      <td>-0.625388</td>\n",
       "    </tr>\n",
       "  </tbody>\n",
       "</table>\n",
       "</div>"
      ],
      "text/plain": [
       "                   A         B         C         D\n",
       "2018-08-09 -0.074075 -0.602277 -0.417632  0.188624\n",
       "2018-08-10 -0.133621 -0.793120  0.361261  1.042137\n",
       "2018-08-11 -0.668471  1.863384  0.301795 -0.625388"
      ]
     },
     "execution_count": 9,
     "metadata": {},
     "output_type": "execute_result"
    }
   ],
   "source": [
    "df.head(3)"
   ]
  },
  {
   "cell_type": "code",
   "execution_count": 11,
   "metadata": {},
   "outputs": [
    {
     "data": {
      "text/plain": [
       "DatetimeIndex(['2018-08-09', '2018-08-10', '2018-08-11', '2018-08-12',\n",
       "               '2018-08-13', '2018-08-14'],\n",
       "              dtype='datetime64[ns]', freq='D')"
      ]
     },
     "execution_count": 11,
     "metadata": {},
     "output_type": "execute_result"
    }
   ],
   "source": [
    "df.index"
   ]
  },
  {
   "cell_type": "code",
   "execution_count": 12,
   "metadata": {},
   "outputs": [
    {
     "data": {
      "text/plain": [
       "Index(['A', 'B', 'C', 'D'], dtype='object')"
      ]
     },
     "execution_count": 12,
     "metadata": {},
     "output_type": "execute_result"
    }
   ],
   "source": [
    "df.columns #컬럼도 index로 사용 가능"
   ]
  },
  {
   "cell_type": "code",
   "execution_count": 13,
   "metadata": {},
   "outputs": [
    {
     "data": {
      "text/html": [
       "<div>\n",
       "<style scoped>\n",
       "    .dataframe tbody tr th:only-of-type {\n",
       "        vertical-align: middle;\n",
       "    }\n",
       "\n",
       "    .dataframe tbody tr th {\n",
       "        vertical-align: top;\n",
       "    }\n",
       "\n",
       "    .dataframe thead th {\n",
       "        text-align: right;\n",
       "    }\n",
       "</style>\n",
       "<table border=\"1\" class=\"dataframe\">\n",
       "  <thead>\n",
       "    <tr style=\"text-align: right;\">\n",
       "      <th></th>\n",
       "      <th>A</th>\n",
       "      <th>B</th>\n",
       "      <th>C</th>\n",
       "      <th>D</th>\n",
       "    </tr>\n",
       "  </thead>\n",
       "  <tbody>\n",
       "    <tr>\n",
       "      <th>count</th>\n",
       "      <td>6.000000</td>\n",
       "      <td>6.000000</td>\n",
       "      <td>6.000000</td>\n",
       "      <td>6.000000</td>\n",
       "    </tr>\n",
       "    <tr>\n",
       "      <th>mean</th>\n",
       "      <td>0.111665</td>\n",
       "      <td>-0.509691</td>\n",
       "      <td>0.366684</td>\n",
       "      <td>0.120494</td>\n",
       "    </tr>\n",
       "    <tr>\n",
       "      <th>std</th>\n",
       "      <td>0.821180</td>\n",
       "      <td>1.189051</td>\n",
       "      <td>0.614506</td>\n",
       "      <td>0.740343</td>\n",
       "    </tr>\n",
       "    <tr>\n",
       "      <th>min</th>\n",
       "      <td>-0.668471</td>\n",
       "      <td>-1.288566</td>\n",
       "      <td>-0.417632</td>\n",
       "      <td>-0.625388</td>\n",
       "    </tr>\n",
       "    <tr>\n",
       "      <th>25%</th>\n",
       "      <td>-0.468199</td>\n",
       "      <td>-1.123737</td>\n",
       "      <td>0.123951</td>\n",
       "      <td>-0.511762</td>\n",
       "    </tr>\n",
       "    <tr>\n",
       "      <th>50%</th>\n",
       "      <td>-0.103848</td>\n",
       "      <td>-0.950998</td>\n",
       "      <td>0.331528</td>\n",
       "      <td>-0.015516</td>\n",
       "    </tr>\n",
       "    <tr>\n",
       "      <th>75%</th>\n",
       "      <td>0.451536</td>\n",
       "      <td>-0.649987</td>\n",
       "      <td>0.420867</td>\n",
       "      <td>0.756938</td>\n",
       "    </tr>\n",
       "    <tr>\n",
       "      <th>max</th>\n",
       "      <td>1.499141</td>\n",
       "      <td>1.863384</td>\n",
       "      <td>1.449273</td>\n",
       "      <td>1.042137</td>\n",
       "    </tr>\n",
       "  </tbody>\n",
       "</table>\n",
       "</div>"
      ],
      "text/plain": [
       "              A         B         C         D\n",
       "count  6.000000  6.000000  6.000000  6.000000\n",
       "mean   0.111665 -0.509691  0.366684  0.120494\n",
       "std    0.821180  1.189051  0.614506  0.740343\n",
       "min   -0.668471 -1.288566 -0.417632 -0.625388\n",
       "25%   -0.468199 -1.123737  0.123951 -0.511762\n",
       "50%   -0.103848 -0.950998  0.331528 -0.015516\n",
       "75%    0.451536 -0.649987  0.420867  0.756938\n",
       "max    1.499141  1.863384  1.449273  1.042137"
      ]
     },
     "execution_count": 13,
     "metadata": {},
     "output_type": "execute_result"
    }
   ],
   "source": [
    "df.describe() #간단 통계치"
   ]
  },
  {
   "cell_type": "code",
   "execution_count": 14,
   "metadata": {},
   "outputs": [
    {
     "data": {
      "text/html": [
       "<div>\n",
       "<style scoped>\n",
       "    .dataframe tbody tr th:only-of-type {\n",
       "        vertical-align: middle;\n",
       "    }\n",
       "\n",
       "    .dataframe tbody tr th {\n",
       "        vertical-align: top;\n",
       "    }\n",
       "\n",
       "    .dataframe thead th {\n",
       "        text-align: right;\n",
       "    }\n",
       "</style>\n",
       "<table border=\"1\" class=\"dataframe\">\n",
       "  <thead>\n",
       "    <tr style=\"text-align: right;\">\n",
       "      <th></th>\n",
       "      <th>A</th>\n",
       "      <th>B</th>\n",
       "      <th>C</th>\n",
       "      <th>D</th>\n",
       "    </tr>\n",
       "  </thead>\n",
       "  <tbody>\n",
       "    <tr>\n",
       "      <th>2018-08-11</th>\n",
       "      <td>-0.668471</td>\n",
       "      <td>1.863384</td>\n",
       "      <td>0.301795</td>\n",
       "      <td>-0.625388</td>\n",
       "    </tr>\n",
       "    <tr>\n",
       "      <th>2018-08-09</th>\n",
       "      <td>-0.074075</td>\n",
       "      <td>-0.602277</td>\n",
       "      <td>-0.417632</td>\n",
       "      <td>0.188624</td>\n",
       "    </tr>\n",
       "    <tr>\n",
       "      <th>2018-08-10</th>\n",
       "      <td>-0.133621</td>\n",
       "      <td>-0.793120</td>\n",
       "      <td>0.361261</td>\n",
       "      <td>1.042137</td>\n",
       "    </tr>\n",
       "    <tr>\n",
       "      <th>2018-08-12</th>\n",
       "      <td>-0.579724</td>\n",
       "      <td>-1.108877</td>\n",
       "      <td>0.064670</td>\n",
       "      <td>0.946376</td>\n",
       "    </tr>\n",
       "    <tr>\n",
       "      <th>2018-08-14</th>\n",
       "      <td>1.499141</td>\n",
       "      <td>-1.128690</td>\n",
       "      <td>0.440736</td>\n",
       "      <td>-0.609130</td>\n",
       "    </tr>\n",
       "    <tr>\n",
       "      <th>2018-08-13</th>\n",
       "      <td>0.626739</td>\n",
       "      <td>-1.288566</td>\n",
       "      <td>1.449273</td>\n",
       "      <td>-0.219656</td>\n",
       "    </tr>\n",
       "  </tbody>\n",
       "</table>\n",
       "</div>"
      ],
      "text/plain": [
       "                   A         B         C         D\n",
       "2018-08-11 -0.668471  1.863384  0.301795 -0.625388\n",
       "2018-08-09 -0.074075 -0.602277 -0.417632  0.188624\n",
       "2018-08-10 -0.133621 -0.793120  0.361261  1.042137\n",
       "2018-08-12 -0.579724 -1.108877  0.064670  0.946376\n",
       "2018-08-14  1.499141 -1.128690  0.440736 -0.609130\n",
       "2018-08-13  0.626739 -1.288566  1.449273 -0.219656"
      ]
     },
     "execution_count": 14,
     "metadata": {},
     "output_type": "execute_result"
    }
   ],
   "source": [
    "df.sort_values(by='B', ascending=False) #False : 내림차순(기본)"
   ]
  },
  {
   "cell_type": "code",
   "execution_count": 15,
   "metadata": {},
   "outputs": [
    {
     "data": {
      "text/plain": [
       "2018-08-09   -0.074075\n",
       "2018-08-10   -0.133621\n",
       "2018-08-11   -0.668471\n",
       "2018-08-12   -0.579724\n",
       "2018-08-13    0.626739\n",
       "2018-08-14    1.499141\n",
       "Freq: D, Name: A, dtype: float64"
      ]
     },
     "execution_count": 15,
     "metadata": {},
     "output_type": "execute_result"
    }
   ],
   "source": [
    "df['A'] #index를 활용해 대괄호로 해당 컬럼만 보여줌. list가 아니라 series로 리턴됨."
   ]
  },
  {
   "cell_type": "code",
   "execution_count": 16,
   "metadata": {},
   "outputs": [
    {
     "data": {
      "text/html": [
       "<div>\n",
       "<style scoped>\n",
       "    .dataframe tbody tr th:only-of-type {\n",
       "        vertical-align: middle;\n",
       "    }\n",
       "\n",
       "    .dataframe tbody tr th {\n",
       "        vertical-align: top;\n",
       "    }\n",
       "\n",
       "    .dataframe thead th {\n",
       "        text-align: right;\n",
       "    }\n",
       "</style>\n",
       "<table border=\"1\" class=\"dataframe\">\n",
       "  <thead>\n",
       "    <tr style=\"text-align: right;\">\n",
       "      <th></th>\n",
       "      <th>A</th>\n",
       "      <th>B</th>\n",
       "      <th>C</th>\n",
       "      <th>D</th>\n",
       "    </tr>\n",
       "  </thead>\n",
       "  <tbody>\n",
       "    <tr>\n",
       "      <th>2018-08-10</th>\n",
       "      <td>-0.133621</td>\n",
       "      <td>-0.793120</td>\n",
       "      <td>0.361261</td>\n",
       "      <td>1.042137</td>\n",
       "    </tr>\n",
       "    <tr>\n",
       "      <th>2018-08-11</th>\n",
       "      <td>-0.668471</td>\n",
       "      <td>1.863384</td>\n",
       "      <td>0.301795</td>\n",
       "      <td>-0.625388</td>\n",
       "    </tr>\n",
       "    <tr>\n",
       "      <th>2018-08-12</th>\n",
       "      <td>-0.579724</td>\n",
       "      <td>-1.108877</td>\n",
       "      <td>0.064670</td>\n",
       "      <td>0.946376</td>\n",
       "    </tr>\n",
       "    <tr>\n",
       "      <th>2018-08-13</th>\n",
       "      <td>0.626739</td>\n",
       "      <td>-1.288566</td>\n",
       "      <td>1.449273</td>\n",
       "      <td>-0.219656</td>\n",
       "    </tr>\n",
       "  </tbody>\n",
       "</table>\n",
       "</div>"
      ],
      "text/plain": [
       "                   A         B         C         D\n",
       "2018-08-10 -0.133621 -0.793120  0.361261  1.042137\n",
       "2018-08-11 -0.668471  1.863384  0.301795 -0.625388\n",
       "2018-08-12 -0.579724 -1.108877  0.064670  0.946376\n",
       "2018-08-13  0.626739 -1.288566  1.449273 -0.219656"
      ]
     },
     "execution_count": 16,
     "metadata": {},
     "output_type": "execute_result"
    }
   ],
   "source": [
    "df[0:3] #행 기준 슬라이싱\n",
    "df['2018-08-10':'2018-08-13']"
   ]
  },
  {
   "cell_type": "code",
   "execution_count": 17,
   "metadata": {},
   "outputs": [
    {
     "data": {
      "text/plain": [
       "A   -0.074075\n",
       "B   -0.602277\n",
       "C   -0.417632\n",
       "D    0.188624\n",
       "Name: 2018-08-09 00:00:00, dtype: float64"
      ]
     },
     "execution_count": 17,
     "metadata": {},
     "output_type": "execute_result"
    }
   ],
   "source": [
    "df.loc[dates[0]] #라벨로 데이터 접근"
   ]
  },
  {
   "cell_type": "code",
   "execution_count": 19,
   "metadata": {},
   "outputs": [
    {
     "data": {
      "text/html": [
       "<div>\n",
       "<style scoped>\n",
       "    .dataframe tbody tr th:only-of-type {\n",
       "        vertical-align: middle;\n",
       "    }\n",
       "\n",
       "    .dataframe tbody tr th {\n",
       "        vertical-align: top;\n",
       "    }\n",
       "\n",
       "    .dataframe thead th {\n",
       "        text-align: right;\n",
       "    }\n",
       "</style>\n",
       "<table border=\"1\" class=\"dataframe\">\n",
       "  <thead>\n",
       "    <tr style=\"text-align: right;\">\n",
       "      <th></th>\n",
       "      <th>A</th>\n",
       "      <th>B</th>\n",
       "    </tr>\n",
       "  </thead>\n",
       "  <tbody>\n",
       "    <tr>\n",
       "      <th>2018-08-11</th>\n",
       "      <td>-0.668471</td>\n",
       "      <td>1.863384</td>\n",
       "    </tr>\n",
       "    <tr>\n",
       "      <th>2018-08-12</th>\n",
       "      <td>-0.579724</td>\n",
       "      <td>-1.108877</td>\n",
       "    </tr>\n",
       "    <tr>\n",
       "      <th>2018-08-13</th>\n",
       "      <td>0.626739</td>\n",
       "      <td>-1.288566</td>\n",
       "    </tr>\n",
       "  </tbody>\n",
       "</table>\n",
       "</div>"
      ],
      "text/plain": [
       "                   A         B\n",
       "2018-08-11 -0.668471  1.863384\n",
       "2018-08-12 -0.579724 -1.108877\n",
       "2018-08-13  0.626739 -1.288566"
      ]
     },
     "execution_count": 19,
     "metadata": {},
     "output_type": "execute_result"
    }
   ],
   "source": [
    "df.loc['2018-08-11':'2018-08-13', ['A','B']] #행과 열 모두 접근 가능"
   ]
  },
  {
   "cell_type": "code",
   "execution_count": 21,
   "metadata": {},
   "outputs": [
    {
     "data": {
      "text/plain": [
       "A   -0.579724\n",
       "B   -1.108877\n",
       "C    0.064670\n",
       "D    0.946376\n",
       "Name: 2018-08-12 00:00:00, dtype: float64"
      ]
     },
     "execution_count": 21,
     "metadata": {},
     "output_type": "execute_result"
    }
   ],
   "source": [
    "df.iloc[3] #행과 열의 번호를 이용해 데이터 접근"
   ]
  },
  {
   "cell_type": "code",
   "execution_count": 22,
   "metadata": {},
   "outputs": [
    {
     "data": {
      "text/html": [
       "<div>\n",
       "<style scoped>\n",
       "    .dataframe tbody tr th:only-of-type {\n",
       "        vertical-align: middle;\n",
       "    }\n",
       "\n",
       "    .dataframe tbody tr th {\n",
       "        vertical-align: top;\n",
       "    }\n",
       "\n",
       "    .dataframe thead th {\n",
       "        text-align: right;\n",
       "    }\n",
       "</style>\n",
       "<table border=\"1\" class=\"dataframe\">\n",
       "  <thead>\n",
       "    <tr style=\"text-align: right;\">\n",
       "      <th></th>\n",
       "      <th>A</th>\n",
       "      <th>B</th>\n",
       "    </tr>\n",
       "  </thead>\n",
       "  <tbody>\n",
       "    <tr>\n",
       "      <th>2018-08-12</th>\n",
       "      <td>-0.579724</td>\n",
       "      <td>-1.108877</td>\n",
       "    </tr>\n",
       "    <tr>\n",
       "      <th>2018-08-13</th>\n",
       "      <td>0.626739</td>\n",
       "      <td>-1.288566</td>\n",
       "    </tr>\n",
       "  </tbody>\n",
       "</table>\n",
       "</div>"
      ],
      "text/plain": [
       "                   A         B\n",
       "2018-08-12 -0.579724 -1.108877\n",
       "2018-08-13  0.626739 -1.288566"
      ]
     },
     "execution_count": 22,
     "metadata": {},
     "output_type": "execute_result"
    }
   ],
   "source": [
    "df.iloc[3:5,0:2]"
   ]
  },
  {
   "cell_type": "code",
   "execution_count": 25,
   "metadata": {},
   "outputs": [
    {
     "data": {
      "text/html": [
       "<div>\n",
       "<style scoped>\n",
       "    .dataframe tbody tr th:only-of-type {\n",
       "        vertical-align: middle;\n",
       "    }\n",
       "\n",
       "    .dataframe tbody tr th {\n",
       "        vertical-align: top;\n",
       "    }\n",
       "\n",
       "    .dataframe thead th {\n",
       "        text-align: right;\n",
       "    }\n",
       "</style>\n",
       "<table border=\"1\" class=\"dataframe\">\n",
       "  <thead>\n",
       "    <tr style=\"text-align: right;\">\n",
       "      <th></th>\n",
       "      <th>A</th>\n",
       "      <th>C</th>\n",
       "    </tr>\n",
       "  </thead>\n",
       "  <tbody>\n",
       "    <tr>\n",
       "      <th>2018-08-10</th>\n",
       "      <td>-0.133621</td>\n",
       "      <td>0.361261</td>\n",
       "    </tr>\n",
       "    <tr>\n",
       "      <th>2018-08-11</th>\n",
       "      <td>-0.668471</td>\n",
       "      <td>0.301795</td>\n",
       "    </tr>\n",
       "    <tr>\n",
       "      <th>2018-08-13</th>\n",
       "      <td>0.626739</td>\n",
       "      <td>1.449273</td>\n",
       "    </tr>\n",
       "  </tbody>\n",
       "</table>\n",
       "</div>"
      ],
      "text/plain": [
       "                   A         C\n",
       "2018-08-10 -0.133621  0.361261\n",
       "2018-08-11 -0.668471  0.301795\n",
       "2018-08-13  0.626739  1.449273"
      ]
     },
     "execution_count": 25,
     "metadata": {},
     "output_type": "execute_result"
    }
   ],
   "source": [
    "df.iloc[[1,2,4],[0,2]] #파이썬은 끝 자리는 +1되있음을 기억 앞은 행(가로줄), 뒤는 열(세로줄)"
   ]
  },
  {
   "cell_type": "code",
   "execution_count": 24,
   "metadata": {},
   "outputs": [
    {
     "data": {
      "text/html": [
       "<div>\n",
       "<style scoped>\n",
       "    .dataframe tbody tr th:only-of-type {\n",
       "        vertical-align: middle;\n",
       "    }\n",
       "\n",
       "    .dataframe tbody tr th {\n",
       "        vertical-align: top;\n",
       "    }\n",
       "\n",
       "    .dataframe thead th {\n",
       "        text-align: right;\n",
       "    }\n",
       "</style>\n",
       "<table border=\"1\" class=\"dataframe\">\n",
       "  <thead>\n",
       "    <tr style=\"text-align: right;\">\n",
       "      <th></th>\n",
       "      <th>A</th>\n",
       "      <th>B</th>\n",
       "      <th>C</th>\n",
       "      <th>D</th>\n",
       "    </tr>\n",
       "  </thead>\n",
       "  <tbody>\n",
       "    <tr>\n",
       "      <th>2018-08-09</th>\n",
       "      <td>-0.074075</td>\n",
       "      <td>-0.602277</td>\n",
       "      <td>-0.417632</td>\n",
       "      <td>0.188624</td>\n",
       "    </tr>\n",
       "    <tr>\n",
       "      <th>2018-08-10</th>\n",
       "      <td>-0.133621</td>\n",
       "      <td>-0.793120</td>\n",
       "      <td>0.361261</td>\n",
       "      <td>1.042137</td>\n",
       "    </tr>\n",
       "    <tr>\n",
       "      <th>2018-08-11</th>\n",
       "      <td>-0.668471</td>\n",
       "      <td>1.863384</td>\n",
       "      <td>0.301795</td>\n",
       "      <td>-0.625388</td>\n",
       "    </tr>\n",
       "    <tr>\n",
       "      <th>2018-08-12</th>\n",
       "      <td>-0.579724</td>\n",
       "      <td>-1.108877</td>\n",
       "      <td>0.064670</td>\n",
       "      <td>0.946376</td>\n",
       "    </tr>\n",
       "    <tr>\n",
       "      <th>2018-08-13</th>\n",
       "      <td>0.626739</td>\n",
       "      <td>-1.288566</td>\n",
       "      <td>1.449273</td>\n",
       "      <td>-0.219656</td>\n",
       "    </tr>\n",
       "    <tr>\n",
       "      <th>2018-08-14</th>\n",
       "      <td>1.499141</td>\n",
       "      <td>-1.128690</td>\n",
       "      <td>0.440736</td>\n",
       "      <td>-0.609130</td>\n",
       "    </tr>\n",
       "  </tbody>\n",
       "</table>\n",
       "</div>"
      ],
      "text/plain": [
       "                   A         B         C         D\n",
       "2018-08-09 -0.074075 -0.602277 -0.417632  0.188624\n",
       "2018-08-10 -0.133621 -0.793120  0.361261  1.042137\n",
       "2018-08-11 -0.668471  1.863384  0.301795 -0.625388\n",
       "2018-08-12 -0.579724 -1.108877  0.064670  0.946376\n",
       "2018-08-13  0.626739 -1.288566  1.449273 -0.219656\n",
       "2018-08-14  1.499141 -1.128690  0.440736 -0.609130"
      ]
     },
     "execution_count": 24,
     "metadata": {},
     "output_type": "execute_result"
    }
   ],
   "source": [
    "df"
   ]
  },
  {
   "cell_type": "code",
   "execution_count": 26,
   "metadata": {},
   "outputs": [
    {
     "data": {
      "text/html": [
       "<div>\n",
       "<style scoped>\n",
       "    .dataframe tbody tr th:only-of-type {\n",
       "        vertical-align: middle;\n",
       "    }\n",
       "\n",
       "    .dataframe tbody tr th {\n",
       "        vertical-align: top;\n",
       "    }\n",
       "\n",
       "    .dataframe thead th {\n",
       "        text-align: right;\n",
       "    }\n",
       "</style>\n",
       "<table border=\"1\" class=\"dataframe\">\n",
       "  <thead>\n",
       "    <tr style=\"text-align: right;\">\n",
       "      <th></th>\n",
       "      <th>A</th>\n",
       "      <th>B</th>\n",
       "      <th>C</th>\n",
       "      <th>D</th>\n",
       "    </tr>\n",
       "  </thead>\n",
       "  <tbody>\n",
       "    <tr>\n",
       "      <th>2018-08-13</th>\n",
       "      <td>0.626739</td>\n",
       "      <td>-1.288566</td>\n",
       "      <td>1.449273</td>\n",
       "      <td>-0.219656</td>\n",
       "    </tr>\n",
       "    <tr>\n",
       "      <th>2018-08-14</th>\n",
       "      <td>1.499141</td>\n",
       "      <td>-1.128690</td>\n",
       "      <td>0.440736</td>\n",
       "      <td>-0.609130</td>\n",
       "    </tr>\n",
       "  </tbody>\n",
       "</table>\n",
       "</div>"
      ],
      "text/plain": [
       "                   A         B         C         D\n",
       "2018-08-13  0.626739 -1.288566  1.449273 -0.219656\n",
       "2018-08-14  1.499141 -1.128690  0.440736 -0.609130"
      ]
     },
     "execution_count": 26,
     "metadata": {},
     "output_type": "execute_result"
    }
   ],
   "source": [
    "df[df.A > 0] #데이터가 특정 값 이상인 것만 뽑을 수도 있다 (물론 행,렬은 살아있음)"
   ]
  },
  {
   "cell_type": "code",
   "execution_count": 27,
   "metadata": {},
   "outputs": [
    {
     "data": {
      "text/html": [
       "<div>\n",
       "<style scoped>\n",
       "    .dataframe tbody tr th:only-of-type {\n",
       "        vertical-align: middle;\n",
       "    }\n",
       "\n",
       "    .dataframe tbody tr th {\n",
       "        vertical-align: top;\n",
       "    }\n",
       "\n",
       "    .dataframe thead th {\n",
       "        text-align: right;\n",
       "    }\n",
       "</style>\n",
       "<table border=\"1\" class=\"dataframe\">\n",
       "  <thead>\n",
       "    <tr style=\"text-align: right;\">\n",
       "      <th></th>\n",
       "      <th>A</th>\n",
       "      <th>B</th>\n",
       "      <th>C</th>\n",
       "      <th>D</th>\n",
       "    </tr>\n",
       "  </thead>\n",
       "  <tbody>\n",
       "    <tr>\n",
       "      <th>2018-08-09</th>\n",
       "      <td>NaN</td>\n",
       "      <td>NaN</td>\n",
       "      <td>NaN</td>\n",
       "      <td>0.188624</td>\n",
       "    </tr>\n",
       "    <tr>\n",
       "      <th>2018-08-10</th>\n",
       "      <td>NaN</td>\n",
       "      <td>NaN</td>\n",
       "      <td>0.361261</td>\n",
       "      <td>1.042137</td>\n",
       "    </tr>\n",
       "    <tr>\n",
       "      <th>2018-08-11</th>\n",
       "      <td>NaN</td>\n",
       "      <td>1.863384</td>\n",
       "      <td>0.301795</td>\n",
       "      <td>NaN</td>\n",
       "    </tr>\n",
       "    <tr>\n",
       "      <th>2018-08-12</th>\n",
       "      <td>NaN</td>\n",
       "      <td>NaN</td>\n",
       "      <td>0.064670</td>\n",
       "      <td>0.946376</td>\n",
       "    </tr>\n",
       "    <tr>\n",
       "      <th>2018-08-13</th>\n",
       "      <td>0.626739</td>\n",
       "      <td>NaN</td>\n",
       "      <td>1.449273</td>\n",
       "      <td>NaN</td>\n",
       "    </tr>\n",
       "    <tr>\n",
       "      <th>2018-08-14</th>\n",
       "      <td>1.499141</td>\n",
       "      <td>NaN</td>\n",
       "      <td>0.440736</td>\n",
       "      <td>NaN</td>\n",
       "    </tr>\n",
       "  </tbody>\n",
       "</table>\n",
       "</div>"
      ],
      "text/plain": [
       "                   A         B         C         D\n",
       "2018-08-09       NaN       NaN       NaN  0.188624\n",
       "2018-08-10       NaN       NaN  0.361261  1.042137\n",
       "2018-08-11       NaN  1.863384  0.301795       NaN\n",
       "2018-08-12       NaN       NaN  0.064670  0.946376\n",
       "2018-08-13  0.626739       NaN  1.449273       NaN\n",
       "2018-08-14  1.499141       NaN  0.440736       NaN"
      ]
     },
     "execution_count": 27,
     "metadata": {},
     "output_type": "execute_result"
    }
   ],
   "source": [
    "df[df > 0]"
   ]
  },
  {
   "cell_type": "code",
   "execution_count": 28,
   "metadata": {},
   "outputs": [],
   "source": [
    "df2 = df #df.copy()를 굳이 쓰지 않아도 가능하다."
   ]
  },
  {
   "cell_type": "code",
   "execution_count": 29,
   "metadata": {},
   "outputs": [
    {
     "data": {
      "text/html": [
       "<div>\n",
       "<style scoped>\n",
       "    .dataframe tbody tr th:only-of-type {\n",
       "        vertical-align: middle;\n",
       "    }\n",
       "\n",
       "    .dataframe tbody tr th {\n",
       "        vertical-align: top;\n",
       "    }\n",
       "\n",
       "    .dataframe thead th {\n",
       "        text-align: right;\n",
       "    }\n",
       "</style>\n",
       "<table border=\"1\" class=\"dataframe\">\n",
       "  <thead>\n",
       "    <tr style=\"text-align: right;\">\n",
       "      <th></th>\n",
       "      <th>A</th>\n",
       "      <th>B</th>\n",
       "      <th>C</th>\n",
       "      <th>D</th>\n",
       "    </tr>\n",
       "  </thead>\n",
       "  <tbody>\n",
       "    <tr>\n",
       "      <th>2018-08-09</th>\n",
       "      <td>-0.074075</td>\n",
       "      <td>-0.602277</td>\n",
       "      <td>-0.417632</td>\n",
       "      <td>0.188624</td>\n",
       "    </tr>\n",
       "    <tr>\n",
       "      <th>2018-08-10</th>\n",
       "      <td>-0.133621</td>\n",
       "      <td>-0.793120</td>\n",
       "      <td>0.361261</td>\n",
       "      <td>1.042137</td>\n",
       "    </tr>\n",
       "    <tr>\n",
       "      <th>2018-08-11</th>\n",
       "      <td>-0.668471</td>\n",
       "      <td>1.863384</td>\n",
       "      <td>0.301795</td>\n",
       "      <td>-0.625388</td>\n",
       "    </tr>\n",
       "    <tr>\n",
       "      <th>2018-08-12</th>\n",
       "      <td>-0.579724</td>\n",
       "      <td>-1.108877</td>\n",
       "      <td>0.064670</td>\n",
       "      <td>0.946376</td>\n",
       "    </tr>\n",
       "    <tr>\n",
       "      <th>2018-08-13</th>\n",
       "      <td>0.626739</td>\n",
       "      <td>-1.288566</td>\n",
       "      <td>1.449273</td>\n",
       "      <td>-0.219656</td>\n",
       "    </tr>\n",
       "    <tr>\n",
       "      <th>2018-08-14</th>\n",
       "      <td>1.499141</td>\n",
       "      <td>-1.128690</td>\n",
       "      <td>0.440736</td>\n",
       "      <td>-0.609130</td>\n",
       "    </tr>\n",
       "  </tbody>\n",
       "</table>\n",
       "</div>"
      ],
      "text/plain": [
       "                   A         B         C         D\n",
       "2018-08-09 -0.074075 -0.602277 -0.417632  0.188624\n",
       "2018-08-10 -0.133621 -0.793120  0.361261  1.042137\n",
       "2018-08-11 -0.668471  1.863384  0.301795 -0.625388\n",
       "2018-08-12 -0.579724 -1.108877  0.064670  0.946376\n",
       "2018-08-13  0.626739 -1.288566  1.449273 -0.219656\n",
       "2018-08-14  1.499141 -1.128690  0.440736 -0.609130"
      ]
     },
     "execution_count": 29,
     "metadata": {},
     "output_type": "execute_result"
    }
   ],
   "source": [
    "df2"
   ]
  },
  {
   "cell_type": "code",
   "execution_count": 30,
   "metadata": {},
   "outputs": [
    {
     "data": {
      "text/html": [
       "<div>\n",
       "<style scoped>\n",
       "    .dataframe tbody tr th:only-of-type {\n",
       "        vertical-align: middle;\n",
       "    }\n",
       "\n",
       "    .dataframe tbody tr th {\n",
       "        vertical-align: top;\n",
       "    }\n",
       "\n",
       "    .dataframe thead th {\n",
       "        text-align: right;\n",
       "    }\n",
       "</style>\n",
       "<table border=\"1\" class=\"dataframe\">\n",
       "  <thead>\n",
       "    <tr style=\"text-align: right;\">\n",
       "      <th></th>\n",
       "      <th>A</th>\n",
       "      <th>B</th>\n",
       "      <th>C</th>\n",
       "      <th>D</th>\n",
       "      <th>E</th>\n",
       "    </tr>\n",
       "  </thead>\n",
       "  <tbody>\n",
       "    <tr>\n",
       "      <th>2018-08-09</th>\n",
       "      <td>-0.074075</td>\n",
       "      <td>-0.602277</td>\n",
       "      <td>-0.417632</td>\n",
       "      <td>0.188624</td>\n",
       "      <td>one</td>\n",
       "    </tr>\n",
       "    <tr>\n",
       "      <th>2018-08-10</th>\n",
       "      <td>-0.133621</td>\n",
       "      <td>-0.793120</td>\n",
       "      <td>0.361261</td>\n",
       "      <td>1.042137</td>\n",
       "      <td>two</td>\n",
       "    </tr>\n",
       "    <tr>\n",
       "      <th>2018-08-11</th>\n",
       "      <td>-0.668471</td>\n",
       "      <td>1.863384</td>\n",
       "      <td>0.301795</td>\n",
       "      <td>-0.625388</td>\n",
       "      <td>three</td>\n",
       "    </tr>\n",
       "    <tr>\n",
       "      <th>2018-08-12</th>\n",
       "      <td>-0.579724</td>\n",
       "      <td>-1.108877</td>\n",
       "      <td>0.064670</td>\n",
       "      <td>0.946376</td>\n",
       "      <td>four</td>\n",
       "    </tr>\n",
       "    <tr>\n",
       "      <th>2018-08-13</th>\n",
       "      <td>0.626739</td>\n",
       "      <td>-1.288566</td>\n",
       "      <td>1.449273</td>\n",
       "      <td>-0.219656</td>\n",
       "      <td>five</td>\n",
       "    </tr>\n",
       "    <tr>\n",
       "      <th>2018-08-14</th>\n",
       "      <td>1.499141</td>\n",
       "      <td>-1.128690</td>\n",
       "      <td>0.440736</td>\n",
       "      <td>-0.609130</td>\n",
       "      <td>six</td>\n",
       "    </tr>\n",
       "  </tbody>\n",
       "</table>\n",
       "</div>"
      ],
      "text/plain": [
       "                   A         B         C         D      E\n",
       "2018-08-09 -0.074075 -0.602277 -0.417632  0.188624    one\n",
       "2018-08-10 -0.133621 -0.793120  0.361261  1.042137    two\n",
       "2018-08-11 -0.668471  1.863384  0.301795 -0.625388  three\n",
       "2018-08-12 -0.579724 -1.108877  0.064670  0.946376   four\n",
       "2018-08-13  0.626739 -1.288566  1.449273 -0.219656   five\n",
       "2018-08-14  1.499141 -1.128690  0.440736 -0.609130    six"
      ]
     },
     "execution_count": 30,
     "metadata": {},
     "output_type": "execute_result"
    }
   ],
   "source": [
    "df2['E'] = ['one','two','three','four','five','six' ] #새로운 데이터 컬럼 삽입 가능\n",
    "df2"
   ]
  },
  {
   "cell_type": "code",
   "execution_count": 31,
   "metadata": {},
   "outputs": [
    {
     "data": {
      "text/plain": [
       "2018-08-09    False\n",
       "2018-08-10     True\n",
       "2018-08-11    False\n",
       "2018-08-12     True\n",
       "2018-08-13    False\n",
       "2018-08-14    False\n",
       "Freq: D, Name: E, dtype: bool"
      ]
     },
     "execution_count": 31,
     "metadata": {},
     "output_type": "execute_result"
    }
   ],
   "source": [
    "df2['E'].isin(['two','four']) #데이터가 있는지 없는지 확인"
   ]
  },
  {
   "cell_type": "code",
   "execution_count": 32,
   "metadata": {},
   "outputs": [
    {
     "data": {
      "text/html": [
       "<div>\n",
       "<style scoped>\n",
       "    .dataframe tbody tr th:only-of-type {\n",
       "        vertical-align: middle;\n",
       "    }\n",
       "\n",
       "    .dataframe tbody tr th {\n",
       "        vertical-align: top;\n",
       "    }\n",
       "\n",
       "    .dataframe thead th {\n",
       "        text-align: right;\n",
       "    }\n",
       "</style>\n",
       "<table border=\"1\" class=\"dataframe\">\n",
       "  <thead>\n",
       "    <tr style=\"text-align: right;\">\n",
       "      <th></th>\n",
       "      <th>A</th>\n",
       "      <th>B</th>\n",
       "      <th>C</th>\n",
       "      <th>D</th>\n",
       "      <th>E</th>\n",
       "    </tr>\n",
       "  </thead>\n",
       "  <tbody>\n",
       "    <tr>\n",
       "      <th>2018-08-10</th>\n",
       "      <td>-0.133621</td>\n",
       "      <td>-0.793120</td>\n",
       "      <td>0.361261</td>\n",
       "      <td>1.042137</td>\n",
       "      <td>two</td>\n",
       "    </tr>\n",
       "    <tr>\n",
       "      <th>2018-08-12</th>\n",
       "      <td>-0.579724</td>\n",
       "      <td>-1.108877</td>\n",
       "      <td>0.064670</td>\n",
       "      <td>0.946376</td>\n",
       "      <td>four</td>\n",
       "    </tr>\n",
       "  </tbody>\n",
       "</table>\n",
       "</div>"
      ],
      "text/plain": [
       "                   A         B         C         D     E\n",
       "2018-08-10 -0.133621 -0.793120  0.361261  1.042137   two\n",
       "2018-08-12 -0.579724 -1.108877  0.064670  0.946376  four"
      ]
     },
     "execution_count": 32,
     "metadata": {},
     "output_type": "execute_result"
    }
   ],
   "source": [
    "df2[df2['E'].isin(['two','four'])] #위에서 확인한 데이터를 출력하고자 할 때."
   ]
  },
  {
   "cell_type": "code",
   "execution_count": 33,
   "metadata": {},
   "outputs": [
    {
     "data": {
      "text/html": [
       "<div>\n",
       "<style scoped>\n",
       "    .dataframe tbody tr th:only-of-type {\n",
       "        vertical-align: middle;\n",
       "    }\n",
       "\n",
       "    .dataframe tbody tr th {\n",
       "        vertical-align: top;\n",
       "    }\n",
       "\n",
       "    .dataframe thead th {\n",
       "        text-align: right;\n",
       "    }\n",
       "</style>\n",
       "<table border=\"1\" class=\"dataframe\">\n",
       "  <thead>\n",
       "    <tr style=\"text-align: right;\">\n",
       "      <th></th>\n",
       "      <th>A</th>\n",
       "      <th>B</th>\n",
       "      <th>C</th>\n",
       "      <th>D</th>\n",
       "      <th>E</th>\n",
       "    </tr>\n",
       "  </thead>\n",
       "  <tbody>\n",
       "    <tr>\n",
       "      <th>2018-08-09</th>\n",
       "      <td>-0.074075</td>\n",
       "      <td>-0.602277</td>\n",
       "      <td>-0.417632</td>\n",
       "      <td>0.188624</td>\n",
       "      <td>one</td>\n",
       "    </tr>\n",
       "    <tr>\n",
       "      <th>2018-08-10</th>\n",
       "      <td>-0.207696</td>\n",
       "      <td>-1.395396</td>\n",
       "      <td>-0.056371</td>\n",
       "      <td>1.230761</td>\n",
       "      <td>onetwo</td>\n",
       "    </tr>\n",
       "    <tr>\n",
       "      <th>2018-08-11</th>\n",
       "      <td>-0.876166</td>\n",
       "      <td>0.467987</td>\n",
       "      <td>0.245424</td>\n",
       "      <td>0.605373</td>\n",
       "      <td>onetwothree</td>\n",
       "    </tr>\n",
       "    <tr>\n",
       "      <th>2018-08-12</th>\n",
       "      <td>-1.455891</td>\n",
       "      <td>-0.640890</td>\n",
       "      <td>0.310093</td>\n",
       "      <td>1.551749</td>\n",
       "      <td>onetwothreefour</td>\n",
       "    </tr>\n",
       "    <tr>\n",
       "      <th>2018-08-13</th>\n",
       "      <td>-0.829151</td>\n",
       "      <td>-1.929456</td>\n",
       "      <td>1.759367</td>\n",
       "      <td>1.332093</td>\n",
       "      <td>onetwothreefourfive</td>\n",
       "    </tr>\n",
       "    <tr>\n",
       "      <th>2018-08-14</th>\n",
       "      <td>0.669989</td>\n",
       "      <td>-3.058146</td>\n",
       "      <td>2.200103</td>\n",
       "      <td>0.722963</td>\n",
       "      <td>onetwothreefourfivesix</td>\n",
       "    </tr>\n",
       "  </tbody>\n",
       "</table>\n",
       "</div>"
      ],
      "text/plain": [
       "                   A         B         C         D                       E\n",
       "2018-08-09 -0.074075 -0.602277 -0.417632  0.188624                     one\n",
       "2018-08-10 -0.207696 -1.395396 -0.056371  1.230761                  onetwo\n",
       "2018-08-11 -0.876166  0.467987  0.245424  0.605373             onetwothree\n",
       "2018-08-12 -1.455891 -0.640890  0.310093  1.551749         onetwothreefour\n",
       "2018-08-13 -0.829151 -1.929456  1.759367  1.332093     onetwothreefourfive\n",
       "2018-08-14  0.669989 -3.058146  2.200103  0.722963  onetwothreefourfivesix"
      ]
     },
     "execution_count": 33,
     "metadata": {},
     "output_type": "execute_result"
    }
   ],
   "source": [
    "df.apply(np.cumsum) #누적합. 간접적으로 쓸 때 apply사용"
   ]
  },
  {
   "cell_type": "code",
   "execution_count": 50,
   "metadata": {},
   "outputs": [],
   "source": [
    "import numpy as np\n",
    "import matplotlib.pyplot as plt #import 해줘야 아래에서 실행 가능함.\n",
    "\n",
    "t = np.arange(0,12,0.01)\n",
    "y = np.sin(t)"
   ]
  },
  {
   "cell_type": "code",
   "execution_count": 42,
   "metadata": {},
   "outputs": [
    {
     "data": {
      "image/png": "[encoded data removed]",
      "text/plain": [
       "<Figure size 720x432 with 1 Axes>"
      ]
     },
     "metadata": {},
     "output_type": "display_data"
    }
   ],
   "source": [
    "plt.figure(figsize=(10,6))\n",
    "plt.plot(t, y)\n",
    "plt.show()"
   ]
  },
  {
   "cell_type": "code",
   "execution_count": 46,
   "metadata": {},
   "outputs": [
    {
     "data": {
      "image/png": "[encoded data removed]",
      "text/plain": [
       "<Figure size 720x432 with 1 Axes>"
      ]
     },
     "metadata": {},
     "output_type": "display_data"
    }
   ],
   "source": [
    "plt.figure(figsize=(10,6))\n",
    "plt.plot(t, np.sin(t), label='sin')\n",
    "plt.plot(t, np.cos(t), label='cos')\n",
    "plt.grid() #격자배경\n",
    "plt.legend() #범례\n",
    "plt.xlabel('time') #x축 라벨\n",
    "plt.ylabel('Amplitude') #y축 라벨\n",
    "plt.title('Example of sin wave') #제목\n",
    "plt.show()"
   ]
  },
  {
   "cell_type": "code",
   "execution_count": 48,
   "metadata": {},
   "outputs": [
    {
     "data": {
      "image/png": "[encoded data removed]",
      "text/plain": [
       "<Figure size 720x432 with 1 Axes>"
      ]
     },
     "metadata": {},
     "output_type": "display_data"
    }
   ],
   "source": [
    "plt.figure(figsize=(10,6))\n",
    "plt.plot(t, np.sin(t), lw=3, label='sin')\n",
    "plt.plot(t, np.cos(t), 'r', label='cos')\n",
    "plt.grid() #격자배경\n",
    "plt.legend() #범례\n",
    "plt.xlabel('time') #x축 라벨\n",
    "plt.ylabel('Amplitude') #y축 라벨\n",
    "plt.title('Example of sin wave') #제목\n",
    "plt.ylim(-1.2, 1.2) #축값 설정 (limit이라는 의미)\n",
    "plt.xlim(0, np.pi) #축값 설정\n",
    "plt.show()"
   ]
  },
  {
   "cell_type": "code",
   "execution_count": 52,
   "metadata": {},
   "outputs": [
    {
     "data": {
      "image/png": "[encoded data removed]",
      "text/plain": [
       "<Figure size 720x432 with 1 Axes>"
      ]
     },
     "metadata": {},
     "output_type": "display_data"
    }
   ],
   "source": [
    "t = np.arange(0, 5, 0.5)\n",
    "\n",
    "plt.figure(figsize=(10,6))\n",
    "plt.plot(t, t, 'r--') #빨간 점선\n",
    "plt.plot(t, t**2, 'bs') #blue square\n",
    "plt.plot(t, t**3, 'g^') #삼각형모양 점\n",
    "plt.show()"
   ]
  },
  {
   "cell_type": "code",
   "execution_count": 54,
   "metadata": {},
   "outputs": [
    {
     "data": {
      "image/png": "[encoded data removed]",
      "text/plain": [
       "<Figure size 720x432 with 1 Axes>"
      ]
     },
     "metadata": {},
     "output_type": "display_data"
    },
    {
     "data": {
      "image/png": "[encoded data removed]",
      "text/plain": [
       "<Figure size 720x432 with 1 Axes>"
      ]
     },
     "metadata": {},
     "output_type": "display_data"
    }
   ],
   "source": [
    "#그래프 따로 그리기\n",
    "t = np.arange(0, 5, 0.5)\n",
    "\n",
    "plt.figure(figsize=(10,6))\n",
    "pl1 = plt.plot(t, t, 'r--') #빨간 점선\n",
    "\n",
    "plt.figure(figsize=(10,6))\n",
    "pl2 = plt.plot(t, t**3, 'g^') #삼각형모양 점\n",
    "plt.show()"
   ]
  },
  {
   "cell_type": "code",
   "execution_count": 58,
   "metadata": {},
   "outputs": [
    {
     "data": {
      "image/png": "[encoded data removed]",
      "text/plain": [
       "<Figure size 720x432 with 1 Axes>"
      ]
     },
     "metadata": {},
     "output_type": "display_data"
    }
   ],
   "source": [
    "t = [0,1,2,3,4,5,6]\n",
    "y = [1,4,5,8,9,5,3]\n",
    "\n",
    "plt.figure(figsize=(10,6))\n",
    "plt.plot(t, y, color='green', linestyle='dashed', marker='o',\n",
    "         markerfacecolor='blue', markersize=12)\n",
    "plt.show()"
   ]
  },
  {
   "cell_type": "code",
   "execution_count": 59,
   "metadata": {},
   "outputs": [],
   "source": [
    "t = np.array([0,1,2,3,4,5,6,7,8,9])\n",
    "y = np.array([9,8,7,9,8,3,2,4,3,4])"
   ]
  },
  {
   "cell_type": "code",
   "execution_count": 62,
   "metadata": {},
   "outputs": [
    {
     "data": {
      "image/png": "[encoded data removed]",
      "text/plain": [
       "<Figure size 720x432 with 2 Axes>"
      ]
     },
     "metadata": {},
     "output_type": "display_data"
    }
   ],
   "source": [
    "colormap = t\n",
    "\n",
    "plt.figure(figsize=(10,6))\n",
    "plt.scatter(t,y, s = 50, c = colormap, marker='>')\n",
    "plt.colorbar()\n",
    "plt.show()"
   ]
  },
  {
   "cell_type": "code",
   "execution_count": null,
   "metadata": {},
   "outputs": [],
   "source": []
  }
 ],
 "metadata": {
  "kernelspec": {
   "display_name": "Python 3",
   "language": "python",
   "name": "python3"
  },
  "language_info": {
   "codemirror_mode": {
    "name": "ipython",
    "version": 3
   },
   "file_extension": ".py",
   "mimetype": "text/x-python",
   "name": "python",
   "nbconvert_exporter": "python",
   "pygments_lexer": "ipython3",
   "version": "3.6.5"
  }
 },
 "nbformat": 4,
 "nbformat_minor": 2
}
