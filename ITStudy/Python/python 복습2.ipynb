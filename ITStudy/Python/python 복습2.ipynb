{
 "cells": [
  {
   "cell_type": "code",
   "execution_count": 3,
   "metadata": {},
   "outputs": [
    {
     "data": {
      "text/plain": [
       "3"
      ]
     },
     "execution_count": 3,
     "metadata": {},
     "output_type": "execute_result"
    }
   ],
   "source": [
    "#함수 만들기 파트\n",
    "\n",
    "def sum(a,b) : \n",
    "    return a+b\n",
    "sum(1,2)"
   ]
  },
  {
   "cell_type": "code",
   "execution_count": 4,
   "metadata": {},
   "outputs": [
    {
     "name": "stdout",
     "output_type": "stream",
     "text": [
      "배 안고파요?\n"
     ]
    }
   ],
   "source": [
    "def hungry():\n",
    "    print(\"배 안고파요?\")\n",
    "hungry()"
   ]
  },
  {
   "cell_type": "code",
   "execution_count": 5,
   "metadata": {},
   "outputs": [
    {
     "data": {
      "text/plain": [
       "6"
      ]
     },
     "execution_count": 5,
     "metadata": {},
     "output_type": "execute_result"
    }
   ],
   "source": [
    "#인수가 여러개일 때 인수 앞에 *을 붙인다\n",
    "def sum(*a) :\n",
    "    total = 0\n",
    "    for i in a :\n",
    "        total += i\n",
    "    return total\n",
    "sum(1,2,3)"
   ]
  },
  {
   "cell_type": "code",
   "execution_count": 8,
   "metadata": {},
   "outputs": [
    {
     "name": "stdout",
     "output_type": "stream",
     "text": [
      "1\n",
      "3\n",
      "5\n",
      "7\n",
      "9\n"
     ]
    }
   ],
   "source": [
    "def p_num(*num):\n",
    "    for i in num :\n",
    "        print(i)\n",
    "        \n",
    "p_num(1,3,5,7,9)"
   ]
  },
  {
   "cell_type": "code",
   "execution_count": 27,
   "metadata": {},
   "outputs": [
    {
     "name": "stdout",
     "output_type": "stream",
     "text": [
      "3\n",
      "-1\n",
      "2\n"
     ]
    }
   ],
   "source": [
    "#함수 인수의 기본값, 그리고 지정해주기\n",
    "def cal(num1, num2, method='sum'): #기본적으로 cal은 sum의 기능을 가진다고 정의해줌. 반드시 마지막에 위치\n",
    "    if method == 'sum':\n",
    "            print(num1 + num2)\n",
    "    elif method == 'min':\n",
    "            print(num1 - num2)\n",
    "    elif method == 'prod':\n",
    "            print(num1 * num2)\n",
    "\n",
    "cal(1,2) #sum\n",
    "cal(1,2,'min') #min기능\n",
    "cal(1,2,'prod')"
   ]
  },
  {
   "cell_type": "code",
   "execution_count": 28,
   "metadata": {},
   "outputs": [
    {
     "name": "stdout",
     "output_type": "stream",
     "text": [
      "-5\n"
     ]
    }
   ],
   "source": [
    "def cal(c, n1, n2):\n",
    "    if c == 0:\n",
    "        print(n1 + n2)\n",
    "    elif c == 1:\n",
    "        print(n1 - n2)\n",
    "cal(1,0,5)"
   ]
  },
  {
   "cell_type": "code",
   "execution_count": 32,
   "metadata": {},
   "outputs": [
    {
     "name": "stdout",
     "output_type": "stream",
     "text": [
      "8\n"
     ]
    }
   ],
   "source": [
    "def cal(c, n1, n2):\n",
    "    if c == 0:\n",
    "        print(n1+n2)\n",
    "    elif c == 1:\n",
    "        print(n1-n2)\n",
    "result = cal(0,5,3)"
   ]
  },
  {
   "cell_type": "code",
   "execution_count": 39,
   "metadata": {},
   "outputs": [
    {
     "data": {
      "text/plain": [
       "'팥'"
      ]
     },
     "execution_count": 39,
     "metadata": {},
     "output_type": "execute_result"
    }
   ],
   "source": [
    "#class\n",
    "\n",
    "class bread:\n",
    "        material = \"팥\"\n",
    "\n",
    "first_bread = bread() #클래스를 기본으로 한 인스턴스(객체) 생성\n",
    "first_bread.material #객체 내 변수 호출"
   ]
  },
  {
   "cell_type": "code",
   "execution_count": 43,
   "metadata": {},
   "outputs": [
    {
     "data": {
      "text/plain": [
       "'슈크림'"
      ]
     },
     "execution_count": 43,
     "metadata": {},
     "output_type": "execute_result"
    }
   ],
   "source": [
    "#두번째껀 슈크림으로 만들고싶다\n",
    "\n",
    "second_bread = bread()\n",
    "second_bread.material = \"슈크림\"\n",
    "second_bread.material"
   ]
  },
  {
   "cell_type": "code",
   "execution_count": 46,
   "metadata": {},
   "outputs": [
    {
     "name": "stdout",
     "output_type": "stream",
     "text": [
      "저는 팥으로 만든 붕어빵입니다~!\n"
     ]
    }
   ],
   "source": [
    "#클래스 안의 함수\n",
    "class bread :\n",
    "    material = \"팥\"\n",
    "    def say(self):\n",
    "        print(\"저는 %s으로 만든 붕어빵입니다~!\" %self.material)\n",
    "#클래스 안에서 함수를 만들고 사용하려면 함수의 인수에 self를 넣어줘야 한다.\n",
    "#즉 모든 인스턴스들에게 자기 인스턴스에 있는 값을 사용하라는 의미\n",
    "first_bread = bread()\n",
    "first_bread.say()"
   ]
  },
  {
   "cell_type": "code",
   "execution_count": 48,
   "metadata": {},
   "outputs": [
    {
     "name": "stdout",
     "output_type": "stream",
     "text": [
      "저는 팥으로 만든 붕어빵입니다~!\n"
     ]
    }
   ],
   "source": [
    "#생성자\n",
    "class bread :\n",
    "    def __init__(self,m): #생성자. 인스턴스 생성할 때 초기값을 지정해줄 수 있다.\n",
    "        self.material = m\n",
    "    def say(self):\n",
    "         print(\"저는 %s으로 만든 붕어빵입니다~!\" %self.material)\n",
    "first_bread = bread('팥') #팥을 초기값으로 지정해서 say()에는 인수를 안넣었다. 즉 클래스에 인수 전달.\n",
    "first_bread.say()\n",
    "\n"
   ]
  },
  {
   "cell_type": "code",
   "execution_count": 49,
   "metadata": {},
   "outputs": [
    {
     "name": "stdout",
     "output_type": "stream",
     "text": [
      "저는 홍길동 2세 입니다\n"
     ]
    }
   ],
   "source": [
    "#클래스 상속(물려주기)\n",
    "\n",
    "class human:\n",
    "    name = '홍길동'\n",
    "    def intro(self):\n",
    "        print(\"제 이름은 홍익입니다\")\n",
    "        \n",
    "class child(human) : #human 클래스를 상속받아 child 클래스를 만드는 것\n",
    "    def hello(self) :\n",
    "        print('저는 %s 2세 입니다' %self.name)\n",
    "        \n",
    "baby = child() #child클래스로 인스턴스 생성\n",
    "baby.hello()"
   ]
  },
  {
   "cell_type": "code",
   "execution_count": null,
   "metadata": {},
   "outputs": [],
   "source": []
  }
 ],
 "metadata": {
  "kernelspec": {
   "display_name": "Python 3",
   "language": "python",
   "name": "python3"
  },
  "language_info": {
   "codemirror_mode": {
    "name": "ipython",
    "version": 3
   },
   "file_extension": ".py",
   "mimetype": "text/x-python",
   "name": "python",
   "nbconvert_exporter": "python",
   "pygments_lexer": "ipython3",
   "version": "3.6.5"
  }
 },
 "nbformat": 4,
 "nbformat_minor": 2
}
