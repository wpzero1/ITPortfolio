{
 "cells": [
  {
   "cell_type": "code",
   "execution_count": 1,
   "metadata": {},
   "outputs": [],
   "source": [
    "#urllib 활용 import\n",
    "import urllib.request"
   ]
  },
  {
   "cell_type": "code",
   "execution_count": 2,
   "metadata": {},
   "outputs": [
    {
     "data": {
      "text/plain": [
       "<http.client.HTTPResponse at 0x1c45441dbe0>"
      ]
     },
     "execution_count": 2,
     "metadata": {},
     "output_type": "execute_result"
    }
   ],
   "source": [
    "#웹문서 불러오기\n",
    "req = urllib.request\n",
    "req.urlopen(\"https://wikidocs.net/\")"
   ]
  },
  {
   "cell_type": "code",
   "execution_count": 3,
   "metadata": {},
   "outputs": [
    {
     "name": "stdout",
     "output_type": "stream",
     "text": [
      "('Server', 'nginx/1.12.2')\n",
      "('Date', 'Mon, 10 Sep 2018 12:16:49 GMT')\n",
      "('Content-Type', 'text/html; charset=utf-8')\n",
      "('Transfer-Encoding', 'chunked')\n",
      "('Connection', 'close')\n",
      "('Vary', 'Cookie')\n",
      "('Set-Cookie', 'sessionid=jzlv3scag2yheb4mpkoz7alumjuqh52j; expires=Mon, 24-Sep-2018 12:16:49 GMT; HttpOnly; Max-Age=1209600; Path=/')\n"
     ]
    }
   ],
   "source": [
    "#웹 서버 정보 받아오기\n",
    "\n",
    "d = req.urlopen(\"https://wikidocs.net/\")\n",
    "status = d.getheaders() #서버 정보를 리스트로 출력가능\n",
    "for s in status :\n",
    "    print(s)"
   ]
  },
  {
   "cell_type": "code",
   "execution_count": 4,
   "metadata": {},
   "outputs": [
    {
     "data": {
      "text/plain": [
       "200"
      ]
     },
     "execution_count": 4,
     "metadata": {},
     "output_type": "execute_result"
    }
   ],
   "source": [
    "d.status #200이면 정상적으로 데이터를 받아왔다는 의미"
   ]
  },
  {
   "cell_type": "code",
   "execution_count": 5,
   "metadata": {},
   "outputs": [
    {
     "data": {
      "text/plain": [
       "b'\\n<!DOCTYPE HTML>\\n<html lang=\"ko\">\\n<head>\\n    <meta http-equiv=\"Content-Type\" content=\"text/html; charset=utf-8\">\\n    <meta name=\"viewport\" content=\"width=device-width, initial-scale=1.0\">\\n    <meta name=\"google-site-verification\" content=\"mzkAy71X1qQFWihQN535LoiToXg34MUg9nuor7Og9E8\" />\\n    <meta name=\"naver-site-verification\" content=\"d7c116bce998e6961b8db93c8592550f1a82119f\"/>\\n    <meta name=\"description\" content=\"\\xec\\x98\\xa8\\xeb\\x9d\\xbc\\xec\\x9d\\xb8 \\xec\\xb1\\x85\\xec\\x9d\\x84 \\xec\\xa0\\x9c\\xec\\x9e\\x91 \\xea\\xb3\\xb5\\xec\\x9c\\xa0\\xed\\x95\\x98\\xeb\\x8a\\x94 \\xed\\x94\\x8c\\xeb\\x9e\\xab\\xed\\x8f\\xbc \\xec\\x84\\x9c\\xeb\\xb9\\x84\\xec\\x8a\\xa4\">\\n\\n    <meta property=\"og:type\" content=\"wikidocs\">\\n    <meta property=\"og:title\" content=\"\\xec\\x9c\\x84\\xed\\x82\\xa4\\xeb\\x8f\\x85\\xec\\x8a\\xa4\">\\n    <meta property=\"og:description\" content=\"\\xec\\x98\\xa8\\xeb\\x9d\\xbc\\xec\\x9d\\xb8 \\xec\\xb1\\x85\\xec\\x9d\\x84 \\xec\\xa0\\x9c\\xec\\x9e\\x91 \\xea\\xb3\\xb5\\xec\\x9c\\xa0\\xed\\x95\\x98\\xeb\\x8a\\x94 \\xed\\x94\\x8c\\xeb\\x9e\\xab\\xed\\x8f\\xbc \\xec\\x84\\x9c\\xeb\\xb9\\x84\\xec\\x8a\\xa4\">\\n    <meta property=\"og:image\" content=\"https://wikidocs.net/images/book/wikidocs_1.png\">\\n    <meta property=\"og:url\" content=\"https://wikidocs.net\">\\n\\n    <link rel=\"shortcut icon\" type=\"image/x-icon\" href=\"/static/img/favicon.ico\">\\n    <link rel=\"canonical\" href=\"https://wikidocs.net/book/1\">\\n    <title>WikiDocs</title>\\n\\n    <!-- Latest compiled and minified CSS -->\\n    <link rel=\"stylesheet\" href=\"https://maxcdn.bootstrapcdn.com/bootstrap/3.3.7/css/bootstrap.min.css\" integrity=\"sha384-BVYiiSIFeK1dGmJRAkycuHAHRg32OmUcww7on3RYdg4Va+PmSTsz/K68vbdEjh4u\" crossorigin=\"anonymous\">\\n\\n    <!-- Optional theme\\n    <link rel=\"stylesheet\" href=\"https://maxcdn.bootstrapcdn.com/bootstrap/3.3.7/css/bootstrap-theme.min.css\" integrity=\"sha384-rHyoN1iRsVXV4nD0JutlnGaslCJuC7uwjduW9SVrLvRYooPp2bWYgmgJQIXwl/Sp\" crossorigin=\"anonymous\">\\n    -->\\n\\n    <!-- HTML5 shim and Respond.js IE8 support of HTML5 elements and media queries -->\\n    <!--[if lt IE 9]>\\n    <script src=\"https://oss.maxcdn.com/html5shiv/3.7.3/html5shiv.min.js\"></script>\\n    <script src=\"https://oss.maxcdn.com/respond/1.4.2/respond.min.js\"></script>\\n    <![endif]-->\\n\\n    \\n<link type=\"text/css\" href=\"/static/pagination/pagination.css\" rel=\"stylesheet\"/>\\n<link type=\"text/css\" href=\"/static/apprise/apprise.min.css\" rel=\"stylesheet\"  />\\n\\n    <link type=\"text/css\" href=\"/static/book/css/style.css?v=20180421_01\" rel=\"stylesheet\"  media=\"screen\" />\\n\\n    <script src=\"https://ajax.googleapis.com/ajax/libs/jquery/1.12.4/jquery.min.js\"></script>\\n    <script src=\"https://maxcdn.bootstrapcdn.com/bootstrap/3.3.7/js/bootstrap.min.js\" integrity=\"sha384-Tc5IQib027qvyjSMfHjOMaLkfuWVxZxUPnCJA7l2mCWNIpG9mGCD8wGNIcPD7Txa\" crossorigin=\"anonymous\"></script>\\n    <script type=\"text/javascript\" src=\"/static/book/js/utils.js\"></script>\\n    <script type=\"text/javascript\" src=\"/static/book/js/base.js?v=20170420_02\"></script>\\n    \\n<script type=\"text/javascript\" src=\"/static/pagination/jquery.pagination.js\"></script>\\n<script type=\"text/javascript\" src=\"/static/apprise/apprise-1.5.min.js\"></script>\\n<script type=\"text/javascript\" src=\"/static/book/js/index.js?v=20170528_01\"></script>\\n\\n    <script type=\"text/javascript\">\\n      var _gaq = _gaq || [];\\n      _gaq.push([\\'_setAccount\\', \\'UA-2686629-3\\']);\\n      _gaq.push([\\'_trackPageview\\']);\\n\\n      (function() {\\n        var ga = document.createElement(\\'script\\'); ga.type = \\'text/javascript\\'; ga.async = true;\\n        ga.src = (\\'https:\\' == document.location.protocol ? \\'https://ssl\\' : \\'http://www\\') + \\'.google-analytics.com/ga.js\\';\\n        var s = document.getElementsByTagName(\\'script\\')[0]; s.parentNode.insertBefore(ga, s);\\n      })();\\n\\n    </script>\\n\\n    <script async src=\"//pagead2.googlesyndication.com/pagead/js/adsbygoogle.js\"></script>\\n</head>\\n<body>\\n\\n\\n<nav class=\"navbar navbar-inverse navbar-static-top\">\\n    <div class=\"container\">\\n        <div class=\"navbar-header\">\\n            <button type=\"button\" class=\"navbar-toggle\" data-toggle=\"collapse\" data-target=\".navbar-collapse\">\\n                <span class=\"icon-bar\"></span>\\n                <span class=\"icon-bar\"></span>\\n                <span class=\"icon-bar\"></span>\\n            </button>\\n            <a class=\"navbar-brand\" href=\"/\">\\n                WikiDocs\\n            </a>\\n\\n            <!--\\n            <a class=\"navbar-brand navbar-adv\" href=\"https://wikidocs.net/9346\">\\n                <span class=\"text-primary\"><span class=\"glyphicon glyphicon-volume-up\"></span> \\xea\\xb4\\x91\\xea\\xb3\\xa0 \\xec\\xa0\\x95\\xec\\xb1\\x85\\xec\\x9d\\xb4 \\xeb\\xb3\\x80\\xea\\xb2\\xbd\\xeb\\x90\\x98\\xec\\x97\\x88\\xec\\x8a\\xb5\\xeb\\x8b\\x88\\xeb\\x8b\\xa4.</span>\\n            </a>\\n            -->\\n\\n        </div>\\n        <div class=\"navbar-collapse collapse\">\\n            <ul class=\"nav navbar-nav navbar-right\">\\n                \\n                <li><a href=\"/loginForm\">\\xeb\\xa1\\x9c\\xea\\xb7\\xb8\\xec\\x9d\\xb8</a></li>\\n                \\n            </ul>\\n        </div><!--/.navbar-collapse -->\\n    </div>\\n\\n</nav>\\n\\n\\n\\n<div class=\"jumbotron\">\\n    <div class=\"container\">\\n        <h1>WikiDocs</h1>\\n        <p style=\"margin-top:10px\">\\n            \\xec\\x9c\\x84\\xed\\x82\\xa4\\xeb\\x8f\\x85\\xec\\x8a\\xa4\\xeb\\x8a\\x94 \\xec\\x98\\xa8\\xeb\\x9d\\xbc\\xec\\x9d\\xb8 \\xec\\xb1\\x85\\xec\\x9d\\x84 \\xec\\xa0\\x9c\\xec\\x9e\\x91 \\xea\\xb3\\xb5\\xec\\x9c\\xa0\\xed\\x95\\x98\\xeb\\x8a\\x94 \\xed\\x94\\x8c\\xeb\\x9e\\xab\\xed\\x8f\\xbc \\xec\\x84\\x9c\\xeb\\xb9\\x84\\xec\\x8a\\xa4\\xec\\x9e\\x85\\xeb\\x8b\\x88\\xeb\\x8b\\xa4.\\n        </p>\\n        <p><a href=\"/help/wikidocs\" class=\"btn btn-primary btn-lg\">\\xec\\x9e\\x90\\xec\\x84\\xb8\\xed\\x9e\\x88 \\xec\\x95\\x8c\\xec\\x95\\x84\\xeb\\xb3\\xb4\\xea\\xb8\\xb0 &raquo;</a></p>\\n    </div>\\n</div>\\n\\n\\n\\n\\n\\n\\n<div class=\"container\">\\n    <!--\\n    <div style=\"margin-bottom:20px;\">\\n        <script async src=\"//pagead2.googlesyndication.com/pagead/js/adsbygoogle.js\"></script>\\n        <ins class=\"adsbygoogle\"\\n             style=\"display:block\"\\n             data-ad-client=\"ca-pub-9470517771012578\"\\n             data-ad-slot=\"6538649664\"\\n             data-ad-format=\"auto\"></ins>\\n        <script>\\n        (adsbygoogle = window.adsbygoogle || []).push({});\\n        </script>\\n    </div>\\n    -->\\n\\n    <div class=\"index\">\\n        <input type=\"hidden\" name=\"tab_name\" id=\"tab_name\" value=\"sell\" />\\n        <input type=\"hidden\" name=\"tab_sort_type\" id=\"tab_sort_type\" value=\"recommend\" />\\n\\n        <ul class=\"nav nav-tabs\" id=\"book-tab\">\\n            <li book=\"sell\"><a href=\"#_\">\\xec\\xb6\\x94\\xec\\xb2\\x9c\\xec\\xb1\\x85</a></li>\\n            <!--\\n            <li book=\"share\"><a href=\"#_\">\\xea\\xb3\\xb5\\xec\\x9c\\xa0\\xec\\xb1\\x85</a></li>\\n            -->\\n            <li book=\"all\"><a href=\"#_\">\\xea\\xb3\\xb5\\xea\\xb0\\x9c\\xec\\xb1\\x85</a></li>\\n            \\n        </ul>\\n\\n        <div class=\"row\">\\n            <div class=\"col-sm-6\" style=\"margin-top:20px;margin-bottom:20px;\">\\n\\n                <div class=\"btn-group sort-type-group\" data-toggle=\"buttons\">\\n                  <label sort_type=\"recommend\" class=\"btn btn-default btn-sm\">\\n                    <input type=\"radio\" name=\"sort_type\" id=\"sort_type_recommend\" autocomplete=\"off\" value=\\'recommend\\'> \\xec\\xb6\\x94\\xec\\xb2\\x9c\\xec\\x88\\x9c\\n                  </label>\\n                  <label sort_type=\"popular\" class=\"btn btn-default btn-sm\">\\n                    <input type=\"radio\" name=\"sort_type\" id=\"sort_type_popular\" autocomplete=\"off\" value=\\'popular\\'> \\xec\\x9d\\xb8\\xea\\xb8\\xb0\\xec\\x88\\x9c\\n                  </label>\\n                  <label sort_type=\"recent\" class=\"btn btn-default btn-sm\">\\n                    <input type=\"radio\" name=\"sort_type\" id=\"sort_type_recent\" autocomplete=\"off\" value=\\'recent\\'> \\xec\\xb5\\x9c\\xec\\x8b\\xa0\\xec\\x88\\x9c\\n                  </label>\\n                </div>\\n            </div>\\n\\n            <div class=\"col-sm-4\" style=\"margin-top:20px;margin-bottom:20px;\">\\n                <div class=\"input-group\">\\n                    <input type=\"text\" id=\"kw\" name=\"kw\" class=\"form-control input-sm\" placeholder=\"\\xec\\xb1\\x85\\xec\\xa0\\x9c\\xeb\\xaa\\xa9 \\xeb\\x98\\x90\\xeb\\x8a\\x94 \\xec\\xa7\\x80\\xec\\x9d\\x80\\xec\\x9d\\xb4\\xeb\\xa5\\xbc \\xec\\x9e\\x85\\xeb\\xa0\\xa5\\xed\\x95\\x98\\xec\\x84\\xb8\\xec\\x9a\\x94\">\\n                    <span class=\"input-group-btn\">\\n                        <button id=\"search-book-btn\" class=\"btn btn-sm btn-default\" type=\"button\">\\xec\\xb1\\x85\\xea\\xb2\\x80\\xec\\x83\\x89</button>\\n                    </span>\\n                </div>\\n            </div>\\n        </div>\\n\\n\\n        <div class=\"tab-content\">\\n            <div id=\"books\" style=\"margin-top:10px;\">\\n                \\n\\n\\n\\n\\n<div class=\"row book-item\">\\n\\n    <div class=\"col-sm-6\" style=\"margin-bottom:20px;\">\\n        <div class=\"media\">\\n            <div class=\"media-left\">\\n                <a href=\"/book/1\">\\n                    <div class=\"book-image-box\">\\n                        <img src=\"/images//book/doit_jump2python_640.png\" class=\"book-image\" />\\n                    </div>\\n                </a>\\n            </div>\\n            <div class=\"media-body\">\\n                <h4 class=\"media-heading\">\\n                    \\n                    <a href=\"/book/1\" class=\"book-subject\">\\xec\\xa0\\x90\\xed\\x94\\x84 \\xed\\x88\\xac \\xed\\x8c\\x8c\\xec\\x9d\\xb4\\xec\\x8d\\xac</a>\\n                </h4>\\n                <div class=\"book-detail\">\\n                    <div>\\n                        -\\n                        \\n                        \\xeb\\xb0\\x95\\xec\\x9d\\x91\\xec\\x9a\\xa9\\n                        \\n                    </div>\\n\\n                    <div>\\n                        - 2018\\xeb\\x85\\x84 09\\xec\\x9b\\x94 10\\xec\\x9d\\xbc\\n                    </div>\\n\\n                    <div style=\"margin-top:0px;\">\\n                        - <a style=\"font-size:11px\" href=\"javascript:recommend_book(\\'1\\')\"\\n                             class=\"btn btn-default btn-xs\" title=\"\\xec\\xb6\\x94\\xec\\xb2\\x9c\"><i class=\"glyphicon glyphicon-thumbs-up\"></i>\\n                        <strong>2,224</strong> \\xeb\\xaa\\x85\\xec\\x9d\\xb4 \\xec\\xb6\\x94\\xec\\xb2\\x9c</a>\\n                    </div>\\n\\n                    \\n                    <div style=\"margin-top:3px;\">\\n                        - <a href=\"/buy/1\" class=\"label label-default label-warning\">e-book</a>\\n                    </div>\\n                    \\n                </div>\\n            </div>\\n        </div>\\n    </div>\\n\\n\\n\\n    <div class=\"col-sm-6\" style=\"margin-bottom:20px;\">\\n        <div class=\"media\">\\n            <div class=\"media-left\">\\n                <a href=\"/book/110\">\\n                    <div class=\"book-image-box\">\\n                        <img src=\"/images//book/book_cover.PNG\" class=\"book-image\" />\\n                    </div>\\n                </a>\\n            </div>\\n            <div class=\"media-body\">\\n                <h4 class=\"media-heading\">\\n                    \\n                    <a href=\"/book/110\" class=\"book-subject\">\\xed\\x8c\\x8c\\xec\\x9d\\xb4\\xec\\x8d\\xac\\xec\\x9c\\xbc\\xeb\\xa1\\x9c \\xeb\\xb0\\xb0\\xec\\x9a\\xb0\\xeb\\x8a\\x94 \\xec\\x95\\x8c\\xea\\xb3\\xa0\\xeb\\xa6\\xac\\xec\\xa6\\x98 \\xed\\x8a\\xb8\\xeb\\xa0\\x88\\xec\\x9d\\xb4\\xeb\\x94\\xa9 (3\\xec\\x87\\x84)</a>\\n                </h4>\\n                <div class=\"book-detail\">\\n                    <div>\\n                        -\\n                        \\n                        \\xec\\xa1\\xb0\\xeb\\x8c\\x80\\xed\\x91\\x9c \\xec\\x99\\xb8 1\\xeb\\xaa\\x85\\n                        \\n                    </div>\\n\\n                    <div>\\n                        - 2018\\xeb\\x85\\x84 07\\xec\\x9b\\x94 27\\xec\\x9d\\xbc\\n                    </div>\\n\\n                    <div style=\"margin-top:0px;\">\\n                        - <a style=\"font-size:11px\" href=\"javascript:recommend_book(\\'110\\')\"\\n                             class=\"btn btn-default btn-xs\" title=\"\\xec\\xb6\\x94\\xec\\xb2\\x9c\"><i class=\"glyphicon glyphicon-thumbs-up\"></i>\\n                        <strong>1,661</strong> \\xeb\\xaa\\x85\\xec\\x9d\\xb4 \\xec\\xb6\\x94\\xec\\xb2\\x9c</a>\\n                    </div>\\n\\n                    \\n                </div>\\n            </div>\\n        </div>\\n    </div>\\n\\n</div>\\n\\n\\n\\n<div class=\"row book-item\">\\n\\n    <div class=\"col-sm-6\" style=\"margin-bottom:20px;\">\\n        <div class=\"media\">\\n            <div class=\"media-left\">\\n                <a href=\"/book/31\">\\n                    <div class=\"book-image-box\">\\n                        <img src=\"/images//book/javalogo_1.gif\" class=\"book-image\" />\\n                    </div>\\n                </a>\\n            </div>\\n            <div class=\"media-body\">\\n                <h4 class=\"media-heading\">\\n                    \\n                    <a href=\"/book/31\" class=\"book-subject\">\\xec\\xa0\\x90\\xed\\x94\\x84 \\xed\\x88\\xac \\xec\\x9e\\x90\\xeb\\xb0\\x94</a>\\n                </h4>\\n                <div class=\"book-detail\">\\n                    <div>\\n                        -\\n                        \\n                        \\xeb\\xb0\\x95\\xec\\x9d\\x91\\xec\\x9a\\xa9\\n                        \\n                    </div>\\n\\n                    <div>\\n                        - 2018\\xeb\\x85\\x84 08\\xec\\x9b\\x94 25\\xec\\x9d\\xbc\\n                    </div>\\n\\n                    <div style=\"margin-top:0px;\">\\n                        - <a style=\"font-size:11px\" href=\"javascript:recommend_book(\\'31\\')\"\\n                             class=\"btn btn-default btn-xs\" title=\"\\xec\\xb6\\x94\\xec\\xb2\\x9c\"><i class=\"glyphicon glyphicon-thumbs-up\"></i>\\n                        <strong>808</strong> \\xeb\\xaa\\x85\\xec\\x9d\\xb4 \\xec\\xb6\\x94\\xec\\xb2\\x9c</a>\\n                    </div>\\n\\n                    \\n                </div>\\n            </div>\\n        </div>\\n    </div>\\n\\n\\n\\n    <div class=\"col-sm-6\" style=\"margin-bottom:20px;\">\\n        <div class=\"media\">\\n            <div class=\"media-left\">\\n                <a href=\"/book/2\">\\n                    <div class=\"book-image-box\">\\n                        <img src=\"/images//book/chobo_title_new.jpg\" class=\"book-image\" />\\n                    </div>\\n                </a>\\n            </div>\\n            <div class=\"media-body\">\\n                <h4 class=\"media-heading\">\\n                    \\n                    <a href=\"/book/2\" class=\"book-subject\">\\xec\\x99\\x95\\xec\\xb4\\x88\\xeb\\xb3\\xb4\\xeb\\xa5\\xbc \\xec\\x9c\\x84\\xed\\x95\\x9c Python 2.7</a>\\n                </h4>\\n                <div class=\"book-detail\">\\n                    <div>\\n                        -\\n                        \\n                        \\xec\\xb5\\x9c\\xec\\x9a\\xa9\\n                        \\n                    </div>\\n\\n                    <div>\\n                        - 2018\\xeb\\x85\\x84 06\\xec\\x9b\\x94 29\\xec\\x9d\\xbc\\n                    </div>\\n\\n                    <div style=\"margin-top:0px;\">\\n                        - <a style=\"font-size:11px\" href=\"javascript:recommend_book(\\'2\\')\"\\n                             class=\"btn btn-default btn-xs\" title=\"\\xec\\xb6\\x94\\xec\\xb2\\x9c\"><i class=\"glyphicon glyphicon-thumbs-up\"></i>\\n                        <strong>564</strong> \\xeb\\xaa\\x85\\xec\\x9d\\xb4 \\xec\\xb6\\x94\\xec\\xb2\\x9c</a>\\n                    </div>\\n\\n                    \\n                    <div style=\"margin-top:3px;\">\\n                        - <a href=\"/buy/2\" class=\"label label-default label-warning\">e-book</a>\\n                    </div>\\n                    \\n                </div>\\n            </div>\\n        </div>\\n    </div>\\n\\n</div>\\n\\n\\n\\n<div class=\"row book-item\">\\n\\n    <div class=\"col-sm-6\" style=\"margin-bottom:20px;\">\\n        <div class=\"media\">\\n            <div class=\"media-left\">\\n                <a href=\"/book/483\">\\n                    <div class=\"book-image-box\">\\n                        <img src=\"/images//book/rpi.png\" class=\"book-image\" />\\n                    </div>\\n                </a>\\n            </div>\\n            <div class=\"media-body\">\\n                <h4 class=\"media-heading\">\\n                    \\n                    <a href=\"/book/483\" class=\"book-subject\">\\xeb\\x9d\\xbc\\xec\\xa6\\x88\\xeb\\xb2\\xa0\\xeb\\xa6\\xac \\xed\\x8c\\x8c\\xec\\x9d\\xb4 \\xeb\\xac\\xb8\\xec\\x84\\x9c</a>\\n                </h4>\\n                <div class=\"book-detail\">\\n                    <div>\\n                        -\\n                        \\n                        \\xec\\xb5\\x9c\\xec\\x9a\\xa9\\n                        \\n                    </div>\\n\\n                    <div>\\n                        - 2018\\xeb\\x85\\x84 07\\xec\\x9b\\x94 14\\xec\\x9d\\xbc\\n                    </div>\\n\\n                    <div style=\"margin-top:0px;\">\\n                        - <a style=\"font-size:11px\" href=\"javascript:recommend_book(\\'483\\')\"\\n                             class=\"btn btn-default btn-xs\" title=\"\\xec\\xb6\\x94\\xec\\xb2\\x9c\"><i class=\"glyphicon glyphicon-thumbs-up\"></i>\\n                        <strong>151</strong> \\xeb\\xaa\\x85\\xec\\x9d\\xb4 \\xec\\xb6\\x94\\xec\\xb2\\x9c</a>\\n                    </div>\\n\\n                    \\n                </div>\\n            </div>\\n        </div>\\n    </div>\\n\\n\\n\\n    <div class=\"col-sm-6\" style=\"margin-bottom:20px;\">\\n        <div class=\"media\">\\n            <div class=\"media-left\">\\n                <a href=\"/book/280\">\\n                    <div class=\"book-image-box\">\\n                        <img src=\"/images//book/pptC1AB.pptm_\\xec\\x9e\\x90\\xeb\\x8f\\x99_\\xec\\xa0\\x80\\xec\\x9e\\xa5_C2YrVOG.png\" class=\"book-image\" />\\n                    </div>\\n                </a>\\n            </div>\\n            <div class=\"media-body\">\\n                <h4 class=\"media-heading\">\\n                    \\n                    <a href=\"/book/280\" class=\"book-subject\">Ext JS 5 \\xea\\xb0\\x80\\xec\\x9d\\xb4\\xeb\\x93\\x9c</a>\\n                </h4>\\n                <div class=\"book-detail\">\\n                    <div>\\n                        -\\n                        \\n                        KwangOh\\n                        \\n                    </div>\\n\\n                    <div>\\n                        - 2015\\xeb\\x85\\x84 08\\xec\\x9b\\x94 04\\xec\\x9d\\xbc\\n                    </div>\\n\\n                    <div style=\"margin-top:0px;\">\\n                        - <a style=\"font-size:11px\" href=\"javascript:recommend_book(\\'280\\')\"\\n                             class=\"btn btn-default btn-xs\" title=\"\\xec\\xb6\\x94\\xec\\xb2\\x9c\"><i class=\"glyphicon glyphicon-thumbs-up\"></i>\\n                        <strong>118</strong> \\xeb\\xaa\\x85\\xec\\x9d\\xb4 \\xec\\xb6\\x94\\xec\\xb2\\x9c</a>\\n                    </div>\\n\\n                    \\n                </div>\\n            </div>\\n        </div>\\n    </div>\\n\\n</div>\\n\\n\\n\\n<div class=\"row book-item\">\\n\\n    <div class=\"col-sm-6\" style=\"margin-bottom:20px;\">\\n        <div class=\"media\">\\n            <div class=\"media-left\">\\n                <a href=\"/book/372\">\\n                    <div class=\"book-image-box\">\\n                        <img src=\"/images//book/ExtJS6Guide_mjQpt8A.jpg\" class=\"book-image\" />\\n                    </div>\\n                </a>\\n            </div>\\n            <div class=\"media-body\">\\n                <h4 class=\"media-heading\">\\n                    \\n                    <a href=\"/book/372\" class=\"book-subject\">Ext JS 6 \\xea\\xb0\\x80\\xec\\x9d\\xb4\\xeb\\x93\\x9c</a>\\n                </h4>\\n                <div class=\"book-detail\">\\n                    <div>\\n                        -\\n                        \\n                        KwangOh\\n                        \\n                    </div>\\n\\n                    <div>\\n                        - 2015\\xeb\\x85\\x84 12\\xec\\x9b\\x94 27\\xec\\x9d\\xbc\\n                    </div>\\n\\n                    <div style=\"margin-top:0px;\">\\n                        - <a style=\"font-size:11px\" href=\"javascript:recommend_book(\\'372\\')\"\\n                             class=\"btn btn-default btn-xs\" title=\"\\xec\\xb6\\x94\\xec\\xb2\\x9c\"><i class=\"glyphicon glyphicon-thumbs-up\"></i>\\n                        <strong>117</strong> \\xeb\\xaa\\x85\\xec\\x9d\\xb4 \\xec\\xb6\\x94\\xec\\xb2\\x9c</a>\\n                    </div>\\n\\n                    \\n                </div>\\n            </div>\\n        </div>\\n    </div>\\n\\n\\n\\n    <div class=\"col-sm-6\" style=\"margin-bottom:20px;\">\\n        <div class=\"media\">\\n            <div class=\"media-left\">\\n                <a href=\"/book/204\">\\n                    <div class=\"book-image-box\">\\n                        <img src=\"/images//book/Haskell-logo.png\" class=\"book-image\" />\\n                    </div>\\n                </a>\\n            </div>\\n            <div class=\"media-body\">\\n                <h4 class=\"media-heading\">\\n                    \\n                    <a href=\"/book/204\" class=\"book-subject\">WikibooksHaskell</a>\\n                </h4>\\n                <div class=\"book-detail\">\\n                    <div>\\n                        -\\n                        \\n                        codeonwort\\n                        \\n                    </div>\\n\\n                    <div>\\n                        - 2018\\xeb\\x85\\x84 03\\xec\\x9b\\x94 08\\xec\\x9d\\xbc\\n                    </div>\\n\\n                    <div style=\"margin-top:0px;\">\\n                        - <a style=\"font-size:11px\" href=\"javascript:recommend_book(\\'204\\')\"\\n                             class=\"btn btn-default btn-xs\" title=\"\\xec\\xb6\\x94\\xec\\xb2\\x9c\"><i class=\"glyphicon glyphicon-thumbs-up\"></i>\\n                        <strong>89</strong> \\xeb\\xaa\\x85\\xec\\x9d\\xb4 \\xec\\xb6\\x94\\xec\\xb2\\x9c</a>\\n                    </div>\\n\\n                    \\n                </div>\\n            </div>\\n        </div>\\n    </div>\\n\\n</div>\\n\\n\\n\\n<div class=\"row book-item\">\\n\\n    <div class=\"col-sm-6\" style=\"margin-bottom:20px;\">\\n        <div class=\"media\">\\n            <div class=\"media-left\">\\n                <a href=\"/book/1436\">\\n                    <div class=\"book-image-box\">\\n                        <img src=\"/images//book/\\xed\\x91\\x9c\\xec\\xa7\\x80_0fWuWKc.png\" class=\"book-image\" />\\n                    </div>\\n                </a>\\n            </div>\\n            <div class=\"media-body\">\\n                <h4 class=\"media-heading\">\\n                    \\n                    <a href=\"/book/1436\" class=\"book-subject\">\\xed\\x98\\xbc\\xec\\x9e\\x90\\xec\\x84\\x9c \\xeb\\xa7\\x8c\\xeb\\x93\\x9c\\xeb\\x8a\\x94 \\xea\\xb0\\x80\\xec\\x83\\x81\\xed\\x99\\x94\\xed\\x8f\\x90 \\xec\\x9e\\x90\\xeb\\x8f\\x99\\xea\\xb1\\xb0\\xeb\\x9e\\x98 \\xec\\x8b\\x9c\\xec\\x8a\\xa4\\xed\\x85\\x9c</a>\\n                </h4>\\n                <div class=\"book-detail\">\\n                    <div>\\n                        -\\n                        \\n                        \\xeb\\xb0\\x95\\xec\\x9e\\xac\\xed\\x98\\x84\\n                        \\n                    </div>\\n\\n                    <div>\\n                        - 2018\\xeb\\x85\\x84 07\\xec\\x9b\\x94 14\\xec\\x9d\\xbc\\n                    </div>\\n\\n                    <div style=\"margin-top:0px;\">\\n                        - <a style=\"font-size:11px\" href=\"javascript:recommend_book(\\'1436\\')\"\\n                             class=\"btn btn-default btn-xs\" title=\"\\xec\\xb6\\x94\\xec\\xb2\\x9c\"><i class=\"glyphicon glyphicon-thumbs-up\"></i>\\n                        <strong>78</strong> \\xeb\\xaa\\x85\\xec\\x9d\\xb4 \\xec\\xb6\\x94\\xec\\xb2\\x9c</a>\\n                    </div>\\n\\n                    \\n                </div>\\n            </div>\\n        </div>\\n    </div>\\n\\n\\n\\n    <div class=\"col-sm-6\" style=\"margin-bottom:20px;\">\\n        <div class=\"media\">\\n            <div class=\"media-left\">\\n                <a href=\"/book/837\">\\n                    <div class=\"book-image-box\">\\n                        <img src=\"/images//book/index_uIpcuIv.png\" class=\"book-image\" />\\n                    </div>\\n                </a>\\n            </div>\\n            <div class=\"media-body\">\\n                <h4 class=\"media-heading\">\\n                    \\n                    <a href=\"/book/837\" class=\"book-subject\">Django \\xec\\x9e\\x90\\xec\\x8a\\xb5</a>\\n                </h4>\\n                <div class=\"book-detail\">\\n                    <div>\\n                        -\\n                        \\n                        \\xed\\x95\\x80\\xec\\xbd\\x94\\xec\\x9d\\xb8\\n                        \\n                    </div>\\n\\n                    <div>\\n                        - 2018\\xeb\\x85\\x84 03\\xec\\x9b\\x94 19\\xec\\x9d\\xbc\\n                    </div>\\n\\n                    <div style=\"margin-top:0px;\">\\n                        - <a style=\"font-size:11px\" href=\"javascript:recommend_book(\\'837\\')\"\\n                             class=\"btn btn-default btn-xs\" title=\"\\xec\\xb6\\x94\\xec\\xb2\\x9c\"><i class=\"glyphicon glyphicon-thumbs-up\"></i>\\n                        <strong>62</strong> \\xeb\\xaa\\x85\\xec\\x9d\\xb4 \\xec\\xb6\\x94\\xec\\xb2\\x9c</a>\\n                    </div>\\n\\n                    \\n                </div>\\n            </div>\\n        </div>\\n    </div>\\n\\n</div>\\n\\n\\n\\n<div class=\"row page-area\">\\n    <input type=\"hidden\" name=\"total_count\" id=\"total_count\" value=\"13\" />\\n    <input type=\"hidden\" name=\"current_page\" id=\"current_page\" value=\"1\" />\\n    <input type=\"hidden\" name=\"per_page\" id=\"per_page\" value=\"10\" />\\n    <input type=\"hidden\" name=\"page\" id=\"page\" />\\n\\n    <div id=\"pagination\" class=\"col-sm-12\" style=\"margin-top:-10px;\"></div>\\n</div>\\n\\n\\n<script>\\n$(document).ready(function () {\\n    // $(\".sort_div\").show();\\n});\\n\\n\\n</script>\\n            </div>\\n        </div>\\n    </div>\\n</div>\\n\\n\\n\\n<div class=\"container\">\\n\\n\\n<div class=\"footer\">\\n    \\xec\\x9c\\x84\\xed\\x82\\xa4\\xeb\\x8f\\x85\\xec\\x8a\\xa4 \\xc2\\xa9 2017 \\xc2\\xb7\\n    \\xeb\\xac\\xb8\\xec\\x9d\\x98 pahkey@gmail.com\\n\\n    <div class=\"pull-right footer-link\">\\n        <a href=\"/help/wikidocs\" class=\"normal\">\\xec\\x9c\\x84\\xed\\x82\\xa4\\xeb\\x8f\\x85\\xec\\x8a\\xa4</a> \\xc2\\xb7\\n        <a href=\"/help/privacy\" class=\"normal\">\\xea\\xb0\\x9c\\xec\\x9d\\xb8\\xec\\xa0\\x95\\xeb\\xb3\\xb4\\xec\\xb7\\xa8\\xea\\xb8\\x89\\xeb\\xb0\\xa9\\xec\\xb9\\xa8</a>\\n\\n    </div>\\n</div>\\n\\n</div>\\n\\n</body>\\n</html>\\n'"
      ]
     },
     "execution_count": 5,
     "metadata": {},
     "output_type": "execute_result"
    }
   ],
   "source": [
    "d.read() #html 코드 출력"
   ]
  },
  {
   "cell_type": "code",
   "execution_count": 7,
   "metadata": {},
   "outputs": [
    {
     "name": "stdout",
     "output_type": "stream",
     "text": [
      "검색어를 입력하세요: 안녕\n"
     ]
    },
    {
     "data": {
      "text/plain": [
       "'&query=%EC%95%88%EB%85%95'"
      ]
     },
     "execution_count": 7,
     "metadata": {},
     "output_type": "execute_result"
    }
   ],
   "source": [
    "#한글 인코딩을 도와주는 urllib.parse\n",
    "\n",
    "#네이버 검색할 때 &query부분부터가 검색어에 대한 내용이 인코딩 된 것.\n",
    "\n",
    "import urllib.parse\n",
    "def input_query() :\n",
    "    q = urllib.parse.quote_plus(str(input(\"검색어를 입력하세요: \")))\n",
    "    return \"&query=\" + q\n",
    "input_query()\n",
    "\n",
    "#quote_plus와 quote의 차이는, 전자는 공백을 +기호로,\n",
    "#quote는 공백을 %20으로 처리한다."
   ]
  },
  {
   "cell_type": "code",
   "execution_count": 65,
   "metadata": {},
   "outputs": [
    {
     "name": "stdout",
     "output_type": "stream",
     "text": [
      "<html>\n",
      " <head>\n",
      "  <title>\n",
      "   test web\n",
      "  </title>\n",
      " </head>\n",
      " <body>\n",
      "  <p align=\"center\">\n",
      "   text contents 1\n",
      "  </p>\n",
      "  <p align=\"center\">\n",
      "   text contents 2\n",
      "  </p>\n",
      "  <p align=\"center\">\n",
      "   text contents 3\n",
      "  </p>\n",
      "  <img height=\"300\" src=\"C:\\Python34\\Koala.jpg\" width=\"500\"/>\n",
      "  <div class=\"container\">\n",
      "   <p class=\"text\">\n",
      "   </p>\n",
      "  </div>\n",
      " </body>\n",
      "</html>\n",
      "\n"
     ]
    },
    {
     "name": "stderr",
     "output_type": "stream",
     "text": [
      "C:\\Users\\ysang\\Anaconda3\\lib\\site-packages\\bs4\\__init__.py:181: UserWarning: No parser was explicitly specified, so I'm using the best available HTML parser for this system (\"lxml\"). This usually isn't a problem, but if you run this code on another system, or in a different virtual environment, it may use a different parser and behave differently.\n",
      "\n",
      "The code that caused this warning is on line 193 of the file C:\\Users\\ysang\\Anaconda3\\lib\\runpy.py. To get rid of this warning, change code that looks like this:\n",
      "\n",
      " BeautifulSoup(YOUR_MARKUP})\n",
      "\n",
      "to this:\n",
      "\n",
      " BeautifulSoup(YOUR_MARKUP, \"lxml\")\n",
      "\n",
      "  markup_type=markup_type))\n"
     ]
    }
   ],
   "source": [
    "#Beautiful Soup 사용해보기\n",
    "from bs4 import BeautifulSoup\n",
    "\n",
    "#find() 함수 : 태그 하나만 가져오기\n",
    "html = \"\"\"\n",
    "<html>\n",
    "    <head>\n",
    "        <title>test web </title>\n",
    "    </head>\n",
    "    <body>\n",
    "        <p align=\"center\"> text contents 1 </p>\n",
    "        <p align=\"center\"> text contents 2 </p>\n",
    "        <p align=\"center\"> text contents 3 </p>\n",
    "        <img src=\"C:\\Python34\\Koala.jpg\" width=\"500\" height=\"300\">\n",
    "        \n",
    "        <div class=\"container\">\n",
    "            <p class=\"text\"></p>\n",
    "        </div>\n",
    "    </body>\n",
    "</html> \"\"\"\n",
    "bs=BeautifulSoup(html)\n",
    "print(bs.prettify())"
   ]
  },
  {
   "cell_type": "code",
   "execution_count": 23,
   "metadata": {},
   "outputs": [
    {
     "data": {
      "text/plain": [
       "<title>test web </title>"
      ]
     },
     "execution_count": 23,
     "metadata": {},
     "output_type": "execute_result"
    }
   ],
   "source": [
    "#특정 태그만 가져와보기\n",
    "bs.find('title')"
   ]
  },
  {
   "cell_type": "code",
   "execution_count": 25,
   "metadata": {},
   "outputs": [
    {
     "data": {
      "text/plain": [
       "[<p align=\"center\"> text contents </p>,\n",
       " <p align=\"center\"> text contents 2 </p>,\n",
       " <p align=\"center\"> text contents 3 </p>]"
      ]
     },
     "execution_count": 25,
     "metadata": {},
     "output_type": "execute_result"
    }
   ],
   "source": [
    "#find_all() - 해당 태그 여러개일때 한꺼번에 가져오기\n",
    "bs.find_all('p')"
   ]
  },
  {
   "cell_type": "code",
   "execution_count": 27,
   "metadata": {},
   "outputs": [
    {
     "data": {
      "text/plain": [
       "<title>test web </title>"
      ]
     },
     "execution_count": 27,
     "metadata": {},
     "output_type": "execute_result"
    }
   ],
   "source": [
    "#태그 안에 태그 찾기\n",
    "head_tag = bs.find('head')\n",
    "head_tag.find('title')"
   ]
  },
  {
   "cell_type": "code",
   "execution_count": 30,
   "metadata": {},
   "outputs": [
    {
     "name": "stdout",
     "output_type": "stream",
     "text": [
      "<p align=\"center\"> text contents </p>\n",
      "<p align=\"center\"> text contents 2 </p>\n",
      "<p align=\"center\"> text contents 3 </p>\n",
      "<img height=\"300\" src=\"C:\\Python34\\Koala.jpg\" width=\"500\"/>\n"
     ]
    }
   ],
   "source": [
    "#find_all에 인수넣기 / 여러개 태그 찾기 -> 리스트에 넣기\n",
    "body_tag = bs.find('body')\n",
    "list1 = body_tag.find_all(['p','img'])\n",
    "for tag in list1: #for문 돌리기\n",
    "    print(tag)"
   ]
  },
  {
   "cell_type": "code",
   "execution_count": 31,
   "metadata": {},
   "outputs": [
    {
     "data": {
      "text/plain": [
       "[<p align=\"center\"> text contents </p>,\n",
       " <p align=\"center\"> text contents 2 </p>,\n",
       " <p align=\"center\"> text contents 3 </p>]"
      ]
     },
     "execution_count": 31,
     "metadata": {},
     "output_type": "execute_result"
    }
   ],
   "source": [
    "#정규식 사용해보기\n",
    "import re\n",
    "tags = bs.find_all(re.compile(\"^p\")) #p로 시작하는 문자 지정\n",
    "tags"
   ]
  },
  {
   "cell_type": "code",
   "execution_count": 35,
   "metadata": {},
   "outputs": [
    {
     "data": {
      "text/plain": [
       "[<img height=\"300\" src=\"C:\\Python34\\Koala.jpg\" width=\"500\"/>]"
      ]
     },
     "execution_count": 35,
     "metadata": {},
     "output_type": "execute_result"
    }
   ],
   "source": [
    "#속성값으로 찾기 find_all 함수에 속성=\"속성값\"으로 인수 넣기\n",
    "\n",
    "bs.find_all(width=\"500\")"
   ]
  },
  {
   "cell_type": "code",
   "execution_count": 55,
   "metadata": {},
   "outputs": [
    {
     "data": {
      "text/plain": [
       "[' text contents 1 ']"
      ]
     },
     "execution_count": 55,
     "metadata": {},
     "output_type": "execute_result"
    }
   ],
   "source": [
    "bs.find_all(text=\" text contents 1 \")"
   ]
  },
  {
   "cell_type": "code",
   "execution_count": 56,
   "metadata": {},
   "outputs": [
    {
     "data": {
      "text/plain": [
       "[' text contents 1 ', ' text contents 2 ', ' text contents 3 ']"
      ]
     },
     "execution_count": 56,
     "metadata": {},
     "output_type": "execute_result"
    }
   ],
   "source": [
    "bs.find_all(text=re.compile(\" text +\")) #text contents 문장 이후 임의의 한 문자가 존재하는 태그 찾기"
   ]
  },
  {
   "cell_type": "code",
   "execution_count": 57,
   "metadata": {},
   "outputs": [
    {
     "data": {
      "text/plain": [
       "[<p align=\"center\"> text contents 1 </p>,\n",
       " <p align=\"center\"> text contents 2 </p>]"
      ]
     },
     "execution_count": 57,
     "metadata": {},
     "output_type": "execute_result"
    }
   ],
   "source": [
    "bs.find_all(\"p\", limit=2) #2개만 찾아보기"
   ]
  },
  {
   "cell_type": "code",
   "execution_count": 58,
   "metadata": {},
   "outputs": [
    {
     "data": {
      "text/plain": [
       "' text contents 1 '"
      ]
     },
     "execution_count": 58,
     "metadata": {},
     "output_type": "execute_result"
    }
   ],
   "source": [
    "#문장 가져오기\n",
    "body_tag = bs.find('body')\n",
    "p_tag = body_tag.find('p')\n",
    "p_tag.string #가져와서 string 가져오기"
   ]
  },
  {
   "cell_type": "code",
   "execution_count": 51,
   "metadata": {},
   "outputs": [
    {
     "name": "stdout",
     "output_type": "stream",
     "text": [
      "\n",
      "\n",
      "text contents 1\n",
      "\n",
      "\n",
      "text contents 2\n",
      "\n",
      "\n",
      "text contents 3\n",
      "\n",
      "\n",
      "\n",
      "\n"
     ]
    }
   ],
   "source": [
    "strings = body_tag.strings\n",
    "for string in strings:\n",
    "    print(string)"
   ]
  },
  {
   "cell_type": "code",
   "execution_count": 60,
   "metadata": {},
   "outputs": [
    {
     "data": {
      "text/plain": [
       "'text contents 1-text contents 2-text contents 3'"
      ]
     },
     "execution_count": 60,
     "metadata": {},
     "output_type": "execute_result"
    }
   ],
   "source": [
    "#하나의 문자열로 출력\n",
    "body_tag = bs.find('body')\n",
    "body_tag.get_text()\n",
    "#줄바꿈 기호를 없애고 구분기호 넣기\n",
    "body_tag.get_text('-',strip=True)"
   ]
  },
  {
   "cell_type": "code",
   "execution_count": 61,
   "metadata": {},
   "outputs": [
    {
     "data": {
      "text/plain": [
       "<body>\n",
       "<p align=\"center\"> text contents 1 </p>\n",
       "<p align=\"center\"> text contents 2 </p>\n",
       "<p align=\"center\"> text contents 3 </p>\n",
       "<img height=\"300\" src=\"C:\\Python34\\Koala.jpg\" width=\"500\"/>\n",
       "</body>"
      ]
     },
     "execution_count": 61,
     "metadata": {},
     "output_type": "execute_result"
    }
   ],
   "source": [
    "#태그의 관계\n",
    "img_tag = bs.find(\"img\")\n",
    "img_tag.parent"
   ]
  },
  {
   "cell_type": "code",
   "execution_count": 66,
   "metadata": {},
   "outputs": [
    {
     "name": "stdout",
     "output_type": "stream",
     "text": [
      "div\n",
      "body\n",
      "html\n",
      "[document]\n"
     ]
    }
   ],
   "source": [
    "#p태그의 부모를 모두 찾아보자\n",
    "p_tag = bs.find('p', class_='text')\n",
    "parents = p_tag.find_parents()\n",
    "for parent in parents:\n",
    "    print(parent.name)"
   ]
  },
  {
   "cell_type": "code",
   "execution_count": null,
   "metadata": {},
   "outputs": [],
   "source": []
  }
 ],
 "metadata": {
  "kernelspec": {
   "display_name": "Python 3",
   "language": "python",
   "name": "python3"
  },
  "language_info": {
   "codemirror_mode": {
    "name": "ipython",
    "version": 3
   },
   "file_extension": ".py",
   "mimetype": "text/x-python",
   "name": "python",
   "nbconvert_exporter": "python",
   "pygments_lexer": "ipython3",
   "version": "3.6.5"
  }
 },
 "nbformat": 4,
 "nbformat_minor": 2
}
