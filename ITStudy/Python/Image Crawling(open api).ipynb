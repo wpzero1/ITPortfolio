{
 "cells": [
  {
   "cell_type": "code",
   "execution_count": 17,
   "metadata": {
    "scrolled": true
   },
   "outputs": [
    {
     "name": "stdout",
     "output_type": "stream",
     "text": [
      "검색어를 입력하세요: 미션임파서블 폴아웃\n",
      "[\"Naver Open API - image ::'미션임파서블 폴아웃'\", '탐오빠 탐형의 미션임파서블5 로그네이션 후기 :: 예고편과 스틸컷 ', '톰 크루즈 부상, 결국 &lt;미션 임파서블 6&gt; 촬영 중단 ', '미션 임파서블: 로그네이션 ', '[비하인드프레스]톰 크루즈, 미션6 “가장 스릴있는 미션이 준비됐다” ', '목숨이 몇 개? 톰 크루즈 위험천만 액션장면 10 ', 'IMDB TOP100of2016 ', '로마 시대 배경 &lt;트랜스포머&gt; 스핀오프 나온다? (6/14 해외 영화 소식) ', '[비하인드프레스]톰 크루즈, ‘미션임파서블6’ 스틸샷 공개 “Get ready” ', '미션 임파서블 3 ', '미션임파서블로그네이션개봉일과 후기! ']\n",
      "['http://search.naver.com', 'http://post.phinf.naver.net/20150816_185/sincerely_hope_14397229194706cb5Y_JPEG/mug_obj_201508162001593626.jpg', 'http://post.phinf.naver.net/MjAxNzA4MTdfMjUw/MDAxNTAyOTMyOTg2OTAx.D0WSOSex8-U9GJi5UdmYkugexQSJrufS9nUNhpy8e44g.O-lNFSRNOfNH_we7VZYdOglMN1xXlmY_vy1RBbpGKh8g.JPEG/IPKIPC0mfpDzrkiyH6Z-TUul_0hw.jpg', 'http://imgmovie.naver.com/mdi/mi/0955/95541_N41_135015.jpg', 'http://post.phinf.naver.net/MjAxODAxMjdfNTUg/MDAxNTE3MDIxMjcxMDAy.0okBzhEahUXPyuU3uMMhvt5Zt4Y3hkYqMlgdl-877ksg.ICm1sclx3fZc0AxbOU_FQwz4QfZ6avvFRpQXPQMM8O8g.PNG/I2OqRznBv4zHBlbiBR_HRR-F4mms.jpg', 'http://post.phinf.naver.net/MjAxNzA2MzBfMjM4/MDAxNDk4ODE0MDk2Njk0.klgg2mtSLptiQoR-8OHc5cHnxEkUt-Baez48uC7H0HAg.TwVQgXga6pAarmMJLDdb7IqXA7Ra9qLK0zV0RvpunNsg.JPEG/I6utenTRtlPTgDyoNhqnbNaYCJCE.jpg', 'http://post.phinf.naver.net/MjAxNjEyMDZfMTc1/MDAxNDgxMDEyODQ2MjM3.R-NozHaHXlyK18S-mMU54LvVtwz34P4CErQu7OFD4Vwg.zJqi-eBqGfRIBOQ9LY93Fco1xBBBtW94CTmZZ3ppVDIg.JPEG/I4B3uLp0nbk7zKnJo20bRjWLk8jw.jpg', 'http://post.phinf.naver.net/MjAxNzA2MTRfMTEz/MDAxNDk3NDAyNjYxMjU3.wCbCo7XGpsAqt7YKmCfqgaQzjeaNsg1ip5C6nbD7q4Ag.8EG4QkxrSaR_tFBDdzOu0zSkcOEN_g1Uf9ClccFzdmwg.JPEG/IOGmyJlgwY0_DppbxQ6oI3_t40yE.jpg', 'http://post.phinf.naver.net/MjAxODAxMjdfMjI2/MDAxNTE3MDE3NjA2Mzk2.s2tVfWIo20r93UbmByIYzDwj6ESYz5INiIOtUyhx7ZQg.DLULYdm7wgx-izXhDMsF0g2pak57f66PC2x71EZD0Cwg.PNG/IcIxhbemxM6xhjfldFpEHKBozZE8.jpg', 'http://imgmovie.naver.com/mdi/mi/0431/D3153-42.jpg', 'http://post.phinf.naver.net/20150729_98/bdk_m_1438172728884uLjT7_PNG/mug_obj_201507292125308948.jpg']\n"
     ]
    }
   ],
   "source": [
    "import urllib.parse\n",
    "import urllib.request\n",
    "import re\n",
    "\n",
    "def input_query() :\n",
    "        q = urllib.parse.quote_plus(str(input(\"검색할 단어를 입력하세요: \")))\n",
    "        return \"&query=\" + q\n",
    "\n",
    "def bind_url() : #1번\n",
    "    default_url = 'https://openapi.naver.com/v1/search/image.xml?'\n",
    "    start = '&start=1'\n",
    "    sort = '&sort=sim'\n",
    "    display = '&display=10'\n",
    "    query = '&query='+urllib.parse.quote_plus(str(input(\"검색어를 입력하세요: \")))\n",
    "    full_url = default_url + sort + start + display + query\n",
    "    #print(full_url)\n",
    "    return full_url\n",
    "\n",
    "def fetch_contents_from_url( ): #2번\n",
    "    url = bind_url( )\n",
    "    headers = {\n",
    "     'Host' : 'openapi.naver.com',\n",
    "     'User-Agent' : 'curl/7.43.0',\n",
    "     'Accept' : '*/*',\n",
    "     'Content-Type' : 'application/xml',\n",
    "     'X-Naver-Client-Id' : '8Ns_1Ml4EJEnZPpWkjfP',\n",
    "     'X-Naver-Client-Secret' : 'EY7gtN9qnP'\n",
    "     }\n",
    "    r = urllib.request.Request(url,headers=headers)\n",
    "    m = urllib.request.urlopen(r)\n",
    "    html = m.read( )\n",
    "    return html\n",
    "\n",
    "def extract_text_in_tags(tags,tagname=\"title\") : #4번(text에서 tag걸러내기)\n",
    "    txt = []\n",
    "    reg = \"[^<\" +tagname+\">][^<]+\" #쓸데없이 글자 앞뒤에있는 타이틀,link을 없애는 작업\n",
    "    #print(reg)\n",
    "    for tag in tags :\n",
    "        txt.append(re.search(reg,tag).group() )\n",
    "    print(txt)\n",
    "    return txt\n",
    "\n",
    "def get_contents_from_html(): #3번(html로부터 태그 불러오기)\n",
    "    html = fetch_contents_from_url()\n",
    "    #print(html.decode('utf-8'))\n",
    "    #print(html)\n",
    "    title_tags = re.findall(\"<title>[^<]+</title>\",html.decode('utf-8'))\n",
    "    #타이틀태그 시작부터 끝까지, 그 사이에는 <(태그)로 시작하는 것이 없도록, 반복.\n",
    "    \n",
    "    link_tags = re.findall(\"<link>[^<]+</link>\",html.decode('utf-8'))\n",
    "    #print(link_tags)\n",
    "    \n",
    "    #5번\n",
    "    \n",
    "    titles = extract_text_in_tags(title_tags,tagname = \"title\")\n",
    "    links = extract_text_in_tags(link_tags,tagname = 'link')\n",
    "    f = open(\"image.html\",\"w\")\n",
    "    f.write(\"<html><body>\")\n",
    "    for i in range(1,len(titles)) : #첫 데이터는 제외하기 위해 1부터 돌림\n",
    "        f.write(\"<p>\"+titles[i]+\"</p>\")\n",
    "        f.write(\"<img src=\"+links[i]+\"/>\")\n",
    "    f.write(\"</body></html>\")\n",
    "    f.close()\n",
    "\n",
    "get_contents_from_html()\n",
    "\n",
    "    "
   ]
  },
  {
   "cell_type": "code",
   "execution_count": null,
   "metadata": {},
   "outputs": [],
   "source": []
  }
 ],
 "metadata": {
  "kernelspec": {
   "display_name": "Python 3",
   "language": "python",
   "name": "python3"
  },
  "language_info": {
   "codemirror_mode": {
    "name": "ipython",
    "version": 3
   },
   "file_extension": ".py",
   "mimetype": "text/x-python",
   "name": "python",
   "nbconvert_exporter": "python",
   "pygments_lexer": "ipython3",
   "version": "3.6.5"
  }
 },
 "nbformat": 4,
 "nbformat_minor": 2
}
