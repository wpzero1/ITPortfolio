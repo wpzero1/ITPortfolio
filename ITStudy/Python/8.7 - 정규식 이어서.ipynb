{
 "cells": [
  {
   "cell_type": "code",
   "execution_count": null,
   "metadata": {},
   "outputs": [],
   "source": [
    "import re\n",
    "re.search(\"\\d+\",\"나는 1993년에 태어났습니다\")"
   ]
  },
  {
   "cell_type": "code",
   "execution_count": null,
   "metadata": {},
   "outputs": [],
   "source": [
    "re.findall(\"\\d+\",\"나는 1993년 11월 30일 생입니다\")"
   ]
  },
  {
   "cell_type": "code",
   "execution_count": null,
   "metadata": {},
   "outputs": [],
   "source": [
    "url = \"http://www.daum.net/main/gugu/gugu.jsp\"\n",
    "re.split(\"[/]\", url)"
   ]
  },
  {
   "cell_type": "code",
   "execution_count": null,
   "metadata": {},
   "outputs": [],
   "source": [
    "r = re.compile(\"[^\\w\\s]+\")\n",
    "r2 = r.search(\"python is very fun!!!!\")\n",
    "r2"
   ]
  },
  {
   "cell_type": "code",
   "execution_count": null,
   "metadata": {},
   "outputs": [],
   "source": [
    "re.sub('-','**','751023-1901813')"
   ]
  },
  {
   "cell_type": "code",
   "execution_count": null,
   "metadata": {},
   "outputs": [],
   "source": [
    "import re\n",
    "\n",
    "str = '''aaa.html\n",
    "bbb.html\n",
    "ccc.xml\n",
    "ddd.html\n",
    "1.html\n",
    "b.hhtml\n",
    "hihihi.java\n",
    "itpangpang.txt\n",
    "ab123456a.js\n",
    "Good.css\n",
    "itit.html\n",
    "ititkkk.htmlggg\n",
    "hahahaha.htmlmlml\n",
    "cabd_a.html'''\n",
    "\n",
    "str2='''\n",
    "전화번호 : 011-000-0000\n",
    "전화번호 : 017-111-1111\n",
    "전화번호 : 010-9999-9999'''\n",
    "\n",
    "a=r'\\w+\\.html\\b'\n",
    "ab='(\\d{3})-(\\d{3,4})-(\\d{4})'\n",
    "\n",
    "r=re.compile(ab)\n",
    "r2=re.compile(a)\n",
    "print(r.findall(str2))\n",
    "print(r2.findall(str))\n"
   ]
  },
  {
   "cell_type": "code",
   "execution_count": null,
   "metadata": {},
   "outputs": [],
   "source": [
    "str3='''https://search.daum.net/search?nil_suggest=btn&nil_ch=&rtupcoll=&w=tot&m=&f=&lpp=&DA=SBC&sug=&sq=&o=&sugo=&q=reg\n",
    " ?nil_suggest=btn&nil_ch=&rtupcoll=&w=tot&m=&f=&lpp=&DA=SBC&sug=&sq=&o=&sugo=&q=reg\n",
    "'''\n",
    "\n",
    "str4='''RegExr v3 was created by gskinner.com, and is proudly hosted. by Media Temple.\n",
    "Edit the Expression & Text! to see matches. \n",
    "Roll? over matches or the expression% for details. PCRE & Javascript flavors of RegEx are supported.\n",
    "The side bar includes a Cheatsheet, full Reference, and Help. \n",
    "You can also Save & Share with the Community, and view patterns. you create# or favorite in My Patterns.\n",
    "Explore results with the Tools below. Replace & List output~ custom results.\n",
    "Details lists capture groups. Explain describes your expression in plain English'''\n",
    "\n",
    "#대문자로 시작하는 단어 찾아 나열하기\n",
    "r=re.compile('[A-Z]\\w+')\n",
    "print(r.findall(str4))\n",
    "\n",
    "\n",
    "#소문자로 시작하는 단어(단어 전체가) - r은 로우포맷(시스템 자체에서 매칭)\n",
    "#특히 b같은 경우, 자바, C등에서 공통으로 쓰는 포맷. 어떤 메타가 들어오던 이걸 쓰면 사용가능하게 함\n",
    "# \\b를 통해 경계를 구분지어줘야함.\n",
    "\n",
    "r2=re.compile(r'\\b[a-z]\\w+')\n",
    "print(r2.findall(str4))\n",
    "\n",
    "#소문자로 시작하는 단어중 . 로 끝나는 단어\n",
    "#.앞에 역슬래시를 넣어서 메타문자가 아니라는 것을 표시해야함.\n",
    "r3=re.compile(r'\\b[a-z]\\w+\\.')\n",
    "print(r3.findall(str4))"
   ]
  },
  {
   "cell_type": "code",
   "execution_count": 5,
   "metadata": {},
   "outputs": [
    {
     "name": "stdout",
     "output_type": "stream",
     "text": [
      "['nil_suggest=btn&nil_ch=&rtupcoll=&w=tot&m=&f=&lpp=&DA=SBC&sug=&sq=&o=&sugo=&q=reg', 'nil_suggest=btn&nil_ch=&rtupcoll=&w=tot&m=&f=&lpp=&DA=SBC&sug=&sq=&o=&sugo=&q=reg']\n",
      "['nil_suggest=btn', 'nil_ch=', 'rtupcoll=', 'lpp=', 'DA=SBC', 'sug=', 'sq=', 'sugo=', 'nil_suggest=btn', 'nil_ch=', 'rtupcoll=', 'lpp=', 'DA=SBC', 'sug=', 'sq=', 'sugo=']\n"
     ]
    }
   ],
   "source": [
    "import re\n",
    "#정규식으로 str에서 url 중 site 제외한 문자열 찾아 나열\n",
    "\"http://www.daum.net/search/top?ab=b&c=d&b=e\"\n",
    "str3='''https://search.daum.net/search?nil_suggest=btn&nil_ch=&rtupcoll=&w=tot&m=&f=&lpp=&DA=SBC&sug=&sq=&o=&sugo=&q=reg\n",
    " ?nil_suggest=btn&nil_ch=&rtupcoll=&w=tot&m=&f=&lpp=&DA=SBC&sug=&sq=&o=&sugo=&q=reg\n",
    " '''\n",
    "#단, ?가 나오면 안된다. [?].*에서 응용\n",
    "a = re.compile('[^?]+=.*') # +가 나와야 반복, 대입연산자도 나와야함\n",
    "print(a.findall(str3))\n",
    "\n",
    "#url 중 변수만 찾아 나열\n",
    "b = re.compile('[^?&=]+\\w+=\\w*')\n",
    "'''\n",
    "해설 : ?,&,= 각 세 문자로 시작하지 않는 경우를 찾겠다\n",
    "그리고(+) \\w 글자인 것만 찾겠다\n",
    "그리고(+) =\\w =으로 시작하는 글자로 하되, 안와도 되고 뒤에 글자가 더 와도 되도록 *을 붙인다.\n",
    "'''\n",
    "print(b.findall(str3))"
   ]
  },
  {
   "cell_type": "code",
   "execution_count": null,
   "metadata": {},
   "outputs": [],
   "source": [
    "#개별실습 - 데이터 입력받아 저장\n",
    "\n",
    "#1. 이름\n",
    "name = input(\"이름 입력\")\n",
    "print(re.search(\"[가-힣]{1,5}\",name))\n",
    "\n",
    "#2. 학번(숫자로 이루어진다, 9글자)\n",
    "\n",
    "#3. 주소 : 서울,대전,대구,부산,광주,인천,울산,전북,경남,충북,충남,제주,강원,전북,전남 중 하나로 시작\n",
    "#20글자를 넘지 않음\n",
    "\n",
    "#4. 생년월일\n",
    "\n"
   ]
  },
  {
   "cell_type": "code",
   "execution_count": null,
   "metadata": {},
   "outputs": [],
   "source": [
    "#풀이\n",
    "import re\n",
    "\n",
    "#1.이름\n",
    "# \\b[가-힣]{1,5}$ #시작과 끝이 정해짐\n",
    "\n",
    "r = re.compile(r\"\\b[가-힣]{1,5}$\")\n",
    "while True :\n",
    "    str1 = input(\"이름 입력\")\n",
    "    if r.search(str1)==None :\n",
    "        print(\"잘못 입력하셨습니다. 다시 입력하세요\")\n",
    "        continue\n",
    "    else :\n",
    "        print(\"당신의 이름 : %s\" % str1)\n",
    "        break\n",
    "\n"
   ]
  },
  {
   "cell_type": "code",
   "execution_count": null,
   "metadata": {},
   "outputs": [],
   "source": [
    "#2. 학번(숫자로 이루어진다, 9글자)\n",
    "\n",
    "r = re.compile(r\"\\b\\d{9}$\")\n",
    "while True :\n",
    "    str1 = input(\"학번입력\")\n",
    "    if r.search(str1)==None :\n",
    "        print(\"잘못 입력하셨습니다. 다시 입력하세요\")\n",
    "        continue\n",
    "    else :\n",
    "        print(\"당신의 학번 : %s\" % str1)\n",
    "        break\n",
    "\n",
    "\n"
   ]
  },
  {
   "cell_type": "code",
   "execution_count": 6,
   "metadata": {},
   "outputs": [
    {
     "name": "stdout",
     "output_type": "stream",
     "text": [
      "주소입력전러바구도\n",
      "잘못 입력하셨습니다. 다시 입력하세요\n",
      "주소입력전북스\n",
      "당신의 주소 : 전북스\n"
     ]
    }
   ],
   "source": [
    "#3. 주소 : 서울,대전,대구,부산,광주,인천,울산,전북,경남,충북,충남,제주,강원,전북,전남 중 하나로 시작\n",
    "# 20글자를 넘지 않음\n",
    "\n",
    "# \\b(^서울|^대전|^대구)[가=힣 ]{1,18}$\n",
    "import re\n",
    "r = re.compile(r\"\\b(^서울|^대전|^대구|부산|광주|인천|울산|전북|경남|충북|충남|제주|강원|전북|전남)[가-힣 ]{1,18}$\")\n",
    "# |는 or라는 의미. ( )가 쳐진 이유는 이거 먼저 처리해주기 위함임. []안이 아닌 일반적인 ^문자 는 어떤 문자로 시작하는 것 이라는 의미.\n",
    "\n",
    "while True :\n",
    "    str1 = input(\"주소입력\")\n",
    "    if r.search(str1)==None :\n",
    "        print(\"잘못 입력하셨습니다. 다시 입력하세요\")\n",
    "        continue\n",
    "    else :\n",
    "        print(\"당신의 주소 : %s\" % str1)\n",
    "        break\n",
    "\n"
   ]
  },
  {
   "cell_type": "code",
   "execution_count": null,
   "metadata": {},
   "outputs": [],
   "source": [
    "#4. 생년월일 - 학번과 같은 방식.\n",
    "# \\b\\d{6}$\n",
    "\n",
    "r = re.compile(r\"\\b\\d{6}$\")\n",
    "while True :\n",
    "    str1 = input(\"생년월일 입력(형식 : ex) 900101)\")\n",
    "    if r.search(str1)==None :\n",
    "        print(\"잘못 입력하셨습니다. 다시 입력하세요\")\n",
    "        continue\n",
    "    else :\n",
    "        print(\"당신의 생년월일 : %s\" % str1)\n",
    "        break"
   ]
  },
  {
   "cell_type": "code",
   "execution_count": null,
   "metadata": {},
   "outputs": [],
   "source": [
    "#urlib\n",
    "\n",
    "import urllib.request\n",
    "\n",
    "req = urllib.request\n",
    "req.urlopen(\"http://wikidocs.net/\") #웹페이지 불러오기"
   ]
  },
  {
   "cell_type": "code",
   "execution_count": null,
   "metadata": {},
   "outputs": [],
   "source": [
    "d = req.urlopen(\"http://wikidocs.net/\")\n",
    "d.status"
   ]
  },
  {
   "cell_type": "code",
   "execution_count": null,
   "metadata": {},
   "outputs": [],
   "source": [
    "d = req.urlopen(\"https://wikidocs.net/\")\n",
    "status = d.getheaders()\n",
    "for s in status :\n",
    "    print(s)"
   ]
  },
  {
   "cell_type": "code",
   "execution_count": null,
   "metadata": {},
   "outputs": [],
   "source": [
    "d.read()"
   ]
  },
  {
   "cell_type": "code",
   "execution_count": 7,
   "metadata": {},
   "outputs": [
    {
     "name": "stdout",
     "output_type": "stream",
     "text": [
      "검색어를 입력하세요:r랍\n"
     ]
    },
    {
     "data": {
      "text/plain": [
       "'&query=r랍'"
      ]
     },
     "execution_count": 7,
     "metadata": {},
     "output_type": "execute_result"
    }
   ],
   "source": [
    "import urllib.parse\n",
    "\n",
    "def input_query() :\n",
    "    q = str(input(\"검색어를 입력하세요:\"))\n",
    "    #urllib.parse.quote_plus(인코딩) 사용 안함\n",
    "    return \"&query=\" + q\n",
    "input_query()"
   ]
  },
  {
   "cell_type": "code",
   "execution_count": 8,
   "metadata": {},
   "outputs": [
    {
     "name": "stdout",
     "output_type": "stream",
     "text": [
      "검색어를 입력하세요:r라뷰\n"
     ]
    },
    {
     "data": {
      "text/plain": [
       "'&query=r%EB%9D%BC%EB%B7%B0'"
      ]
     },
     "execution_count": 8,
     "metadata": {},
     "output_type": "execute_result"
    }
   ],
   "source": [
    "import urllib.parse\n",
    "\n",
    "def input_query() :\n",
    "    q = urllib.parse.quote_plus(str(input(\"검색어를 입력하세요:\")))\n",
    "    #인코딩 함\n",
    "    return \"&query=\" + q\n",
    "input_query()\n",
    "\n",
    "#quote_plus와 quote의 차이점\n",
    "#공백을 +로하느냐 / 코드로 바꿔주느냐."
   ]
  },
  {
   "cell_type": "code",
   "execution_count": null,
   "metadata": {},
   "outputs": [],
   "source": []
  }
 ],
 "metadata": {
  "kernelspec": {
   "display_name": "Python 3",
   "language": "python",
   "name": "python3"
  },
  "language_info": {
   "codemirror_mode": {
    "name": "ipython",
    "version": 3
   },
   "file_extension": ".py",
   "mimetype": "text/x-python",
   "name": "python",
   "nbconvert_exporter": "python",
   "pygments_lexer": "ipython3",
   "version": "3.6.5"
  }
 },
 "nbformat": 4,
 "nbformat_minor": 2
}
