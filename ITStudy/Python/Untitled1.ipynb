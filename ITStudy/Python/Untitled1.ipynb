{
 "cells": [
  {
   "cell_type": "code",
   "execution_count": 2,
   "metadata": {},
   "outputs": [
    {
     "ename": "SyntaxError",
     "evalue": "unexpected EOF while parsing (<ipython-input-2-1bcfaf0790fd>, line 15)",
     "output_type": "error",
     "traceback": [
      "\u001b[1;36m  File \u001b[1;32m\"<ipython-input-2-1bcfaf0790fd>\"\u001b[1;36m, line \u001b[1;32m15\u001b[0m\n\u001b[1;33m    else :\u001b[0m\n\u001b[1;37m          ^\u001b[0m\n\u001b[1;31mSyntaxError\u001b[0m\u001b[1;31m:\u001b[0m unexpected EOF while parsing\n"
     ]
    }
   ],
   "source": [
    "inStr, outStr=\"\",\"\"\n",
    "ch=\"\"\n",
    "count, i=0, 0\n",
    "\n",
    "##메인 코드\n",
    "inStr=input(\"문자열을 입력하세요 : \")\n",
    "count=len(inStr)\n",
    "\n",
    "for i in range(0, count) :\n",
    "    ch=inStr[i]\n",
    "    if( ord(ch)>=ord(\"A\") and ord(ch)<=ord(\"Z\")) : \n",
    "        newCh=ch.lower()\n",
    "    elif (ord(ch)>=ord(\"a\") and ord(ch)<=ord(\"z\")) :\n",
    "        newCh=ch.upper()\n",
    "    else : newCh=ch\n",
    "    \n",
    "    outStr+=newCh\n",
    "    \n",
    "    print(\"대소문자 변환 결과 -->%s\" % ourStr)"
   ]
  },
  {
   "cell_type": "code",
   "execution_count": null,
   "metadata": {},
   "outputs": [],
   "source": []
  }
 ],
 "metadata": {
  "kernelspec": {
   "display_name": "Python 3",
   "language": "python",
   "name": "python3"
  }
 },
 "nbformat": 4,
 "nbformat_minor": 2
}
