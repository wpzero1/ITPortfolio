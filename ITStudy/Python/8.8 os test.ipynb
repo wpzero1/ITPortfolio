{
 "cells": [
  {
   "cell_type": "code",
   "execution_count": 18,
   "metadata": {},
   "outputs": [],
   "source": [
    "f = open(\"test1.txt\",\"w\") #수정하려면 a모드로 열어야한다."
   ]
  },
  {
   "cell_type": "code",
   "execution_count": 19,
   "metadata": {},
   "outputs": [
    {
     "data": {
      "text/plain": [
       "21"
      ]
     },
     "execution_count": 19,
     "metadata": {},
     "output_type": "execute_result"
    }
   ],
   "source": [
    "f.write(\"텍스트 파일 만들기 연습이지 말입니다!\")"
   ]
  },
  {
   "cell_type": "code",
   "execution_count": 20,
   "metadata": {},
   "outputs": [],
   "source": [
    "f.close()"
   ]
  },
  {
   "cell_type": "code",
   "execution_count": 21,
   "metadata": {},
   "outputs": [],
   "source": [
    "import os"
   ]
  },
  {
   "cell_type": "code",
   "execution_count": 22,
   "metadata": {},
   "outputs": [
    {
     "data": {
      "text/plain": [
       "'C:\\\\Users\\\\ysang\\\\Documents\\\\DataScience\\\\source_code'"
      ]
     },
     "execution_count": 22,
     "metadata": {},
     "output_type": "execute_result"
    }
   ],
   "source": [
    "os.getcwd()"
   ]
  },
  {
   "cell_type": "code",
   "execution_count": 23,
   "metadata": {},
   "outputs": [],
   "source": [
    "f = open(\"test1.txt\",\"a\")"
   ]
  },
  {
   "cell_type": "code",
   "execution_count": 24,
   "metadata": {},
   "outputs": [
    {
     "data": {
      "text/plain": [
       "9"
      ]
     },
     "execution_count": 24,
     "metadata": {},
     "output_type": "execute_result"
    }
   ],
   "source": [
    "f.write(\"이어서 쓰겠습니다\")"
   ]
  },
  {
   "cell_type": "code",
   "execution_count": 25,
   "metadata": {},
   "outputs": [],
   "source": [
    "f.close()"
   ]
  },
  {
   "cell_type": "code",
   "execution_count": 26,
   "metadata": {},
   "outputs": [],
   "source": [
    "#콘텍스트 매니저(자동으로 열고 닫고 수행)\n",
    "with open('test1.txt','a') as test:\n",
    "    test.write(\"\\n with 절 테스트입니다\")"
   ]
  },
  {
   "cell_type": "code",
   "execution_count": 27,
   "metadata": {},
   "outputs": [],
   "source": [
    "with open('test.txt','a') as test:\n",
    "    test.write(\"\\n1. 햄버거 \\n2. 치즈 돈가스 \\n3. 쭈꾸미 볶음 \\n4. 불닭발 \\n5. 매운 떡볶이\")"
   ]
  },
  {
   "cell_type": "code",
   "execution_count": 31,
   "metadata": {},
   "outputs": [
    {
     "name": "stdout",
     "output_type": "stream",
     "text": [
      "1. 햄버거 \n",
      "\n",
      "2. 치즈 돈가스 \n",
      "\n",
      "3. 쭈꾸미 볶음 \n",
      "\n",
      "4. 불닭발 \n",
      "\n",
      "5. 매운 떡볶이\n"
     ]
    },
    {
     "data": {
      "text/plain": [
       "0"
      ]
     },
     "execution_count": 31,
     "metadata": {},
     "output_type": "execute_result"
    }
   ],
   "source": [
    "f = open(\"test.txt\", \"r\")\n",
    "foods = f.readlines()\n",
    "for food in foods :\n",
    "    print(food)\n",
    "f.tell() #현재 위치 관리 (한글은 2개씩 읽힘)\n",
    "f.seek(0) #포인터 이동 가능 (0으로 이동)"
   ]
  },
  {
   "cell_type": "code",
   "execution_count": 32,
   "metadata": {},
   "outputs": [
    {
     "data": {
      "text/plain": [
       "2373694"
      ]
     },
     "execution_count": 32,
     "metadata": {},
     "output_type": "execute_result"
    }
   ],
   "source": [
    "k_image = open(\"1.jpg\",\"rb\") #바이너리 파일이다 -> 이미지 파일 읽는 것으로 동작\n",
    "k_image_2 = open(\"1_2.jpg\",\"wb\")\n",
    "k_image_2.write(k_image.read())"
   ]
  },
  {
   "cell_type": "code",
   "execution_count": 33,
   "metadata": {},
   "outputs": [],
   "source": [
    "k_image.close()\n",
    "k_image_2.close()"
   ]
  },
  {
   "cell_type": "code",
   "execution_count": 3,
   "metadata": {},
   "outputs": [
    {
     "name": "stdout",
     "output_type": "stream",
     "text": [
      "1.주민번호 입력 및 저장 2.복호화 및 불러오기 3.종료3\n"
     ]
    }
   ],
   "source": [
    "#실습 A 암호화 프로그램 파일화\n",
    "\n",
    "import Func\n",
    "\n",
    "\n",
    "while True :\n",
    "        menu = input(\"1.주민번호 입력 및 저장 2.복호화 및 불러오기 3.종료\")\n",
    "\n",
    "        if menu == \"1\" :\n",
    "            indata = int(input(\"주민번호 입력\"))\n",
    "            a = Func.en(indata)\n",
    "            print(\"암호화 대상 : %s\" % a)\n",
    "            filename = input(\"파일명을 입력하세요.\")\n",
    "            f = open(\"%s.txt\" % filename, \"w\") #암호 할때는 w로 열자. 파일이 없으면 오류 뜸\n",
    "            f.write(str(a))\n",
    "            f.close()\n",
    "            \n",
    "            \n",
    "        if menu == \"2\" :\n",
    "            filename = input(\"복호화할 파일명을 입력하세요.\")\n",
    "            f = open(\"%s.txt\" % filename,\"r\") #복호화 때는 r로 읽기.\n",
    "            read = int(f.readline())\n",
    "            b = Func.de(read) #불러온거로 복호화 돌리자.\n",
    "            print(\"파일 로딩 후 복호화 성공 : %s\" % b)\n",
    "            \n",
    "        if menu == \"3\" :\n",
    "            break\n",
    "\n"
   ]
  },
  {
   "cell_type": "code",
   "execution_count": 10,
   "metadata": {},
   "outputs": [
    {
     "name": "stdout",
     "output_type": "stream",
     "text": [
      "1.암호 2.복호 3.종료\n",
      "1\n",
      "파일명입력(경로포함)C:\\Users\\ysang\\Documents\\DataScience\\source_code\\a\\abc.txt\n",
      "주민번호 입력12345\n",
      "12354\n",
      "1.암호 2.복호 3.종료\n",
      "2\n",
      "파일명입력(경로포함)C:\\Users\\ysang\\Documents\\DataScience\\source_code\\a\\abc.txt\n",
      "C:\\Users\\ysang\\Documents\\DataScience\\source_code\\a\\abc.txt\n",
      "12345\n",
      "1.암호 2.복호 3.종료\n",
      "3\n"
     ]
    }
   ],
   "source": [
    "# 선생님 답안\n",
    "import os\n",
    "def enc(num,fname) :\n",
    "    res=str(num^123)\n",
    "    f=open(fname,'w')\n",
    "    f.write(res)\n",
    "    return res\n",
    "def dec(fname) :\n",
    "    print(fname)\n",
    "    f=open(fname,'r')\n",
    "    a=f.read()\n",
    "    return int(a)^123\n",
    "\n",
    "while True :\n",
    "    print(\"1.암호 2.복호 3.종료\")\n",
    "    num = int(input())\n",
    "    if num !=3 :\n",
    "        fname = input(\"파일명입력(경로포함)\")        \n",
    "    \n",
    "    if num==1 :\n",
    "        num2=int(input(\"주민번호 입력\"))\n",
    "        fpath = os.path.split(fname)\n",
    "        if os.path.isdir(fpath[0])==False :\n",
    "            os.mkdir(fpath[0])\n",
    "        print(enc(num2,fname))\n",
    "               \n",
    "    elif num==2 :\n",
    "        if os.path.isfile(fname)==False :\n",
    "            print(\"파일이름오류\")\n",
    "            continue\n",
    "        print(dec(fname))\n",
    "        \n",
    "    else:\n",
    "        break"
   ]
  },
  {
   "cell_type": "code",
   "execution_count": null,
   "metadata": {},
   "outputs": [],
   "source": [
    "#실습 A 암호화 프로그램 파일화\n",
    "\n",
    "import Func\n",
    "\n",
    "\n",
    "while True :\n",
    "        menu = input(\"1.주민번호 입력 및 저장 2.복호화 및 불러오기 3.종료\")\n",
    "\n",
    "        if menu == \"1\" :\n",
    "            indata = int(input(\"주민번호 입력\"))\n",
    "            a = Func.en(indata)\n",
    "            print(\"암호화 대상 : %s\" % a)\n",
    "            filename = input(\"파일명을 입력하세요.\")\n",
    "            f = open(\"%s.txt\" % filename, \"w\") #암호 할때는 w로 열자. 파일이 없으면 오류 뜸\n",
    "            f.write(str(a))\n",
    "            f.close()\n",
    "            \n",
    "            \n",
    "        if menu == \"2\" :\n",
    "            filename = input(\"복호화할 파일명을 입력하세요.\")\n",
    "            f = open(\"%s.txt\" % filename,\"r\") #복호화 때는 r로 읽기.\n",
    "            read = int(f.readline())\n",
    "            b = Func.de(read) #불러온거로 복호화 돌리자.\n",
    "            print(\"파일 로딩 후 복호화 성공 : %s\" % b)\n",
    "            \n",
    "        if menu == \"3\" :\n",
    "            break\n",
    "\n"
   ]
  }
 ],
 "metadata": {
  "kernelspec": {
   "display_name": "Python 3",
   "language": "python",
   "name": "python3"
  },
  "language_info": {
   "codemirror_mode": {
    "name": "ipython",
    "version": 3
   },
   "file_extension": ".py",
   "mimetype": "text/x-python",
   "name": "python",
   "nbconvert_exporter": "python",
   "pygments_lexer": "ipython3",
   "version": "3.6.5"
  }
 },
 "nbformat": 4,
 "nbformat_minor": 2
}
