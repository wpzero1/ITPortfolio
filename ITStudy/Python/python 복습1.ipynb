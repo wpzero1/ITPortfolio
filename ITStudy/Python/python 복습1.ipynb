{
 "cells": [
  {
   "cell_type": "code",
   "execution_count": null,
   "metadata": {},
   "outputs": [],
   "source": [
    "a = input(\"어떤 과일 찾으세요?\")\n",
    "b = input(\"몇 개 드릴 까요?\")\n",
    "msg = \"주문하신 과일은 %s %s개 입니다\"\n",
    "print(msg % (a,b))"
   ]
  },
  {
   "cell_type": "code",
   "execution_count": 5,
   "metadata": {},
   "outputs": [
    {
     "data": {
      "text/plain": [
       "'다'"
      ]
     },
     "execution_count": 5,
     "metadata": {},
     "output_type": "execute_result"
    }
   ],
   "source": [
    "#인덱싱, 슬라이싱\n",
    "\n",
    "a = \"반갑습니다\"\n",
    "a[0:2]\n",
    "a[4]\n"
   ]
  },
  {
   "cell_type": "code",
   "execution_count": 9,
   "metadata": {},
   "outputs": [
    {
     "name": "stdout",
     "output_type": "stream",
     "text": [
      "줄 \n",
      " 변경합니다\n"
     ]
    }
   ],
   "source": [
    "#메타캐릭터\n",
    "str1 = \"줄 \\n 변경합니다\"\n",
    "print(str1)"
   ]
  },
  {
   "cell_type": "code",
   "execution_count": 10,
   "metadata": {},
   "outputs": [
    {
     "name": "stdout",
     "output_type": "stream",
     "text": [
      "\t 8칸 들여쓰기\n"
     ]
    }
   ],
   "source": [
    "str2 = \"\\t 8칸 들여쓰기\"\n",
    "print(str2)"
   ]
  },
  {
   "cell_type": "code",
   "execution_count": 11,
   "metadata": {},
   "outputs": [
    {
     "data": {
      "text/plain": [
       "5"
      ]
     },
     "execution_count": 11,
     "metadata": {},
     "output_type": "execute_result"
    }
   ],
   "source": [
    "fruits = '사과좋아요'\n",
    "len(fruits)"
   ]
  },
  {
   "cell_type": "code",
   "execution_count": 22,
   "metadata": {},
   "outputs": [
    {
     "data": {
      "text/plain": [
       "4"
      ]
     },
     "execution_count": 22,
     "metadata": {},
     "output_type": "execute_result"
    }
   ],
   "source": [
    "str = \"aaa.www.abc.bbc\"\n",
    "str.index(\"w\",0)"
   ]
  },
  {
   "cell_type": "code",
   "execution_count": 23,
   "metadata": {},
   "outputs": [
    {
     "data": {
      "text/plain": [
       "True"
      ]
     },
     "execution_count": 23,
     "metadata": {},
     "output_type": "execute_result"
    }
   ],
   "source": [
    "#Boolean\n",
    "true1 = 1\n",
    "false1 = 0\n",
    "bool(true1)\n",
    "bool(false1)"
   ]
  },
  {
   "cell_type": "code",
   "execution_count": 26,
   "metadata": {},
   "outputs": [
    {
     "data": {
      "text/plain": [
       "False"
      ]
     },
     "execution_count": 26,
     "metadata": {},
     "output_type": "execute_result"
    }
   ],
   "source": [
    "true2 = [\"a\",\"b\",1,2]\n",
    "false2 = []\n",
    "bool(true2)\n",
    "bool(false2)"
   ]
  },
  {
   "cell_type": "code",
   "execution_count": 28,
   "metadata": {},
   "outputs": [
    {
     "name": "stdout",
     "output_type": "stream",
     "text": [
      "식사시간입니다. 현재 가지고 있는 돈은?25000\n",
      "짜장면에 탕수육까지\n"
     ]
    }
   ],
   "source": [
    "#if문\n",
    "money = int(input(\"식사시간입니다. 현재 가지고 있는 돈은?\"))\n",
    "\n",
    "if money > 10000 and money <20000 : \n",
    "    print(\"짜장면이나 먹자\")\n",
    "elif money >= 20000 and money < 30000 :\n",
    "    print(\"짜장면에 탕수육까지\")\n",
    "elif money >= 30000:\n",
    "    print(\"짜장면+탕수육+깐풍기 Set\")\n",
    "else :\n",
    "    print(\"김밥이나 먹어야지\")\n",
    "\n"
   ]
  },
  {
   "cell_type": "code",
   "execution_count": 29,
   "metadata": {},
   "outputs": [
    {
     "name": "stdout",
     "output_type": "stream",
     "text": [
      "원\n",
      "투\n",
      "차차차\n"
     ]
    }
   ],
   "source": [
    "#for문\n",
    "list1 = [\"원\", \"투\", \"차차차\"]\n",
    "for i in list1:\n",
    "    print(i)"
   ]
  },
  {
   "cell_type": "code",
   "execution_count": 31,
   "metadata": {},
   "outputs": [
    {
     "name": "stdout",
     "output_type": "stream",
     "text": [
      "500500\n"
     ]
    }
   ],
   "source": [
    "#범위가 클 경우 range함수\n",
    "sum = 0\n",
    "for i in range(1,1001) : \n",
    "    sum += i\n",
    "print(sum)"
   ]
  },
  {
   "cell_type": "code",
   "execution_count": 33,
   "metadata": {},
   "outputs": [
    {
     "name": "stdout",
     "output_type": "stream",
     "text": [
      "\n",
      "안녕하세요 JYP님 방문해 주셔서 감사합니다.\n",
      "행복한 여행 되세요~ \n",
      "****************************************\n",
      "\n",
      "안녕하세요 YG님 방문해 주셔서 감사합니다.\n",
      "행복한 여행 되세요~ \n",
      "****************************************\n",
      "\n",
      "안녕하세요 SM님 방문해 주셔서 감사합니다.\n",
      "행복한 여행 되세요~ \n",
      "****************************************\n"
     ]
    }
   ],
   "source": [
    "messages = '''\n",
    "안녕하세요 %s님 방문해 주셔서 감사합니다.\n",
    "행복한 여행 되세요~ '''\n",
    "name = [\"JYP\",\"YG\",\"SM\"]\n",
    "for x in name :\n",
    "    print(messages %x)\n",
    "    print('*'*40)"
   ]
  },
  {
   "cell_type": "code",
   "execution_count": 62,
   "metadata": {},
   "outputs": [
    {
     "name": "stdout",
     "output_type": "stream",
     "text": [
      "2 x 1 = 2\n",
      "2 x 2 = 4\n",
      "2 x 3 = 6\n",
      "2 x 4 = 8\n",
      "2 x 5 = 10\n",
      "2 x 6 = 12\n",
      "2 x 7 = 14\n",
      "2 x 8 = 16\n",
      "2 x 9 = 18\n",
      "3 x 1 = 3\n",
      "3 x 2 = 6\n",
      "3 x 3 = 9\n",
      "3 x 4 = 12\n",
      "3 x 5 = 15\n",
      "3 x 6 = 18\n",
      "3 x 7 = 21\n",
      "3 x 8 = 24\n",
      "3 x 9 = 27\n",
      "4 x 1 = 4\n",
      "4 x 2 = 8\n",
      "4 x 3 = 12\n",
      "4 x 4 = 16\n",
      "4 x 5 = 20\n",
      "4 x 6 = 24\n",
      "4 x 7 = 28\n",
      "4 x 8 = 32\n",
      "4 x 9 = 36\n"
     ]
    }
   ],
   "source": [
    "#구구단\n",
    "\n",
    "for i in range(2,5) :\n",
    "    for j in range(1,10) :\n",
    "        print(i,\"x\",j,\"=\",i*j)\n"
   ]
  },
  {
   "cell_type": "code",
   "execution_count": 65,
   "metadata": {},
   "outputs": [
    {
     "name": "stdout",
     "output_type": "stream",
     "text": [
      "출력하고 싶은 단 수를 입력하세요(숫자입력)2\n",
      "2 x 1 = 2\n",
      "2 x 2 = 4\n",
      "2 x 3 = 6\n",
      "2 x 4 = 8\n",
      "2 x 5 = 10\n",
      "2 x 6 = 12\n",
      "2 x 7 = 14\n",
      "2 x 8 = 16\n",
      "2 x 9 = 18\n"
     ]
    }
   ],
   "source": [
    "dan = int(input(\"출력하고 싶은 단 수를 입력하세요(숫자입력)\"))\n",
    "for i in range(1,10) :\n",
    "    print(dan,\"x\",i,\"=\",dan*i)"
   ]
  },
  {
   "cell_type": "code",
   "execution_count": null,
   "metadata": {},
   "outputs": [],
   "source": []
  },
  {
   "cell_type": "code",
   "execution_count": null,
   "metadata": {},
   "outputs": [],
   "source": []
  }
 ],
 "metadata": {
  "kernelspec": {
   "display_name": "Python 3",
   "language": "python",
   "name": "python3"
  },
  "language_info": {
   "codemirror_mode": {
    "name": "ipython",
    "version": 3
   },
   "file_extension": ".py",
   "mimetype": "text/x-python",
   "name": "python",
   "nbconvert_exporter": "python",
   "pygments_lexer": "ipython3",
   "version": "3.6.5"
  }
 },
 "nbformat": 4,
 "nbformat_minor": 2
}
