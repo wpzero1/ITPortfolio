{
 "cells": [
  {
   "cell_type": "code",
   "execution_count": null,
   "metadata": {},
   "outputs": [],
   "source": [
    "#def 함수\n",
    "def sum(a,b) :\n",
    "    return a+b\n",
    "\n",
    "sum(1,2)\n",
    "\n",
    "#단, print를 사용한 경우 return 생략 가능"
   ]
  },
  {
   "cell_type": "code",
   "execution_count": null,
   "metadata": {},
   "outputs": [],
   "source": [
    "#매개 변수 전달 방법\n",
    "#매개 변수에서 앞에 *을 치면 튜플, **은 딕셔너리\n",
    "\n",
    "def dic_func(**para) : \n",
    "    for k in para.keys() :\n",
    "        print (\"%s --> %d 명입니다.\" % (k, para[k]))\n",
    "        \n",
    "dic_func(아이오아이=11, 소녀시대=8, 걸스데이=4, AOA=7)\n"
   ]
  },
  {
   "cell_type": "code",
   "execution_count": null,
   "metadata": {},
   "outputs": [],
   "source": [
    "#매개 변수 기본값 설정\n",
    "\n",
    "def cal(method='sum', num1, num2) :\n",
    "    if method == 'sum' :\n",
    "        print(num1 + num2)\n",
    "    elif method == 'min' : \n",
    "        print(num1- num2)\n",
    "    elif method == 'prod' :\n",
    "        print(num1* num2)"
   ]
  },
  {
   "cell_type": "code",
   "execution_count": null,
   "metadata": {},
   "outputs": [],
   "source": [
    "#실습 1\n",
    "\n",
    "import Func\n",
    "Func.my_upper()"
   ]
  },
  {
   "cell_type": "code",
   "execution_count": null,
   "metadata": {},
   "outputs": [],
   "source": [
    "#실습 2\n",
    "\n",
    "import Func\n",
    "\n",
    "a = int(input(\"이번달 근무시간 입력\"))\n",
    "b = int(input(\"시간당 급여 입력\"))\n",
    "c = Func.calc_monthly_salary(a,b)\n",
    "print(\"이번달 급여 : %s 원\" %c)"
   ]
  },
  {
   "cell_type": "code",
   "execution_count": null,
   "metadata": {},
   "outputs": [],
   "source": [
    "#실습 A 암호화 프로그램\n",
    "import Func\n",
    "\n",
    "\n",
    "while True :\n",
    "        menu = input(\"1.주민번호 입력 2.복호화 3.종료\")\n",
    "\n",
    "        if menu == \"1\" :\n",
    "            indata = int(input(\"주민번호 입력\"))\n",
    "            a = Func.en(indata)\n",
    "            print(a)\n",
    "            \n",
    "        if menu == \"2\" :\n",
    "            b = Func.de(a)\n",
    "            print(b)\n",
    "            \n",
    "        if menu == \"3\" :\n",
    "            break\n",
    "\n"
   ]
  },
  {
   "cell_type": "code",
   "execution_count": null,
   "metadata": {},
   "outputs": [],
   "source": [
    "#실습 A 암호화 프로그램 (모듈화) - 선생님 풀이\n",
    "from Func import *\n",
    "#앞에 From 붙이면 뒤에 굳이 Func.을 안찍어줘도 된다.\n",
    "\n",
    "while True :\n",
    "        print(\"1.주민번호 입력 2.복호화 3.종료\")\n",
    "        menu = input()\n",
    "        \n",
    "        if menu == \"1\" :\n",
    "            indata = int(input(\"주민번호 입력\"))\n",
    "            a = en(indata)\n",
    "            print(a)\n",
    "            \n",
    "        if menu == \"2\" :\n",
    "            b = de(a)\n",
    "            print(b)\n",
    "            \n",
    "        if menu == \"3\" :\n",
    "            break\n",
    "\n"
   ]
  },
  {
   "cell_type": "code",
   "execution_count": null,
   "metadata": {},
   "outputs": [],
   "source": [
    "#주차 프로그램 선생님 답안\n",
    "\n",
    "LsPark=[]\n",
    "tmpPark=[]\n",
    "while True :\n",
    "    sel =input(\"주차를 하시려면 i를, 출차를 하시려면 o, 종료는 q를 입력하시오\")\n",
    "    if sel == 'i' :\n",
    "        num=input(\"주차할 차량의 번호를 입력하시오\")\n",
    "        LsPark.append(num)\n",
    "        print(\"주차중인 차량을 표시합니다 ==> %s\" % LsPark)\n",
    "    elif sel == 'o' :\n",
    "        num=input(\"출차할 차량의 번호를 입력하시오\")\n",
    "        a=park.index(num)\n",
    "        while a < len(LsPark):\n",
    "            temp.append(LsPark[-1])\n",
    "            LsPark.pop()\n",
    "        tmpPark.pop()    \n",
    "        tmpPark.reverse()\n",
    "        park = park+temp\n",
    "\n",
    "        print(\"주차중인 차량을 표시합니다 ==> %s\" % LsPark)\n",
    "    elif sel == 'q' :\n",
    "        \"시스템을 종료합니다\"\n",
    "        break\n",
    "\n",
    "    else : print(\"입력하신 차량번호는 존재하지 않습니다.\")\n"
   ]
  },
  {
   "cell_type": "code",
   "execution_count": null,
   "metadata": {},
   "outputs": [],
   "source": [
    "#저번 주차 시스템 모듈화\n",
    "\n",
    "from Func import *\n",
    "\n",
    "#차 리스트\n",
    "carList = []\n",
    "#임시\n",
    "tmp = []\n",
    "\n",
    "while True :\n",
    "    menu = input(\"메뉴 : 주차 : 1 / 출차 : 2 / 종료 : 3\")\n",
    "\n",
    "    if menu == \"1\" :\n",
    "        carin = str(input(\"주차할 차 이름을 입력하세요\"))\n",
    "        parkadd(carList, carin)\n",
    "        print(\"현재 리스트 : %s\" % carList)\n",
    "        \n",
    "    if menu == \"2\" :\n",
    "        carout = str(input(\"뺄 차 이름 입력\"))\n",
    "        while carList.index(carout) + 1 < len(carList) :\n",
    "            parkadd(tmp, carList.pop())\n",
    "        carList.pop()    \n",
    "        while len(tmp)>0 :\n",
    "            parkadd(carList, tmp.pop())\n",
    "        print(\"현재 리스트 : %s\" % carList)\n",
    "            \n",
    "    if menu == \"3\" :\n",
    "        break\n",
    "       "
   ]
  },
  {
   "cell_type": "code",
   "execution_count": null,
   "metadata": {},
   "outputs": [],
   "source": []
  },
  {
   "cell_type": "code",
   "execution_count": null,
   "metadata": {},
   "outputs": [],
   "source": []
  },
  {
   "cell_type": "code",
   "execution_count": 1,
   "metadata": {},
   "outputs": [
    {
     "name": "stdout",
     "output_type": "stream",
     "text": [
      "메뉴 : 주차 : 1 / 출차 : 2 / 종료 : 31\n",
      "주차할 차 이름을 입력하세요a\n",
      "현재 리스트 : ['a']\n",
      "메뉴 : 주차 : 1 / 출차 : 2 / 종료 : 32\n",
      "뺄 차 이름 입력a\n",
      "현재 리스트 : []\n",
      "메뉴 : 주차 : 1 / 출차 : 2 / 종료 : 31\n",
      "주차할 차 이름을 입력하세요a\n",
      "현재 리스트 : ['a']\n",
      "메뉴 : 주차 : 1 / 출차 : 2 / 종료 : 31\n",
      "주차할 차 이름을 입력하세요b\n",
      "현재 리스트 : ['a', 'b']\n",
      "메뉴 : 주차 : 1 / 출차 : 2 / 종료 : 31\n",
      "주차할 차 이름을 입력하세요\n",
      "현재 리스트 : ['a', 'b', '']\n",
      "메뉴 : 주차 : 1 / 출차 : 2 / 종료 : 31\n",
      "주차할 차 이름을 입력하세요c\n",
      "현재 리스트 : ['a', 'b', '', 'c']\n",
      "메뉴 : 주차 : 1 / 출차 : 2 / 종료 : 32\n",
      "뺄 차 이름 입력\n",
      "현재 리스트 : ['a', 'b', 'c']\n",
      "메뉴 : 주차 : 1 / 출차 : 2 / 종료 : 32\n",
      "뺄 차 이름 입력a\n",
      "현재 리스트 : ['b', 'c']\n",
      "메뉴 : 주차 : 1 / 출차 : 2 / 종료 : 32\n",
      "뺄 차 이름 입력b\n",
      "현재 리스트 : ['c']\n",
      "메뉴 : 주차 : 1 / 출차 : 2 / 종료 : 32\n",
      "뺄 차 이름 입력c\n",
      "현재 리스트 : []\n",
      "메뉴 : 주차 : 1 / 출차 : 2 / 종료 : 33\n"
     ]
    }
   ],
   "source": [
    "#저번 주차 시스템 모듈화\n",
    "\n",
    "from Func import *\n",
    "\n",
    "#차 리스트\n",
    "carList = []\n",
    "#임시\n",
    "tmp = []\n",
    "\n",
    "while True :\n",
    "    menu = input(\"메뉴 : 주차 : 1 / 출차 : 2 / 종료 : 3\")\n",
    "\n",
    "    if menu == \"1\" :\n",
    "        caradd(carList)\n",
    "        \n",
    "    if menu == \"2\" :\n",
    "        carout(carList,tmp)\n",
    "            \n",
    "    if menu == \"3\" :\n",
    "        break\n",
    "       "
   ]
  },
  {
   "cell_type": "code",
   "execution_count": 11,
   "metadata": {},
   "outputs": [
    {
     "name": "stdout",
     "output_type": "stream",
     "text": [
      "C:\\Python34/Koala.jpg\n"
     ]
    }
   ],
   "source": [
    "#정규식 가즈아\n",
    "\n",
    "import re\n",
    "url = '<a href=\"C:\\Python34/Koala.jpg\"> 그림 </a> <font size = \"10\">'\n",
    "print(re.search('href=\"(.*?)\">', url).group(1)) #<-- 이부분이 정규식입니다.\n",
    "#?를 빼면 뒤에 > 까지 나오게 된다.\n",
    "\n"
   ]
  },
  {
   "cell_type": "code",
   "execution_count": 14,
   "metadata": {},
   "outputs": [
    {
     "name": "stdout",
     "output_type": "stream",
     "text": [
      "<_sre.SRE_Match object; span=(4, 5), match='a'>\n",
      "None\n"
     ]
    }
   ],
   "source": [
    "import re\n",
    "r = re.compile(\"[ab]\")\n",
    "print(r.search(\"pizza\"))\n",
    "print(r.match(\"pizza\"))\n",
    "\n",
    "#span에서 (a,b) a는 index, b는 끝위치+1"
   ]
  },
  {
   "cell_type": "code",
   "execution_count": 19,
   "metadata": {},
   "outputs": [
    {
     "name": "stdout",
     "output_type": "stream",
     "text": [
      "<_sre.SRE_Match object; span=(1, 2), match='p'>\n",
      "None\n",
      "None\n",
      "<_sre.SRE_Match object; span=(0, 1), match='p'>\n"
     ]
    },
    {
     "data": {
      "text/plain": [
       "<_sre.SRE_Match object; span=(0, 1), match='p'>"
      ]
     },
     "execution_count": 19,
     "metadata": {},
     "output_type": "execute_result"
    }
   ],
   "source": [
    "import re\n",
    "r = re.compile(\"[pP]\")\n",
    "print(r.search(\"apple\")) # 중간에 맞는 것도 확인 가능\n",
    "print(r.match(\"apple\")) # 처음부터 글자가 맞아야함\n",
    "print(r.match(\"apPle\"))\n",
    "print(r.match(\"pP\"))\n"
   ]
  },
  {
   "cell_type": "code",
   "execution_count": 21,
   "metadata": {},
   "outputs": [
    {
     "data": {
      "text/plain": [
       "<_sre.SRE_Match object; span=(1, 2), match='p'>"
      ]
     },
     "execution_count": 21,
     "metadata": {},
     "output_type": "execute_result"
    }
   ],
   "source": [
    "#그런데 크롤링에서는 한번만 쓰기 때문에, 굳이 변수 선언 없이\n",
    "#정규식과 데이터를 같이 주는 경우가 많다.\n",
    "\n",
    "re.search(\"[pP]\", \"apPle\")"
   ]
  },
  {
   "cell_type": "code",
   "execution_count": 22,
   "metadata": {},
   "outputs": [
    {
     "data": {
      "text/plain": [
       "<_sre.SRE_Match object; span=(0, 1), match='p'>"
      ]
     },
     "execution_count": 22,
     "metadata": {},
     "output_type": "execute_result"
    }
   ],
   "source": [
    "re.match(\"[pP]\", \"pP\")"
   ]
  },
  {
   "cell_type": "code",
   "execution_count": 24,
   "metadata": {},
   "outputs": [
    {
     "data": {
      "text/plain": [
       "'1034'"
      ]
     },
     "execution_count": 24,
     "metadata": {},
     "output_type": "execute_result"
    }
   ],
   "source": [
    "re.search('\\d+', ' 1034 ').group() # \\d 0~9까지 숫자를 찾는 것, +는 1회 이상 반복"
   ]
  },
  {
   "cell_type": "code",
   "execution_count": 25,
   "metadata": {},
   "outputs": [
    {
     "data": {
      "text/plain": [
       "'123'"
      ]
     },
     "execution_count": 25,
     "metadata": {},
     "output_type": "execute_result"
    }
   ],
   "source": [
    "re.search('\\d+', ' asf123 ').group()"
   ]
  },
  {
   "cell_type": "code",
   "execution_count": 29,
   "metadata": {},
   "outputs": [
    {
     "data": {
      "text/plain": [
       "<_sre.SRE_Match object; span=(0, 1), match='1'>"
      ]
     },
     "execution_count": 29,
     "metadata": {},
     "output_type": "execute_result"
    }
   ],
   "source": [
    "re.match('[0-9]', '1234')"
   ]
  },
  {
   "cell_type": "code",
   "execution_count": 31,
   "metadata": {},
   "outputs": [],
   "source": [
    "re.match(' [0-9] ', 'abc') #리턴값이 없다"
   ]
  },
  {
   "cell_type": "code",
   "execution_count": 35,
   "metadata": {},
   "outputs": [
    {
     "data": {
      "text/plain": [
       "' 123'"
      ]
     },
     "execution_count": 35,
     "metadata": {},
     "output_type": "execute_result"
    }
   ],
   "source": [
    "m = re.match('\\s*\\d+', ' 123')\n",
    "m.group()"
   ]
  },
  {
   "cell_type": "code",
   "execution_count": 37,
   "metadata": {},
   "outputs": [
    {
     "data": {
      "text/plain": [
       "'1234'"
      ]
     },
     "execution_count": 37,
     "metadata": {},
     "output_type": "execute_result"
    }
   ],
   "source": [
    "m = re.match('\\s*(\\d+)', ' 1234 ')\n",
    "m.group(1) #소괄호는 한번 나오니까, 첫번째 그룹."
   ]
  },
  {
   "cell_type": "code",
   "execution_count": 40,
   "metadata": {},
   "outputs": [
    {
     "data": {
      "text/plain": [
       "<_sre.SRE_Match object; span=(0, 3), match='abc'>"
      ]
     },
     "execution_count": 40,
     "metadata": {},
     "output_type": "execute_result"
    }
   ],
   "source": [
    "r=re.compile(\"a.c\") #a와 c사이에 아무 한 문자나 들어간 경우.\n",
    "r.search(\"abc\") #case 1 두 문자 이상은 안된다."
   ]
  },
  {
   "cell_type": "code",
   "execution_count": 42,
   "metadata": {},
   "outputs": [
    {
     "data": {
      "text/plain": [
       "<_sre.SRE_Match object; span=(0, 3), match='afc'>"
      ]
     },
     "execution_count": 42,
     "metadata": {},
     "output_type": "execute_result"
    }
   ],
   "source": [
    "r.search(\"afc\") #case 2"
   ]
  },
  {
   "cell_type": "code",
   "execution_count": 43,
   "metadata": {},
   "outputs": [],
   "source": [
    "r.search(\"ac\") #case 3 - 매칭 안됨"
   ]
  },
  {
   "cell_type": "code",
   "execution_count": 45,
   "metadata": {},
   "outputs": [
    {
     "data": {
      "text/plain": [
       "<_sre.SRE_Match object; span=(0, 2), match='cw'>"
      ]
     },
     "execution_count": 45,
     "metadata": {},
     "output_type": "execute_result"
    }
   ],
   "source": [
    "r=re.compile(\"ck?w\") #?는 있어도, 없어도 됨\n",
    "r.search(\"cw\") #case 1"
   ]
  },
  {
   "cell_type": "code",
   "execution_count": 49,
   "metadata": {},
   "outputs": [
    {
     "data": {
      "text/plain": [
       "<_sre.SRE_Match object; span=(0, 3), match='ckw'>"
      ]
     },
     "execution_count": 49,
     "metadata": {},
     "output_type": "execute_result"
    }
   ],
   "source": [
    "r.search(\"ckw\") #case 2"
   ]
  },
  {
   "cell_type": "code",
   "execution_count": 51,
   "metadata": {},
   "outputs": [],
   "source": [
    "r.search(\"ckkw\") #case 3"
   ]
  },
  {
   "cell_type": "code",
   "execution_count": 60,
   "metadata": {},
   "outputs": [
    {
     "data": {
      "text/plain": [
       "<_sre.SRE_Match object; span=(0, 1), match='힣'>"
      ]
     },
     "execution_count": 60,
     "metadata": {},
     "output_type": "execute_result"
    }
   ],
   "source": [
    "re.search(\"[가-힣]\", \"힣강원도에서\")"
   ]
  },
  {
   "cell_type": "code",
   "execution_count": null,
   "metadata": {},
   "outputs": [],
   "source": []
  }
 ],
 "metadata": {
  "kernelspec": {
   "display_name": "Python 3",
   "language": "python",
   "name": "python3"
  },
  "language_info": {
   "codemirror_mode": {
    "name": "ipython",
    "version": 3
   },
   "file_extension": ".py",
   "mimetype": "text/x-python",
   "name": "python",
   "nbconvert_exporter": "python",
   "pygments_lexer": "ipython3",
   "version": "3.6.5"
  }
 },
 "nbformat": 4,
 "nbformat_minor": 2
}
