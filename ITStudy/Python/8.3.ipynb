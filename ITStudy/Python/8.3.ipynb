{
 "cells": [
  {
   "cell_type": "code",
   "execution_count": 1,
   "metadata": {},
   "outputs": [],
   "source": [
    "str = 'Hello'"
   ]
  },
  {
   "cell_type": "code",
   "execution_count": 2,
   "metadata": {},
   "outputs": [
    {
     "data": {
      "text/plain": [
       "'H'"
      ]
     },
     "execution_count": 2,
     "metadata": {},
     "output_type": "execute_result"
    }
   ],
   "source": [
    "str[0]"
   ]
  },
  {
   "cell_type": "code",
   "execution_count": 3,
   "metadata": {},
   "outputs": [
    {
     "data": {
      "text/plain": [
       "'llo'"
      ]
     },
     "execution_count": 3,
     "metadata": {},
     "output_type": "execute_result"
    }
   ],
   "source": [
    "str[2:]"
   ]
  },
  {
   "cell_type": "code",
   "execution_count": 4,
   "metadata": {},
   "outputs": [
    {
     "data": {
      "text/plain": [
       "'Hel'"
      ]
     },
     "execution_count": 4,
     "metadata": {},
     "output_type": "execute_result"
    }
   ],
   "source": [
    "str[:-2]\n",
    "#주의합시다. 뒤에서 2개 잘라내고 나머진 표시"
   ]
  },
  {
   "cell_type": "code",
   "execution_count": 5,
   "metadata": {},
   "outputs": [
    {
     "name": "stdout",
     "output_type": "stream",
     "text": [
      "문자열 입력==>하이\n",
      "출력 문자열==>(하이)"
     ]
    }
   ],
   "source": [
    "ss=input(\"문자열 입력==>\")\n",
    "print(\"출력 문자열==>\", end='')\n",
    "\n",
    "if ss.startswith('(')==False :\n",
    "    print(\"(\", end='')\n",
    "    \n",
    "print(ss, end='')\n",
    "\n",
    "if ss.endswith(')')==False :\n",
    "    print(\")\", end='')"
   ]
  },
  {
   "cell_type": "code",
   "execution_count": 6,
   "metadata": {},
   "outputs": [],
   "source": [
    "str8= \" 왼쪽 공백\"\n",
    "str9= \"오른쪽 공백 \"\n",
    "str10= \" 양쪽 공백 \""
   ]
  },
  {
   "cell_type": "code",
   "execution_count": 7,
   "metadata": {},
   "outputs": [
    {
     "data": {
      "text/plain": [
       "'왼쪽 공백'"
      ]
     },
     "execution_count": 7,
     "metadata": {},
     "output_type": "execute_result"
    }
   ],
   "source": [
    "str8.lstrip()"
   ]
  },
  {
   "cell_type": "code",
   "execution_count": 8,
   "metadata": {},
   "outputs": [
    {
     "data": {
      "text/plain": [
       "'오른쪽 공백'"
      ]
     },
     "execution_count": 8,
     "metadata": {},
     "output_type": "execute_result"
    }
   ],
   "source": [
    "str9.rstrip()"
   ]
  },
  {
   "cell_type": "code",
   "execution_count": 17,
   "metadata": {},
   "outputs": [
    {
     "data": {
      "text/plain": [
       "'양쪽 공백'"
      ]
     },
     "execution_count": 17,
     "metadata": {},
     "output_type": "execute_result"
    }
   ],
   "source": [
    "str10.strip()"
   ]
  },
  {
   "cell_type": "code",
   "execution_count": 20,
   "metadata": {},
   "outputs": [
    {
     "data": {
      "text/plain": [
       "'강림 완전 동안임'"
      ]
     },
     "execution_count": 20,
     "metadata": {},
     "output_type": "execute_result"
    }
   ],
   "source": [
    "str11 = \"진수쌤 완전 동안임\"\n",
    "str11.replace(\"진수쌤\",\"강림\")"
   ]
  },
  {
   "cell_type": "code",
   "execution_count": 21,
   "metadata": {},
   "outputs": [],
   "source": [
    "str12 = \"a-a-a-a-a\""
   ]
  },
  {
   "cell_type": "code",
   "execution_count": 22,
   "metadata": {},
   "outputs": [
    {
     "data": {
      "text/plain": [
       "'b-b-b-b-b'"
      ]
     },
     "execution_count": 22,
     "metadata": {},
     "output_type": "execute_result"
    }
   ],
   "source": [
    "str12.replace(\"a\",\"b\")"
   ]
  },
  {
   "cell_type": "code",
   "execution_count": 23,
   "metadata": {},
   "outputs": [
    {
     "data": {
      "text/plain": [
       "'b-b-b-a-a'"
      ]
     },
     "execution_count": 23,
     "metadata": {},
     "output_type": "execute_result"
    }
   ],
   "source": [
    "str12.replace(\"a\",\"b\",3)"
   ]
  },
  {
   "cell_type": "code",
   "execution_count": 24,
   "metadata": {},
   "outputs": [
    {
     "data": {
      "text/plain": [
       "['a', 'a', 'a', 'a', 'a']"
      ]
     },
     "execution_count": 24,
     "metadata": {},
     "output_type": "execute_result"
    }
   ],
   "source": [
    "str12.split(\"-\")"
   ]
  },
  {
   "cell_type": "code",
   "execution_count": 25,
   "metadata": {},
   "outputs": [
    {
     "data": {
      "text/plain": [
       "['a-a-a-a-a']"
      ]
     },
     "execution_count": 25,
     "metadata": {},
     "output_type": "execute_result"
    }
   ],
   "source": [
    "str12.split()"
   ]
  },
  {
   "cell_type": "code",
   "execution_count": 26,
   "metadata": {},
   "outputs": [
    {
     "data": {
      "text/plain": [
       "['a', 'a', 'a', 'a-a']"
      ]
     },
     "execution_count": 26,
     "metadata": {},
     "output_type": "execute_result"
    }
   ],
   "source": [
    "str12.split(\"-\",3)"
   ]
  },
  {
   "cell_type": "code",
   "execution_count": 28,
   "metadata": {},
   "outputs": [
    {
     "data": {
      "text/plain": [
       "['하나', '둘', '셋']"
      ]
     },
     "execution_count": 28,
     "metadata": {},
     "output_type": "execute_result"
    }
   ],
   "source": [
    "ss='하나:둘:셋'\n",
    "ss='하나\\n둘\\n셋'\n",
    "ss.splitlines()"
   ]
  },
  {
   "cell_type": "code",
   "execution_count": 29,
   "metadata": {},
   "outputs": [
    {
     "data": {
      "text/plain": [
       "'파%이%썬'"
      ]
     },
     "execution_count": 29,
     "metadata": {},
     "output_type": "execute_result"
    }
   ],
   "source": [
    "ss='%'\n",
    "ss.join('파이썬')"
   ]
  },
  {
   "cell_type": "code",
   "execution_count": 31,
   "metadata": {},
   "outputs": [
    {
     "data": {
      "text/plain": [
       "['Python을', '열심히', '공부', '중']"
      ]
     },
     "execution_count": 31,
     "metadata": {},
     "output_type": "execute_result"
    }
   ],
   "source": [
    "ss='Python을 열심히 공부 중'\n",
    "ss.split()"
   ]
  },
  {
   "cell_type": "code",
   "execution_count": 10,
   "metadata": {},
   "outputs": [
    {
     "name": "stdout",
     "output_type": "stream",
     "text": [
      "날짜(연/월/일) 입력==>2033/01/22\n",
      "입력한 날짜의 10년 후==>2043년01월 22일\n"
     ]
    }
   ],
   "source": [
    "ss=input(\"날짜(연/월/일) 입력==>\")\n",
    "ssList=ss.split('/')\n",
    "\n",
    "print(\"입력한 날짜의 10년 후==>\", end='')\n",
    "print(str(int(ssList[0])+10)+\"년 \", end='')\n",
    "print(ssList[1]+\"월 \", end='')\n",
    "print(ssList[2]+\"일\")"
   ]
  },
  {
   "cell_type": "code",
   "execution_count": 4,
   "metadata": {},
   "outputs": [
    {
     "name": "stdout",
     "output_type": "stream",
     "text": [
      "문자열을 입력하세요 : abCD\n",
      "대소문자 변환 결과 -->A\n",
      "대소문자 변환 결과 -->AB\n",
      "대소문자 변환 결과 -->ABc\n",
      "대소문자 변환 결과 -->ABcd\n"
     ]
    }
   ],
   "source": [
    "inStr, outStr=\"\",\"\"\n",
    "ch=\"\"\n",
    "count, i=0, 0\n",
    "\n",
    "##메인 코드\n",
    "inStr=input(\"문자열을 입력하세요 : \")\n",
    "count=len(inStr)\n",
    "\n",
    "for i in range(0, count) :\n",
    "    ch=inStr[i]\n",
    "    if( ord(ch)>=ord(\"A\") and ord(ch)<=ord(\"Z\")) : \n",
    "        newCh=ch.lower()\n",
    "    elif (ord(ch)>=ord(\"a\") and ord(ch)<=ord(\"z\")) :\n",
    "        newCh=ch.upper()\n",
    "    else : newCh=ch\n",
    "    \n",
    "    outStr+=newCh\n",
    "    \n",
    "    print(\"대소문자 변환 결과 -->%s\" % outStr)"
   ]
  },
  {
   "cell_type": "code",
   "execution_count": 12,
   "metadata": {},
   "outputs": [
    {
     "name": "stdout",
     "output_type": "stream",
     "text": [
      "********************\n"
     ]
    }
   ],
   "source": [
    "#문자열 연산하기\n",
    "print(\"*\" * 20)"
   ]
  },
  {
   "cell_type": "code",
   "execution_count": 14,
   "metadata": {},
   "outputs": [
    {
     "name": "stdout",
     "output_type": "stream",
     "text": [
      "1\n",
      "1\n",
      "1\n",
      "1\n",
      "1\n",
      "\n"
     ]
    }
   ],
   "source": [
    "print(\"1\\n\" * 5)"
   ]
  },
  {
   "cell_type": "code",
   "execution_count": 58,
   "metadata": {},
   "outputs": [
    {
     "name": "stdout",
     "output_type": "stream",
     "text": [
      "원하는 것을 입력하세요 : 신과함께2\n",
      "글자 숫자 섞여있어요\n"
     ]
    }
   ],
   "source": [
    "#문자 숫자 구별\n",
    "\n",
    "##메인 코드\n",
    "inStr=input(\"원하는 것을 입력하세요 : \")\n",
    "\n",
    "if inStr.isdigit():\n",
    "    print(\"숫자입니다\")\n",
    "elif inStr.isalpha():\n",
    "    print(\"문자입니다\")\n",
    "elif inStr.isalnum():\n",
    "    print(\"글자 숫자 섞여있어요\")\n",
    "\n",
    "else :\n",
    "    print(\"뭔지 잘 모르겠습니다.\")"
   ]
  },
  {
   "cell_type": "code",
   "execution_count": 23,
   "metadata": {},
   "outputs": [
    {
     "name": "stdout",
     "output_type": "stream",
     "text": [
      "주민번호를 입력하세요 : 001010-4001000\n",
      "여성입니다\n"
     ]
    }
   ],
   "source": [
    "#주민번호로 남성/여성 판별\n",
    "\n",
    "inStr=input(\"주민번호를 입력하세요 : \")\n",
    "\n",
    "if inStr[7:8]==\"1\" or inStr[7:8]==\"3\" :\n",
    "    print(\"남성입니다\")\n",
    "elif inStr[7:8]==\"2\"or inStr[7:8]==\"4\" :\n",
    "    print(\"여성입니다\")\n",
    "else :\n",
    "    print(\"잘못된 주민번호입니다. 다시 입력하세요\")"
   ]
  },
  {
   "cell_type": "code",
   "execution_count": 72,
   "metadata": {},
   "outputs": [],
   "source": [
    "strList = [1,6,2,0,9]\n",
    "strList.sort()\n",
    "#변수에 대해 변화되고 저장된다."
   ]
  },
  {
   "cell_type": "code",
   "execution_count": 73,
   "metadata": {},
   "outputs": [
    {
     "name": "stdout",
     "output_type": "stream",
     "text": [
      "[0, 1, 2, 6, 9]\n"
     ]
    }
   ],
   "source": [
    "print(strList)"
   ]
  },
  {
   "cell_type": "code",
   "execution_count": 6,
   "metadata": {},
   "outputs": [
    {
     "name": "stdout",
     "output_type": "stream",
     "text": [
      "메뉴 : 주차 : 1 / 출차 : 2 / 종료 : 3\n",
      "메뉴 : 주차 : 1 / 출차 : 2 / 종료 : 31\n",
      "주차할 차 이름을 입력하세요a\n",
      "현재 리스트 : ['a']\n",
      "메뉴 : 주차 : 1 / 출차 : 2 / 종료 : 31\n",
      "주차할 차 이름을 입력하세요b\n",
      "현재 리스트 : ['a', 'b']\n",
      "메뉴 : 주차 : 1 / 출차 : 2 / 종료 : 32\n",
      "현재 리스트 : ['a']\n",
      "메뉴 : 주차 : 1 / 출차 : 2 / 종료 : 32\n",
      "현재 리스트 : []\n",
      "메뉴 : 주차 : 1 / 출차 : 2 / 종료 : 32\n"
     ]
    },
    {
     "ename": "IndexError",
     "evalue": "pop from empty list",
     "output_type": "error",
     "traceback": [
      "\u001b[1;31m---------------------------------------------------------------------------\u001b[0m",
      "\u001b[1;31mIndexError\u001b[0m                                Traceback (most recent call last)",
      "\u001b[1;32m<ipython-input-6-ebdbf90b8e73>\u001b[0m in \u001b[0;36m<module>\u001b[1;34m()\u001b[0m\n\u001b[0;32m     13\u001b[0m \u001b[1;33m\u001b[0m\u001b[0m\n\u001b[0;32m     14\u001b[0m     \u001b[1;32mif\u001b[0m \u001b[0mmenu\u001b[0m \u001b[1;33m==\u001b[0m \u001b[1;34m\"2\"\u001b[0m \u001b[1;33m:\u001b[0m\u001b[1;33m\u001b[0m\u001b[0m\n\u001b[1;32m---> 15\u001b[1;33m         \u001b[0mcarList\u001b[0m\u001b[1;33m.\u001b[0m\u001b[0mpop\u001b[0m\u001b[1;33m(\u001b[0m\u001b[1;33m)\u001b[0m\u001b[1;33m\u001b[0m\u001b[0m\n\u001b[0m\u001b[0;32m     16\u001b[0m         \u001b[0mprint\u001b[0m\u001b[1;33m(\u001b[0m\u001b[1;34m\"현재 리스트 : %s\"\u001b[0m \u001b[1;33m%\u001b[0m \u001b[0mcarList\u001b[0m\u001b[1;33m)\u001b[0m\u001b[1;33m\u001b[0m\u001b[0m\n\u001b[0;32m     17\u001b[0m \u001b[1;33m\u001b[0m\u001b[0m\n",
      "\u001b[1;31mIndexError\u001b[0m: pop from empty list"
     ]
    }
   ],
   "source": [
    "#차 리스트\n",
    "carList = []\n",
    "#임시\n",
    "tmp = []\n",
    "\n",
    "while True :\n",
    "    menu = input(\"메뉴 : 주차 : 1 / 출차 : 2 / 종료 : 3\")\n",
    "\n",
    "    if menu == \"1\" :\n",
    "        carin = input(\"주차할 차 이름을 입력하세요\")\n",
    "        carList.append(carin)\n",
    "        print(\"현재 리스트 : %s\" % carList)\n",
    "        \n",
    "    if menu == \"2\" :\n",
    "        carList.pop()    \n",
    "        print(\"현재 리스트 : %s\" % carList)\n",
    "            \n",
    "    if menu == \"3\" :\n",
    "        break\n"
   ]
  },
  {
   "cell_type": "code",
   "execution_count": 1,
   "metadata": {},
   "outputs": [
    {
     "name": "stdout",
     "output_type": "stream",
     "text": [
      "메뉴 : 주차 : 1 / 출차 : 2 / 종료 : 31\n",
      "주차할 차 이름을 입력하세요a\n",
      "현재 리스트 : ['a']\n",
      "메뉴 : 주차 : 1 / 출차 : 2 / 종료 : 31\n",
      "주차할 차 이름을 입력하세요b\n",
      "현재 리스트 : ['a', 'b']\n",
      "메뉴 : 주차 : 1 / 출차 : 2 / 종료 : 31\n",
      "주차할 차 이름을 입력하세요c\n",
      "현재 리스트 : ['a', 'b', 'c']\n",
      "메뉴 : 주차 : 1 / 출차 : 2 / 종료 : 32\n",
      "뺄 차 이름 입력a\n",
      "현재 리스트 : ['b', 'c']\n",
      "메뉴 : 주차 : 1 / 출차 : 2 / 종료 : 33\n"
     ]
    }
   ],
   "source": [
    "#차 리스트\n",
    "carList = []\n",
    "#임시\n",
    "tmp = []\n",
    "\n",
    "while True :\n",
    "    menu = input(\"메뉴 : 주차 : 1 / 출차 : 2 / 종료 : 3\")\n",
    "\n",
    "    if menu == \"1\" :\n",
    "        carin = str(input(\"주차할 차 이름을 입력하세요\"))\n",
    "        carList.append(carin)\n",
    "        print(\"현재 리스트 : %s\" % carList)\n",
    "        \n",
    "    if menu == \"2\" :\n",
    "        carout = str(input(\"뺄 차 이름 입력\"))\n",
    "        while carList.index(carout) + 1 < len(carList) :\n",
    "            tmp.append(carList.pop())\n",
    "        carList.pop()    \n",
    "        while len(tmp)>0 :\n",
    "            carList.append(tmp.pop())\n",
    "        print(\"현재 리스트 : %s\" % carList)\n",
    "            \n",
    "    if menu == \"3\" :\n",
    "        break\n",
    "       "
   ]
  }
 ],
 "metadata": {
  "kernelspec": {
   "display_name": "Python 3",
   "language": "python",
   "name": "python3"
  },
  "language_info": {
   "codemirror_mode": {
    "name": "ipython",
    "version": 3
   },
   "file_extension": ".py",
   "mimetype": "text/x-python",
   "name": "python",
   "nbconvert_exporter": "python",
   "pygments_lexer": "ipython3",
   "version": "3.6.5"
  }
 },
 "nbformat": 4,
 "nbformat_minor": 2
}
