{
 "cells": [
  {
   "cell_type": "code",
   "execution_count": 1,
   "metadata": {},
   "outputs": [],
   "source": [
    "\n",
    "html=\"\"\"\n",
    "<html>\n",
    "     <head>\n",
    "          <title> test web </title>\n",
    "     </head>\n",
    "     <body>\n",
    "          <p align=\"center\"> text contents </p>\n",
    "          <img src=\"c:\\Python34\\Koala.jpg\" width=\"500\" height=\"300\">\n",
    "     </body>\n",
    "</html> \"\"\""
   ]
  },
  {
   "cell_type": "code",
   "execution_count": 3,
   "metadata": {},
   "outputs": [
    {
     "name": "stdout",
     "output_type": "stream",
     "text": [
      "<html>\n",
      " <head>\n",
      "  <title>\n",
      "   test web\n",
      "  </title>\n",
      " </head>\n",
      " <body>\n",
      "  <p align=\"center\">\n",
      "   text contents 1\n",
      "  </p>\n",
      "  <p align=\"right\">\n",
      "   text contents 2\n",
      "  </p>\n",
      "  <p align=\"left\">\n",
      "   text contents 3\n",
      "  </p>\n",
      "  <img height=\"300\" src=\"c:\\Python34\\Koala.jpg\" width=\"500\"/>\n",
      " </body>\n",
      "</html>\n",
      "\n"
     ]
    },
    {
     "name": "stderr",
     "output_type": "stream",
     "text": [
      "C:\\Users\\ysang\\Anaconda3\\lib\\site-packages\\bs4\\__init__.py:181: UserWarning: No parser was explicitly specified, so I'm using the best available HTML parser for this system (\"lxml\"). This usually isn't a problem, but if you run this code on another system, or in a different virtual environment, it may use a different parser and behave differently.\n",
      "\n",
      "The code that caused this warning is on line 193 of the file C:\\Users\\ysang\\Anaconda3\\lib\\runpy.py. To get rid of this warning, change code that looks like this:\n",
      "\n",
      " BeautifulSoup(YOUR_MARKUP})\n",
      "\n",
      "to this:\n",
      "\n",
      " BeautifulSoup(YOUR_MARKUP, \"lxml\")\n",
      "\n",
      "  markup_type=markup_type))\n"
     ]
    }
   ],
   "source": [
    "from bs4 import BeautifulSoup\n",
    "bs=BeautifulSoup(html)\n",
    "print(bs.prettify())"
   ]
  },
  {
   "cell_type": "code",
   "execution_count": 3,
   "metadata": {},
   "outputs": [
    {
     "data": {
      "text/plain": [
       "<title> test web </title>"
      ]
     },
     "execution_count": 3,
     "metadata": {},
     "output_type": "execute_result"
    }
   ],
   "source": [
    "bs.find(\"title\")"
   ]
  },
  {
   "cell_type": "code",
   "execution_count": 4,
   "metadata": {},
   "outputs": [
    {
     "data": {
      "text/plain": [
       "<p align=\"center\"> text contents </p>"
      ]
     },
     "execution_count": 4,
     "metadata": {},
     "output_type": "execute_result"
    }
   ],
   "source": [
    " bs.find('p')"
   ]
  },
  {
   "cell_type": "code",
   "execution_count": 5,
   "metadata": {},
   "outputs": [],
   "source": [
    "bs.find('a') #HTML 코드 내 a는 존재하지 않음"
   ]
  },
  {
   "cell_type": "code",
   "execution_count": 1,
   "metadata": {},
   "outputs": [],
   "source": [
    "html=\"\"\"\n",
    "<html>\n",
    "     <head>\n",
    "          <title> test web </title>\n",
    "     </head>\n",
    "     <body>\n",
    "          <p align=\"center\"> text contents 1 </p>\n",
    "          <p align=\"right\">  text contents 2 </p>\n",
    "          <p align=\"left\">   text contents 3 </p>\n",
    "          <img src=\"c:\\Python34\\Koala.jpg\" width=\"500\" height=\"300\">\n",
    "     </body>\n",
    "</html> \"\"\""
   ]
  },
  {
   "cell_type": "code",
   "execution_count": 4,
   "metadata": {},
   "outputs": [
    {
     "data": {
      "text/plain": [
       "<p align=\"center\"> text contents 1 </p>"
      ]
     },
     "execution_count": 4,
     "metadata": {},
     "output_type": "execute_result"
    }
   ],
   "source": [
    "bs.find('p',align=\"center\")"
   ]
  },
  {
   "cell_type": "code",
   "execution_count": 6,
   "metadata": {},
   "outputs": [],
   "source": [
    "html=\"\"\"\n",
    "<html>\n",
    "     <head>\n",
    "          <title> test web </title>\n",
    "     </head>\n",
    "     <body>\n",
    "          <p align=\"center\"> text contents 1 </p>\n",
    "          <p align=\"center\"> text contents 2 </p>\n",
    "          <p align=\"center\"> text contents 3 </p>\n",
    "          <img src=\"c:\\Python34\\Koala.jpg\" width=\"500\" height=\"300\">\n",
    "     </body>\n",
    "</html> \n",
    "\"\"\""
   ]
  },
  {
   "cell_type": "code",
   "execution_count": 7,
   "metadata": {},
   "outputs": [
    {
     "data": {
      "text/plain": [
       "[<p align=\"center\"> text contents 1 </p>,\n",
       " <p align=\"right\">  text contents 2 </p>,\n",
       " <p align=\"left\">   text contents 3 </p>]"
      ]
     },
     "execution_count": 7,
     "metadata": {},
     "output_type": "execute_result"
    }
   ],
   "source": [
    "bs.find_all('p')"
   ]
  },
  {
   "cell_type": "code",
   "execution_count": 10,
   "metadata": {},
   "outputs": [
    {
     "data": {
      "text/plain": [
       "<head>\n",
       "<title> test web </title>\n",
       "</head>"
      ]
     },
     "execution_count": 10,
     "metadata": {},
     "output_type": "execute_result"
    }
   ],
   "source": [
    "head_tag = bs.find('head')\n",
    "head_tag"
   ]
  },
  {
   "cell_type": "code",
   "execution_count": 11,
   "metadata": {},
   "outputs": [
    {
     "data": {
      "text/plain": [
       "<title> test web </title>"
      ]
     },
     "execution_count": 11,
     "metadata": {},
     "output_type": "execute_result"
    }
   ],
   "source": [
    "head_tag.find('title')"
   ]
  },
  {
   "cell_type": "code",
   "execution_count": 13,
   "metadata": {},
   "outputs": [],
   "source": [
    "head_tag.find('p') #자신의 태그 안에 없는 태그"
   ]
  },
  {
   "cell_type": "code",
   "execution_count": 16,
   "metadata": {},
   "outputs": [
    {
     "name": "stdout",
     "output_type": "stream",
     "text": [
      "<p align=\"center\"> text contents 1 </p>\n",
      "<p align=\"right\">  text contents 2 </p>\n",
      "<p align=\"left\">   text contents 3 </p>\n",
      "<img height=\"300\" src=\"c:\\Python34\\Koala.jpg\" width=\"500\"/>\n"
     ]
    }
   ],
   "source": [
    "body_tag = bs.find('body')\n",
    "list1 = body_tag.find_all(['p','img'])\n",
    "for tag in list1:\n",
    "    print(tag)"
   ]
  },
  {
   "cell_type": "code",
   "execution_count": 17,
   "metadata": {},
   "outputs": [
    {
     "data": {
      "text/plain": [
       "[<p align=\"center\"> text contents 1 </p>,\n",
       " <p align=\"right\">  text contents 2 </p>,\n",
       " <p align=\"left\">   text contents 3 </p>]"
      ]
     },
     "execution_count": 17,
     "metadata": {},
     "output_type": "execute_result"
    }
   ],
   "source": [
    "import re\n",
    "tags = bs.find_all(re.compile(\"^p\"))\n",
    "tags"
   ]
  },
  {
   "cell_type": "code",
   "execution_count": 36,
   "metadata": {},
   "outputs": [
    {
     "name": "stdout",
     "output_type": "stream",
     "text": [
      "검색어를 입력하세요 : 윤식당\n",
      "https://openapi.naver.com/v1/search/blog.xml?sort=sim&start=1&display=100&query=%EC%9C%A4%EC%8B%9D%EB%8B%B9\n"
     ]
    }
   ],
   "source": [
    "#네이버 웹 크롤링\n",
    "\n",
    "import urllib.request\n",
    "import urllib.parse\n",
    "from bs4 import BeautifulSoup\n",
    "defaultURL = 'https://openapi.naver.com/v1/search/blog.xml?'\n",
    "sort = 'sort=sim'\n",
    "start = '&start=1'\n",
    "display = '&display=100'\n",
    "query = '&query='+urllib.parse.quote_plus(str(input(\"검색어를 입력하세요 : \")))\n",
    "fullURL = defaultURL + sort + start + display + query\n",
    "print(fullURL)\n",
    "file = open(\"C:\\\\Users\\\\ysang\\\\AppData\\\\Local\\\\Programs\\\\Python\\\\Python36\\\\naver_news3.txt\",\"w\",encoding='utf-8')\n",
    "headers={\n",
    "    'Host':'openapi.naver.com',\n",
    "    'User-Agent' : 'curl/7.43.0',\n",
    "    'Accept':'*/*',\n",
    "    'Content-Type':'application/xml',\n",
    "    'X-Naver-Client-Id' : '8Ns_1Ml4EJEnZPpWkjfP',\n",
    "    'X-Naver-Client-Secret':'EY7gtN9qnP'\n",
    "    }\n",
    "req = urllib.request.Request(fullURL,headers=headers)\n",
    "f=urllib.request.urlopen(req)\n",
    "resultXML = f.read()\n",
    "xmlsoup = BeautifulSoup(resultXML,'html.parser')\n",
    "\n",
    "items = xmlsoup.find_all('item')\n",
    "\n",
    "for item in items :\n",
    "    file.write('-------------------------------\\n')\n",
    "    file.write('블로그글제목 : ' + item.title.get_text(strip=True) + '\\n')\n",
    "    file.write('요약내용 : ' + item.description.get_text(strip=True) + '\\n')\n",
    "    file.write('\\n')\n",
    "file.close()\n"
   ]
  },
  {
   "cell_type": "code",
   "execution_count": null,
   "metadata": {},
   "outputs": [],
   "source": []
  }
 ],
 "metadata": {
  "kernelspec": {
   "display_name": "Python 3",
   "language": "python",
   "name": "python3"
  },
  "language_info": {
   "codemirror_mode": {
    "name": "ipython",
    "version": 3
   },
   "file_extension": ".py",
   "mimetype": "text/x-python",
   "name": "python",
   "nbconvert_exporter": "python",
   "pygments_lexer": "ipython3",
   "version": "3.6.5"
  }
 },
 "nbformat": 4,
 "nbformat_minor": 2
}
